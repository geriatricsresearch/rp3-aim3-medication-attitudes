{
 "cells": [
  {
   "cell_type": "markdown",
   "metadata": {},
   "source": [
    "# Analysis\n",
    "This notebook will serve the purpose of analyzing general characteristics of the dataset outside of the regression modeling. The dataset here are the same cleaned data used for the modeling step."
   ]
  },
  {
   "cell_type": "code",
   "execution_count": 1,
   "metadata": {},
   "outputs": [],
   "source": [
    "import pandas as pd\n",
    "import numpy as np\n",
    "\n",
    "from matplotlib_venn import venn2, venn2_circles, venn2_unweighted\n",
    "from matplotlib_venn import venn3, venn3_circles\n",
    "from matplotlib import pyplot as plt\n",
    "%matplotlib inline\n",
    "plt.rcParams['figure.figsize'] = [15, 7]"
   ]
  },
  {
   "cell_type": "code",
   "execution_count": 2,
   "metadata": {},
   "outputs": [
    {
     "name": "stdout",
     "output_type": "stream",
     "text": [
      "\n",
      "  ___  ____  ____  ____  ____ ©\n",
      " /__    /   ____/   /   ____/      17.0\n",
      "___/   /   /___/   /   /___/       MP—Parallel Edition\n",
      "\n",
      " Statistics and Data Science       Copyright 1985-2021 StataCorp LLC\n",
      "                                   StataCorp\n",
      "                                   4905 Lakeway Drive\n",
      "                                   College Station, Texas 77845 USA\n",
      "                                   800-STATA-PC        https://www.stata.com\n",
      "                                   979-696-4600        stata@stata.com\n",
      "\n",
      "Stata license: Single-user 4-core , expiring 20 Jan 2022\n",
      "Serial number: 501709220007\n",
      "  Licensed to: Edie Espejo\n",
      "               \n",
      "\n",
      "Notes:\n",
      "      1. Unicode is supported; see help unicode_advice.\n",
      "      2. More than 2 billion observations are allowed; see help obs_advice.\n",
      "      3. Maximum number of variables is set to 5,000; see help set_maxvar.\n"
     ]
    }
   ],
   "source": [
    "import stata_setup\n",
    "\n",
    "stata_setup.config(\"/Applications/Stata\", \"mp\")"
   ]
  },
  {
   "cell_type": "markdown",
   "metadata": {},
   "source": [
    "## Loading and Cleaning Data\n",
    "The <a href='https://www.nhats.org/sites/default/files/2020-06/01_IS_Round6.pdf'>Interview Setup</a> questions provide information about a proxy respondent if there is one."
   ]
  },
  {
   "cell_type": "code",
   "execution_count": 3,
   "metadata": {},
   "outputs": [],
   "source": [
    "%%stata\n",
    "clear"
   ]
  },
  {
   "cell_type": "code",
   "execution_count": 4,
   "metadata": {},
   "outputs": [
    {
     "name": "stdout",
     "output_type": "stream",
     "text": [
      "\n",
      ". use \"../data/step-2/cleaned-data.dta\"\n",
      "(Written by R)\n",
      "\n",
      ". \n",
      ". svyset w6varunit [pweight=w6anfinwgt0], strata(w6varstrat)\n",
      "\n",
      "Sampling weights: w6anfinwgt0\n",
      "             VCE: linearized\n",
      "     Single unit: missing\n",
      "        Strata 1: w6varstrat\n",
      " Sampling unit 1: w6varunit\n",
      "           FPC 1: <zero>\n",
      "\n",
      ". \n",
      ". recode is6prxyrelat (6/30 32/92 =6), gen (prxyrelat_new)\n",
      "(18 differences between is6prxyrelat and prxyrelat_new)\n",
      "\n",
      ". label variable prxyrelat_new \"proxy-relationship\"\n",
      "\n",
      ". label define prxyrelat 2 \"spouse/partner\" 3 \"daughter\" 4 \"son\" 5 \"daughter-in\n",
      "> -law\" 31 \"paid aide/employee\" 6 \"other\"\n",
      "\n",
      ". label values prxyrelat_new prxyrelat\n",
      "\n",
      ". \n",
      ". label variable is6famrrutin \"how familiar with routine\"\n",
      "\n",
      ". label define is6famrrutin 1 \"very familiar\" 2 \"somewhat familiar\" 3 \"a little\n",
      ">  familiar\" 4 \"not at all/refused/don't know\"\n",
      "\n",
      ". label values is6famrrutin is6famrrutin\n",
      "\n",
      ". \n"
     ]
    }
   ],
   "source": [
    "%%stata\n",
    "use \"../data/step-2/cleaned-data.dta\"\n",
    "\n",
    "svyset w6varunit [pweight=w6anfinwgt0], strata(w6varstrat)\n",
    "\n",
    "recode is6prxyrelat (6/30 32/92 =6), gen (prxyrelat_new)\n",
    "label variable prxyrelat_new \"proxy-relationship\"\n",
    "label define prxyrelat 2 \"spouse/partner\" 3 \"daughter\" 4 \"son\" 5 \"daughter-in-law\" 31 \"paid aide/employee\" 6 \"other\"\n",
    "label values prxyrelat_new prxyrelat\n",
    "\n",
    "label variable is6famrrutin \"how familiar with routine\"\n",
    "label define is6famrrutin 1 \"very familiar\" 2 \"somewhat familiar\" 3 \"a little familiar\" 4 \"not at all/refused/don't know\"\n",
    "label values is6famrrutin is6famrrutin"
   ]
  },
  {
   "cell_type": "code",
   "execution_count": 5,
   "metadata": {},
   "outputs": [
    {
     "name": "stdout",
     "output_type": "stream",
     "text": [
      "\n",
      ". \n",
      ". gen dementia_diagnosis=.\n",
      "(2,096 missing values generated)\n",
      "\n",
      ". replace dementia_diagnosis=0 if hc6disescn9==0\n",
      "(1,935 real changes made)\n",
      "\n",
      ". replace dementia_diagnosis=1 if hc6disescn9==7\n",
      "(0 real changes made)\n",
      "\n",
      ". replace dementia_diagnosis=1 if hc6disescn9==1\n",
      "(161 real changes made)\n",
      "\n",
      ". \n",
      ". label variable dementia_diagnosis \"diagnosed with dementia\"\n",
      "\n",
      ". label define dementia_diagnosis_lab 0 \"not diagnosed\" 1 \"diagnosed\"\n",
      "\n",
      ". label values dementia_diagnosis dementia_diagnosis_lab\n",
      "\n",
      ". \n"
     ]
    }
   ],
   "source": [
    "%%stata\n",
    "\n",
    "gen dementia_diagnosis=.\n",
    "replace dementia_diagnosis=0 if hc6disescn9==0\n",
    "replace dementia_diagnosis=1 if hc6disescn9==7\n",
    "replace dementia_diagnosis=1 if hc6disescn9==1\n",
    "\n",
    "label variable dementia_diagnosis \"diagnosed with dementia\"\n",
    "label define dementia_diagnosis_lab 0 \"not diagnosed\" 1 \"diagnosed\"\n",
    "label values dementia_diagnosis dementia_diagnosis_lab"
   ]
  },
  {
   "cell_type": "markdown",
   "metadata": {},
   "source": [
    "## Who is aware of their dementia diagnosis?\n",
    "**Results for the full module:** For those who had \"no dementia\", 100% were not diagnosed with dementia (previously). Similarly, those with \"possible dementia\" were not diagnosed with dementia. For the group that had \"probable\" dementia, 61% were diagnosed and 39% were not."
   ]
  },
  {
   "cell_type": "code",
   "execution_count": 6,
   "metadata": {},
   "outputs": [
    {
     "name": "stdout",
     "output_type": "stream",
     "text": [
      "(running tabulate on estimation sample)\n",
      "\n",
      "Number of strata =  56                            Number of obs   =      2,096\n",
      "Number of PSUs   = 112                            Population size = 13,039,732\n",
      "                                                  Design df       =         56\n",
      "\n",
      "--------------------------------------\n",
      "diagnosed |\n",
      "with      |         r6demclas         \n",
      "dementia  |     1      2      3  Total\n",
      "----------+---------------------------\n",
      " not diag | .3927      1      1  .9482\n",
      "          |   100    178   1657   1935\n",
      "          | \n",
      " diagnose | .6073      0      0  .0518\n",
      "          |   161      0      0    161\n",
      "          | \n",
      "    Total |     1      1      1      1\n",
      "          |   261    178   1657   2096\n",
      "--------------------------------------\n",
      "Key: Column proportion\n",
      "     Number of observations\n",
      "\n",
      "  Pearson:\n",
      "    Uncorrected   chi2(2)         = 1227.8636\n",
      "    Design-based  F(1.88, 105.53) =  612.0137     P = 0.0000\n"
     ]
    }
   ],
   "source": [
    "%%stata\n",
    "svy: tab dementia_diagnosis r6demclas, obs col"
   ]
  },
  {
   "cell_type": "markdown",
   "metadata": {},
   "source": [
    "**Results for our subpopulation:** According to the below table, of those who had \"possible\" dementia, all of them were not previously diagnosed with dementia. Of those who had \"probable\" dementia, approximately 61% reported a previous diagnosis."
   ]
  },
  {
   "cell_type": "code",
   "execution_count": 7,
   "metadata": {},
   "outputs": [
    {
     "name": "stdout",
     "output_type": "stream",
     "text": [
      "(running tabulate on estimation sample)\n",
      "\n",
      "Number of strata =  55                           Number of obs   =       2,091\n",
      "Number of PSUs   = 110                           Population size =  12,999,949\n",
      "                                                 Subpop. no. obs =         439\n",
      "                                                 Subpop. size    = 1,931,985.4\n",
      "                                                 Design df       =          55\n",
      "\n",
      "----------------------------------------\n",
      "diagnosed |\n",
      "with      |       dementia status       \n",
      "dementia  | possible  probable     Total\n",
      "----------+-----------------------------\n",
      " not diag |        1     .3927     .6501\n",
      "          |      178       100       278\n",
      "          | \n",
      " diagnose |        0     .6073     .3499\n",
      "          |        0       161       161\n",
      "          | \n",
      "    Total |        1         1         1\n",
      "          |      178       261       439\n",
      "----------------------------------------\n",
      "Key: Column proportion\n",
      "     Number of observations\n",
      "\n",
      "  Pearson:\n",
      "    Uncorrected   chi2(1)         =  827.9058\n",
      "    Design-based  F(1, 55)        =  160.8233     P = 0.0000\n",
      "\n",
      "Note: 1 stratum omitted because it contains no subpopulation members.\n"
     ]
    }
   ],
   "source": [
    "%%stata\n",
    "svy, subpop(subpop): tab dementia_diagnosis dementia, obs col"
   ]
  },
  {
   "cell_type": "markdown",
   "metadata": {},
   "source": [
    "## Who is the proxy respondent?\n",
    "Proxy respondents for our subsample are typically daughters (37.2%) and spouses (31.5%)."
   ]
  },
  {
   "cell_type": "code",
   "execution_count": 8,
   "metadata": {},
   "outputs": [
    {
     "name": "stdout",
     "output_type": "stream",
     "text": [
      "\n",
      ". quietly: svy, subpop(proxy): tab prxyrelat_new if prxyrelat_new != -1\n",
      "\n",
      ". quietly: ereturn list\n",
      "\n",
      ". \n"
     ]
    }
   ],
   "source": [
    "%%stata -eret myeret0\n",
    "quietly: svy, subpop(proxy): tab prxyrelat_new if prxyrelat_new != -1\n",
    "quietly: ereturn list"
   ]
  },
  {
   "cell_type": "code",
   "execution_count": 9,
   "metadata": {},
   "outputs": [
    {
     "data": {
      "text/html": [
       "<div>\n",
       "<style scoped>\n",
       "    .dataframe tbody tr th:only-of-type {\n",
       "        vertical-align: middle;\n",
       "    }\n",
       "\n",
       "    .dataframe tbody tr th {\n",
       "        vertical-align: top;\n",
       "    }\n",
       "\n",
       "    .dataframe thead th {\n",
       "        text-align: right;\n",
       "    }\n",
       "</style>\n",
       "<table border=\"1\" class=\"dataframe\">\n",
       "  <thead>\n",
       "    <tr style=\"text-align: right;\">\n",
       "      <th></th>\n",
       "      <th>Observed</th>\n",
       "      <th>Proportion</th>\n",
       "      <th>Proxy Relationship</th>\n",
       "    </tr>\n",
       "  </thead>\n",
       "  <tbody>\n",
       "    <tr>\n",
       "      <th>1</th>\n",
       "      <td>52.0</td>\n",
       "      <td>0.370</td>\n",
       "      <td>daughter</td>\n",
       "    </tr>\n",
       "    <tr>\n",
       "      <th>0</th>\n",
       "      <td>30.0</td>\n",
       "      <td>0.313</td>\n",
       "      <td>spouse/partner</td>\n",
       "    </tr>\n",
       "    <tr>\n",
       "      <th>2</th>\n",
       "      <td>19.0</td>\n",
       "      <td>0.132</td>\n",
       "      <td>son</td>\n",
       "    </tr>\n",
       "    <tr>\n",
       "      <th>4</th>\n",
       "      <td>18.0</td>\n",
       "      <td>0.114</td>\n",
       "      <td>other</td>\n",
       "    </tr>\n",
       "    <tr>\n",
       "      <th>5</th>\n",
       "      <td>7.0</td>\n",
       "      <td>0.045</td>\n",
       "      <td>paid aid</td>\n",
       "    </tr>\n",
       "    <tr>\n",
       "      <th>3</th>\n",
       "      <td>3.0</td>\n",
       "      <td>0.026</td>\n",
       "      <td>daughter-in-law</td>\n",
       "    </tr>\n",
       "  </tbody>\n",
       "</table>\n",
       "</div>"
      ],
      "text/plain": [
       "   Observed  Proportion Proxy Relationship\n",
       "1      52.0       0.370           daughter\n",
       "0      30.0       0.313     spouse/partner\n",
       "2      19.0       0.132                son\n",
       "4      18.0       0.114              other\n",
       "5       7.0       0.045           paid aid\n",
       "3       3.0       0.026    daughter-in-law"
      ]
     },
     "execution_count": 9,
     "metadata": {},
     "output_type": "execute_result"
    }
   ],
   "source": [
    "# label define prxyrelat 2 \"spouse/partner\" 3 \"daughter\" 4 \"son\" 5 \"daughter-in-law\" 31 \"paid aide/employee\" 6 \"other\"\n",
    "\n",
    "is6prxyrelat_dict = {'Observed': myeret0['e(Obs)'].flatten(), 'Proportion': myeret0['e(b)'].flatten()}\n",
    "is6prxyrelat_df = pd.DataFrame(is6prxyrelat_dict)\n",
    "is6prxyrelat_df['Proxy Relationship'] = ['spouse/partner', 'daughter', 'son', 'daughter-in-law', 'other', 'paid aid']\n",
    "is6prxyrelat_df = is6prxyrelat_df.round({'Observed': 0, 'Proportion': 3})\n",
    "is6prxyrelat_df.sort_values('Proportion', ascending=False)"
   ]
  },
  {
   "cell_type": "code",
   "execution_count": 10,
   "metadata": {},
   "outputs": [],
   "source": [
    "is6prxyrelat_df.sort_values('Proportion', ascending=False).to_csv('../tables/clean-csv/proxy-relationship.csv')"
   ]
  },
  {
   "cell_type": "markdown",
   "metadata": {},
   "source": [
    "## How familiar with routine?\n",
    "The majority of proxies (88.6%) report they are very familiar with their respondent's routine."
   ]
  },
  {
   "cell_type": "code",
   "execution_count": 11,
   "metadata": {},
   "outputs": [
    {
     "name": "stdout",
     "output_type": "stream",
     "text": [
      "\n",
      ". quietly: svy, subpop(proxy): tab is6famrrutin if is6famrrutin != -1\n",
      "\n",
      ". quietly: ereturn list\n",
      "\n",
      ". \n"
     ]
    }
   ],
   "source": [
    "%%stata -eret myeret\n",
    "quietly: svy, subpop(proxy): tab is6famrrutin if is6famrrutin != -1\n",
    "quietly: ereturn list"
   ]
  },
  {
   "cell_type": "code",
   "execution_count": 12,
   "metadata": {},
   "outputs": [
    {
     "data": {
      "text/html": [
       "<div>\n",
       "<style scoped>\n",
       "    .dataframe tbody tr th:only-of-type {\n",
       "        vertical-align: middle;\n",
       "    }\n",
       "\n",
       "    .dataframe tbody tr th {\n",
       "        vertical-align: top;\n",
       "    }\n",
       "\n",
       "    .dataframe thead th {\n",
       "        text-align: right;\n",
       "    }\n",
       "</style>\n",
       "<table border=\"1\" class=\"dataframe\">\n",
       "  <thead>\n",
       "    <tr style=\"text-align: right;\">\n",
       "      <th></th>\n",
       "      <th>Familiarity with Routine</th>\n",
       "      <th>Observed</th>\n",
       "      <th>Proportion</th>\n",
       "    </tr>\n",
       "  </thead>\n",
       "  <tbody>\n",
       "    <tr>\n",
       "      <th>0</th>\n",
       "      <td>Very familiar</td>\n",
       "      <td>116.0</td>\n",
       "      <td>0.886</td>\n",
       "    </tr>\n",
       "    <tr>\n",
       "      <th>1</th>\n",
       "      <td>Somewhat familiar</td>\n",
       "      <td>12.0</td>\n",
       "      <td>0.105</td>\n",
       "    </tr>\n",
       "    <tr>\n",
       "      <th>2</th>\n",
       "      <td>A little familiar</td>\n",
       "      <td>1.0</td>\n",
       "      <td>0.008</td>\n",
       "    </tr>\n",
       "  </tbody>\n",
       "</table>\n",
       "</div>"
      ],
      "text/plain": [
       "  Familiarity with Routine  Observed  Proportion\n",
       "0            Very familiar     116.0       0.886\n",
       "1        Somewhat familiar      12.0       0.105\n",
       "2        A little familiar       1.0       0.008"
      ]
     },
     "execution_count": 12,
     "metadata": {},
     "output_type": "execute_result"
    }
   ],
   "source": [
    "# label define is6famrrutin 1 \"very familiar\" 2 \"somewhat familiar\" 3 \"a little familiar\" 4 \"not at all/refused/don't know\"\n",
    "\n",
    "is6famrrutin_dict = {'Familiarity with Routine': np.array(['Very familiar', 'Somewhat familiar', 'A little familiar']),\n",
    "                     'Observed': myeret['e(Obs)'].flatten(),\n",
    "                     'Proportion': myeret['e(b)'].flatten()}\n",
    "is6famrrutin_df = pd.DataFrame(is6famrrutin_dict)\n",
    "is6famrrutin_df = is6famrrutin_df.round({'Observed': 0, 'Proportion': 3})\n",
    "is6famrrutin_df"
   ]
  },
  {
   "cell_type": "code",
   "execution_count": null,
   "metadata": {},
   "outputs": [],
   "source": [
    "is6famrrutin_df.sort_values('Proportion', ascending=False).to_csv('../tables/clean-csv/routine-familiarity.csv')"
   ]
  },
  {
   "cell_type": "markdown",
   "metadata": {},
   "source": [
    "## Breakdown of Proxy Status and Dementia Classifcation\n",
    "Of those who were classified as \"probable dementia\", i.e. `r6demclass==1`, 44.7% had a proxy respondent. Of those who were classified with \"no dementia\", i.e. `r6demclas==3`, 0.6% had a proxy respondent."
   ]
  },
  {
   "cell_type": "code",
   "execution_count": 13,
   "metadata": {},
   "outputs": [
    {
     "name": "stdout",
     "output_type": "stream",
     "text": [
      "(running tabulate on estimation sample)\n",
      "\n",
      "Number of strata =  56                            Number of obs   =      2,096\n",
      "Number of PSUs   = 112                            Population size = 13,039,732\n",
      "                                                  Design df       =         56\n",
      "\n",
      "----------------------------------------\n",
      "          |         proxy status        \n",
      "r6demclas | sample p  proxy re     Total\n",
      "----------+-----------------------------\n",
      "        1 |    .5514     .4486         1\n",
      "        2 |    .9801     .0199         1\n",
      "        3 |    .9939     .0061         1\n",
      "          | \n",
      "    Total |    .9553     .0447         1\n",
      "----------------------------------------\n",
      "Key: Row proportion\n",
      "\n",
      "  Pearson:\n",
      "    Uncorrected   chi2(2)         =  747.5198\n",
      "    Design-based  F(1.74, 97.36)  =  332.0285     P = 0.0000\n"
     ]
    }
   ],
   "source": [
    "%%stata\n",
    "svy: tab r6demclas proxy, row"
   ]
  },
  {
   "cell_type": "markdown",
   "metadata": {},
   "source": [
    "85.55% of all subjects in our subsample who had proxy respondents had **probable** dementia. Those who responded for themselves for the most part were in the **no** dementia category."
   ]
  },
  {
   "cell_type": "code",
   "execution_count": 14,
   "metadata": {},
   "outputs": [
    {
     "name": "stdout",
     "output_type": "stream",
     "text": [
      "(running tabulate on estimation sample)\n",
      "\n",
      "Number of strata =  56                            Number of obs   =      2,096\n",
      "Number of PSUs   = 112                            Population size = 13,039,732\n",
      "                                                  Design df       =         56\n",
      "\n",
      "----------------------------------------\n",
      "          |         proxy status        \n",
      "r6demclas | sample p  proxy re     Total\n",
      "----------+-----------------------------\n",
      "        1 |    .0493     .8563     .0854\n",
      "        2 |    .0644     .0279     .0628\n",
      "        3 |    .8863     .1158     .8518\n",
      "          | \n",
      "    Total |        1         1         1\n",
      "----------------------------------------\n",
      "Key: Column proportion\n",
      "\n",
      "  Pearson:\n",
      "    Uncorrected   chi2(2)         =  747.5198\n",
      "    Design-based  F(1.74, 97.36)  =  332.0285     P = 0.0000\n"
     ]
    }
   ],
   "source": [
    "%%stata\n",
    "svy: tab r6demclas proxy, col"
   ]
  },
  {
   "cell_type": "markdown",
   "metadata": {},
   "source": [
    "## Regular Medications and Belief in \"Taking Too Much\"\n",
    "Within our subet, 44.59% are taking less than 6 regular medications and the remaining 55.41% are taking 6 or more. Of those who believe to be consuming too much medication, 73.56% of them are taking 6 or more regular medications."
   ]
  },
  {
   "cell_type": "code",
   "execution_count": 15,
   "metadata": {},
   "outputs": [
    {
     "name": "stdout",
     "output_type": "stream",
     "text": [
      "\n",
      ". quietly: collect: svy, subpop(subpop): tab regularmeds\n",
      "\n",
      ". quietly: ereturn list\n",
      "\n",
      ". \n"
     ]
    }
   ],
   "source": [
    "%%stata -eret regmeds_a\n",
    "quietly: collect: svy, subpop(subpop): tab regularmeds\n",
    "quietly: ereturn list"
   ]
  },
  {
   "cell_type": "code",
   "execution_count": 16,
   "metadata": {},
   "outputs": [
    {
     "name": "stdout",
     "output_type": "stream",
     "text": [
      "\n",
      ". quietly: collect: svy, subpop(subpop): tab regularmeds if binaryattitude3==1\n",
      "\n",
      ". quietly: ereturn list \n",
      "\n",
      ". \n"
     ]
    }
   ],
   "source": [
    "%%stata -eret regmeds_b\n",
    "quietly: collect: svy, subpop(subpop): tab regularmeds if binaryattitude3==1\n",
    "quietly: ereturn list "
   ]
  },
  {
   "cell_type": "code",
   "execution_count": 17,
   "metadata": {},
   "outputs": [],
   "source": [
    "regmeds_dict = {'Regular Medications': np.array(['Less Than 6', '6 or more']),\n",
    "                'Overall': regmeds_a['e(b)'].flatten(),\n",
    "                'Believes Taking Excess': regmeds_b['e(b)'].flatten()}"
   ]
  },
  {
   "cell_type": "code",
   "execution_count": 18,
   "metadata": {},
   "outputs": [
    {
     "data": {
      "text/html": [
       "<div>\n",
       "<style scoped>\n",
       "    .dataframe tbody tr th:only-of-type {\n",
       "        vertical-align: middle;\n",
       "    }\n",
       "\n",
       "    .dataframe tbody tr th {\n",
       "        vertical-align: top;\n",
       "    }\n",
       "\n",
       "    .dataframe thead th {\n",
       "        text-align: right;\n",
       "    }\n",
       "</style>\n",
       "<table border=\"1\" class=\"dataframe\">\n",
       "  <thead>\n",
       "    <tr style=\"text-align: right;\">\n",
       "      <th></th>\n",
       "      <th>Regular Medications</th>\n",
       "      <th>Overall</th>\n",
       "      <th>Believes Taking Excess</th>\n",
       "    </tr>\n",
       "  </thead>\n",
       "  <tbody>\n",
       "    <tr>\n",
       "      <th>0</th>\n",
       "      <td>Less Than 6</td>\n",
       "      <td>0.446851</td>\n",
       "      <td>0.270369</td>\n",
       "    </tr>\n",
       "    <tr>\n",
       "      <th>1</th>\n",
       "      <td>6 or more</td>\n",
       "      <td>0.553149</td>\n",
       "      <td>0.729631</td>\n",
       "    </tr>\n",
       "  </tbody>\n",
       "</table>\n",
       "</div>"
      ],
      "text/plain": [
       "  Regular Medications   Overall  Believes Taking Excess\n",
       "0         Less Than 6  0.446851                0.270369\n",
       "1           6 or more  0.553149                0.729631"
      ]
     },
     "execution_count": 18,
     "metadata": {},
     "output_type": "execute_result"
    }
   ],
   "source": [
    "pd.DataFrame(regmeds_dict)"
   ]
  },
  {
   "cell_type": "markdown",
   "metadata": {},
   "source": [
    "## Pills Maximum\n",
    "Those in our subset are nearly split into equal halves when it comes to maximum pills they would take on a regular basis. 49.66% said they were uncomfortable taking more than 5 pills. The remaining 50.34% would be willing to take 5 or more pills regularly according to a photo display of answer choices."
   ]
  },
  {
   "cell_type": "code",
   "execution_count": 19,
   "metadata": {},
   "outputs": [],
   "source": [
    "import os\n",
    "plotting_dir = '../tables/plottables'\n",
    "if not os.path.exists(plotting_dir):\n",
    "    os.makedirs(plotting_dir)"
   ]
  },
  {
   "cell_type": "code",
   "execution_count": 20,
   "metadata": {},
   "outputs": [],
   "source": [
    "%%stata\n",
    "quietly: tabout pillsmax if subpop using \"../tables/plottables/pillsmax.csv\", svy cells(cell) format(4) replace"
   ]
  },
  {
   "cell_type": "code",
   "execution_count": 21,
   "metadata": {},
   "outputs": [
    {
     "data": {
      "text/html": [
       "<div>\n",
       "<style scoped>\n",
       "    .dataframe tbody tr th:only-of-type {\n",
       "        vertical-align: middle;\n",
       "    }\n",
       "\n",
       "    .dataframe tbody tr th {\n",
       "        vertical-align: top;\n",
       "    }\n",
       "\n",
       "    .dataframe thead th {\n",
       "        text-align: right;\n",
       "    }\n",
       "</style>\n",
       "<table border=\"1\" class=\"dataframe\">\n",
       "  <thead>\n",
       "    <tr style=\"text-align: right;\">\n",
       "      <th></th>\n",
       "      <th>Disagree</th>\n",
       "      <th>Agree</th>\n",
       "      <th>Total</th>\n",
       "    </tr>\n",
       "  </thead>\n",
       "  <tbody>\n",
       "    <tr>\n",
       "      <th>uncomfortable taking 5 or more pills</th>\n",
       "      <td>disagree</td>\n",
       "      <td>agree</td>\n",
       "      <td>Total</td>\n",
       "    </tr>\n",
       "    <tr>\n",
       "      <th>Prop.</th>\n",
       "      <td>0.4957</td>\n",
       "      <td>0.5043</td>\n",
       "      <td>1</td>\n",
       "    </tr>\n",
       "  </tbody>\n",
       "</table>\n",
       "</div>"
      ],
      "text/plain": [
       "                                      Disagree   Agree  Total\n",
       "uncomfortable taking 5 or more pills  disagree   agree  Total\n",
       "Prop.                                   0.4957  0.5043      1"
      ]
     },
     "execution_count": 21,
     "metadata": {},
     "output_type": "execute_result"
    }
   ],
   "source": [
    "pillsmax = pd.read_table('../tables/plottables/pillsmax.csv').T\n",
    "pillsmax.columns = ['Disagree', 'Agree', 'Total']\n",
    "pillsmax"
   ]
  },
  {
   "cell_type": "markdown",
   "metadata": {},
   "source": [
    "## Pills Maximum and Regular Medications\n",
    "As we expect, when we look at the percentages of who is comfortable with 5 or more pills and those who are not, we see that those who currently take 6+ pills are comfortable (40%) with taking 5 or more pills. Those who take less than 6 pills currently would agree that they are more comfortable taking less than 6 pills regularly."
   ]
  },
  {
   "cell_type": "code",
   "execution_count": 22,
   "metadata": {},
   "outputs": [],
   "source": [
    "%%stata\n",
    "quietly: tabout regularmeds pillsmax if subpop using \"../tables/plottables/regularmeds-pillsmax.csv\", svy cells(cell) format(2) replace"
   ]
  },
  {
   "cell_type": "code",
   "execution_count": 23,
   "metadata": {},
   "outputs": [
    {
     "data": {
      "text/html": [
       "<div>\n",
       "<style scoped>\n",
       "    .dataframe tbody tr th:only-of-type {\n",
       "        vertical-align: middle;\n",
       "    }\n",
       "\n",
       "    .dataframe tbody tr th {\n",
       "        vertical-align: top;\n",
       "    }\n",
       "\n",
       "    .dataframe thead th {\n",
       "        text-align: right;\n",
       "    }\n",
       "</style>\n",
       "<table border=\"1\" class=\"dataframe\">\n",
       "  <thead>\n",
       "    <tr style=\"text-align: right;\">\n",
       "      <th></th>\n",
       "      <th>number of regular medications</th>\n",
       "      <th>disagree</th>\n",
       "      <th>agree</th>\n",
       "      <th>Total</th>\n",
       "    </tr>\n",
       "  </thead>\n",
       "  <tbody>\n",
       "    <tr>\n",
       "      <th>1</th>\n",
       "      <td>less than 6</td>\n",
       "      <td>0.09</td>\n",
       "      <td>0.37</td>\n",
       "      <td>0.45</td>\n",
       "    </tr>\n",
       "    <tr>\n",
       "      <th>2</th>\n",
       "      <td>6 or more</td>\n",
       "      <td>0.40</td>\n",
       "      <td>0.14</td>\n",
       "      <td>0.55</td>\n",
       "    </tr>\n",
       "    <tr>\n",
       "      <th>3</th>\n",
       "      <td>Total</td>\n",
       "      <td>0.49</td>\n",
       "      <td>0.51</td>\n",
       "      <td>1.00</td>\n",
       "    </tr>\n",
       "  </tbody>\n",
       "</table>\n",
       "</div>"
      ],
      "text/plain": [
       "  number of regular medications disagree agree Total\n",
       "1                   less than 6     0.09  0.37  0.45\n",
       "2                     6 or more     0.40  0.14  0.55\n",
       "3                         Total     0.49  0.51  1.00"
      ]
     },
     "execution_count": 23,
     "metadata": {},
     "output_type": "execute_result"
    }
   ],
   "source": [
    "regmeds_pillsmax = pd.read_table('../tables/plottables/regularmeds-pillsmax.csv', skiprows=1)\n",
    "regmeds_pillsmax = regmeds_pillsmax.drop([0])\n",
    "regmeds_pillsmax"
   ]
  },
  {
   "cell_type": "markdown",
   "metadata": {},
   "source": [
    "## Pills Maximum and Belief Taking Excess\n",
    "We also can look at the two-way table of subjects' maximum pills comfortable with and the belief that they may be taking excess medications. When we consider those who do and do not believe they are taking more medications than necessary, the comfortability level with 5 or more pills is nearly evenly distributed. For those who think they are taking too much, 53% are uncomfortable taking 5 or more pills regularly (compared to 49% of those who do not think this)."
   ]
  },
  {
   "cell_type": "code",
   "execution_count": 24,
   "metadata": {},
   "outputs": [],
   "source": [
    "%%stata\n",
    "quietly: tabout binaryattitude3 pillsmax if subpop using \"../tables/plottables/binaryattitude3-pillsmax.csv\", svy cells(row) format(3) replace"
   ]
  },
  {
   "cell_type": "code",
   "execution_count": 25,
   "metadata": {},
   "outputs": [
    {
     "data": {
      "text/html": [
       "<div>\n",
       "<style scoped>\n",
       "    .dataframe tbody tr th:only-of-type {\n",
       "        vertical-align: middle;\n",
       "    }\n",
       "\n",
       "    .dataframe tbody tr th {\n",
       "        vertical-align: top;\n",
       "    }\n",
       "\n",
       "    .dataframe thead th {\n",
       "        text-align: right;\n",
       "    }\n",
       "</style>\n",
       "<table border=\"1\" class=\"dataframe\">\n",
       "  <thead>\n",
       "    <tr style=\"text-align: right;\">\n",
       "      <th></th>\n",
       "      <th>binary, take more meds than needed</th>\n",
       "      <th>disagree</th>\n",
       "      <th>agree</th>\n",
       "      <th>Total</th>\n",
       "    </tr>\n",
       "  </thead>\n",
       "  <tbody>\n",
       "    <tr>\n",
       "      <th>1</th>\n",
       "      <td>disagree</td>\n",
       "      <td>0.511</td>\n",
       "      <td>0.489</td>\n",
       "      <td>1.000</td>\n",
       "    </tr>\n",
       "    <tr>\n",
       "      <th>2</th>\n",
       "      <td>agree</td>\n",
       "      <td>0.466</td>\n",
       "      <td>0.534</td>\n",
       "      <td>1.000</td>\n",
       "    </tr>\n",
       "    <tr>\n",
       "      <th>3</th>\n",
       "      <td>Total</td>\n",
       "      <td>0.500</td>\n",
       "      <td>0.500</td>\n",
       "      <td>1.000</td>\n",
       "    </tr>\n",
       "  </tbody>\n",
       "</table>\n",
       "</div>"
      ],
      "text/plain": [
       "  binary, take more meds than needed disagree  agree  Total\n",
       "1                           disagree    0.511  0.489  1.000\n",
       "2                              agree    0.466  0.534  1.000\n",
       "3                              Total    0.500  0.500  1.000"
      ]
     },
     "execution_count": 25,
     "metadata": {},
     "output_type": "execute_result"
    }
   ],
   "source": [
    "ba3_pillsmax = pd.read_table('../tables/plottables/binaryattitude3-pillsmax.csv', skiprows=1)\n",
    "ba3_pillsmax = ba3_pillsmax.drop([0])\n",
    "ba3_pillsmax"
   ]
  },
  {
   "cell_type": "markdown",
   "metadata": {},
   "source": [
    "## Pills Maximum and Willingness to Deprescribe\n",
    "Regardless of whether someone was willing to deprescribe, the distribution of comfortability with taking 5+ pills was the same."
   ]
  },
  {
   "cell_type": "code",
   "execution_count": 26,
   "metadata": {},
   "outputs": [],
   "source": [
    "%%stata\n",
    "quietly: tabout binaryattitude4 pillsmax if subpop using \"../tables/plottables/binaryattitude4-pillsmax.csv\", svy cells(row) format(2) replace"
   ]
  },
  {
   "cell_type": "code",
   "execution_count": 27,
   "metadata": {},
   "outputs": [
    {
     "data": {
      "text/html": [
       "<div>\n",
       "<style scoped>\n",
       "    .dataframe tbody tr th:only-of-type {\n",
       "        vertical-align: middle;\n",
       "    }\n",
       "\n",
       "    .dataframe tbody tr th {\n",
       "        vertical-align: top;\n",
       "    }\n",
       "\n",
       "    .dataframe thead th {\n",
       "        text-align: right;\n",
       "    }\n",
       "</style>\n",
       "<table border=\"1\" class=\"dataframe\">\n",
       "  <thead>\n",
       "    <tr style=\"text-align: right;\">\n",
       "      <th></th>\n",
       "      <th>binary, willing to stop take meds</th>\n",
       "      <th>disagree</th>\n",
       "      <th>agree</th>\n",
       "      <th>Total</th>\n",
       "    </tr>\n",
       "  </thead>\n",
       "  <tbody>\n",
       "    <tr>\n",
       "      <th>1</th>\n",
       "      <td>disagree</td>\n",
       "      <td>0.52</td>\n",
       "      <td>0.48</td>\n",
       "      <td>1.00</td>\n",
       "    </tr>\n",
       "    <tr>\n",
       "      <th>2</th>\n",
       "      <td>agree</td>\n",
       "      <td>0.52</td>\n",
       "      <td>0.48</td>\n",
       "      <td>1.00</td>\n",
       "    </tr>\n",
       "    <tr>\n",
       "      <th>3</th>\n",
       "      <td>Total</td>\n",
       "      <td>0.52</td>\n",
       "      <td>0.48</td>\n",
       "      <td>1.00</td>\n",
       "    </tr>\n",
       "  </tbody>\n",
       "</table>\n",
       "</div>"
      ],
      "text/plain": [
       "  binary, willing to stop take meds disagree agree Total\n",
       "1                          disagree     0.52  0.48  1.00\n",
       "2                             agree     0.52  0.48  1.00\n",
       "3                             Total     0.52  0.48  1.00"
      ]
     },
     "execution_count": 27,
     "metadata": {},
     "output_type": "execute_result"
    }
   ],
   "source": [
    "ba4_pillsmax = pd.read_table('../tables/plottables/binaryattitude4-pillsmax.csv', skiprows=1)\n",
    "ba4_pillsmax = ba4_pillsmax.drop([0])\n",
    "ba4_pillsmax"
   ]
  },
  {
   "cell_type": "markdown",
   "metadata": {},
   "source": [
    "## Venn Diagrams\n",
    "I am using <a href='https://towardsdatascience.com/how-to-create-and-customize-venn-diagrams-in-python-263555527305'>Matplotlib to create Venn diagrams</a>. Here is my function to do it based off of STATA output."
   ]
  },
  {
   "cell_type": "code",
   "execution_count": 28,
   "metadata": {},
   "outputs": [],
   "source": [
    "def createVennDiagram(file_path, printVenn=True):\n",
    "    this_table = pd.read_table(file_path, skiprows=1)\n",
    "    this_table = this_table.drop([0])\n",
    "    \n",
    "    AbaBAB = [round(100*float(x), 1) for x in [this_table.iloc[1,1], this_table.iloc[0,2], this_table.iloc[1,2]]]\n",
    "    \n",
    "    if printVenn:\n",
    "        print(venn2(subsets = AbaBAB,\n",
    "          set_labels = ('Believe Taking Excess Medication', 'Willing to Deprescribe If Doctor Said So'),\n",
    "          set_colors =('#E47833', '#BDA0CB'), alpha = 0.5))\n",
    "    \n",
    "    return(this_table)"
   ]
  },
  {
   "cell_type": "markdown",
   "metadata": {},
   "source": [
    "### Taking More Medications Than Needed & Willingness to Stop?\n",
    "There was about 1.4% of our survey who thought that they were taking more medications than needed who were unwilling to stop taking their medications."
   ]
  },
  {
   "cell_type": "code",
   "execution_count": 29,
   "metadata": {},
   "outputs": [],
   "source": [
    "%%stata\n",
    "quietly: tabout binaryattitude3 binaryattitude4 if subpop using \"../tables/plottables/binaryattitude3-binaryattitude4.csv\", svy cells(cell) format(4) replace"
   ]
  },
  {
   "cell_type": "code",
   "execution_count": 30,
   "metadata": {},
   "outputs": [
    {
     "name": "stdout",
     "output_type": "stream",
     "text": [
      "<matplotlib_venn._common.VennDiagram object at 0x7fa416d81810>\n"
     ]
    },
    {
     "data": {
      "text/html": [
       "<div>\n",
       "<style scoped>\n",
       "    .dataframe tbody tr th:only-of-type {\n",
       "        vertical-align: middle;\n",
       "    }\n",
       "\n",
       "    .dataframe tbody tr th {\n",
       "        vertical-align: top;\n",
       "    }\n",
       "\n",
       "    .dataframe thead th {\n",
       "        text-align: right;\n",
       "    }\n",
       "</style>\n",
       "<table border=\"1\" class=\"dataframe\">\n",
       "  <thead>\n",
       "    <tr style=\"text-align: right;\">\n",
       "      <th></th>\n",
       "      <th>binary, take more meds than needed</th>\n",
       "      <th>disagree</th>\n",
       "      <th>agree</th>\n",
       "      <th>Total</th>\n",
       "    </tr>\n",
       "  </thead>\n",
       "  <tbody>\n",
       "    <tr>\n",
       "      <th>1</th>\n",
       "      <td>disagree</td>\n",
       "      <td>0.1189</td>\n",
       "      <td>0.6435</td>\n",
       "      <td>0.7624</td>\n",
       "    </tr>\n",
       "    <tr>\n",
       "      <th>2</th>\n",
       "      <td>agree</td>\n",
       "      <td>0.0140</td>\n",
       "      <td>0.2237</td>\n",
       "      <td>0.2376</td>\n",
       "    </tr>\n",
       "    <tr>\n",
       "      <th>3</th>\n",
       "      <td>Total</td>\n",
       "      <td>0.1329</td>\n",
       "      <td>0.8671</td>\n",
       "      <td>1.0000</td>\n",
       "    </tr>\n",
       "  </tbody>\n",
       "</table>\n",
       "</div>"
      ],
      "text/plain": [
       "  binary, take more meds than needed disagree   agree   Total\n",
       "1                           disagree   0.1189  0.6435  0.7624\n",
       "2                              agree   0.0140  0.2237  0.2376\n",
       "3                              Total   0.1329  0.8671  1.0000"
      ]
     },
     "execution_count": 30,
     "metadata": {},
     "output_type": "execute_result"
    },
    {
     "data": {
      "image/png": "[encoded data removed]",
      "text/plain": [
       "<Figure size 432x288 with 1 Axes>"
      ]
     },
     "metadata": {},
     "output_type": "display_data"
    }
   ],
   "source": [
    "createVennDiagram('../tables/plottables/binaryattitude3-binaryattitude4.csv')"
   ]
  },
  {
   "cell_type": "markdown",
   "metadata": {},
   "source": [
    "### Taking More Medications Than Needed & Willingness to Stop? By Regular Medications\n",
    "Those who take less than 6 regular medications per day are less probable to believe they are are taking excess medication. This accounts for the size of the \"pink\" bubbles."
   ]
  },
  {
   "cell_type": "code",
   "execution_count": 31,
   "metadata": {},
   "outputs": [],
   "source": [
    "%%stata\n",
    "quietly: tabout binaryattitude3 binaryattitude4 if subpop & regularmeds==0 using \"../tables/plottables/binaryattitude3-binaryattitude4-regmeds1.csv\", svy cells(cell) format(4) replace"
   ]
  },
  {
   "cell_type": "code",
   "execution_count": 32,
   "metadata": {},
   "outputs": [
    {
     "name": "stdout",
     "output_type": "stream",
     "text": [
      "<matplotlib_venn._common.VennDiagram object at 0x7fa416f91490>\n"
     ]
    },
    {
     "data": {
      "text/html": [
       "<div>\n",
       "<style scoped>\n",
       "    .dataframe tbody tr th:only-of-type {\n",
       "        vertical-align: middle;\n",
       "    }\n",
       "\n",
       "    .dataframe tbody tr th {\n",
       "        vertical-align: top;\n",
       "    }\n",
       "\n",
       "    .dataframe thead th {\n",
       "        text-align: right;\n",
       "    }\n",
       "</style>\n",
       "<table border=\"1\" class=\"dataframe\">\n",
       "  <thead>\n",
       "    <tr style=\"text-align: right;\">\n",
       "      <th></th>\n",
       "      <th>binary, take more meds than needed</th>\n",
       "      <th>disagree</th>\n",
       "      <th>agree</th>\n",
       "      <th>Total</th>\n",
       "    </tr>\n",
       "  </thead>\n",
       "  <tbody>\n",
       "    <tr>\n",
       "      <th>1</th>\n",
       "      <td>disagree</td>\n",
       "      <td>0.1687</td>\n",
       "      <td>0.6743</td>\n",
       "      <td>0.8430</td>\n",
       "    </tr>\n",
       "    <tr>\n",
       "      <th>2</th>\n",
       "      <td>agree</td>\n",
       "      <td>0.0250</td>\n",
       "      <td>0.1321</td>\n",
       "      <td>0.1570</td>\n",
       "    </tr>\n",
       "    <tr>\n",
       "      <th>3</th>\n",
       "      <td>Total</td>\n",
       "      <td>0.1936</td>\n",
       "      <td>0.8064</td>\n",
       "      <td>1.0000</td>\n",
       "    </tr>\n",
       "  </tbody>\n",
       "</table>\n",
       "</div>"
      ],
      "text/plain": [
       "  binary, take more meds than needed disagree   agree   Total\n",
       "1                           disagree   0.1687  0.6743  0.8430\n",
       "2                              agree   0.0250  0.1321  0.1570\n",
       "3                              Total   0.1936  0.8064  1.0000"
      ]
     },
     "execution_count": 32,
     "metadata": {},
     "output_type": "execute_result"
    },
    {
     "data": {
      "image/png": "[encoded data removed]",
      "text/plain": [
       "<Figure size 432x288 with 1 Axes>"
      ]
     },
     "metadata": {},
     "output_type": "display_data"
    }
   ],
   "source": [
    "createVennDiagram('../tables/plottables/binaryattitude3-binaryattitude4-regmeds1.csv')"
   ]
  },
  {
   "cell_type": "code",
   "execution_count": 33,
   "metadata": {},
   "outputs": [],
   "source": [
    "%%stata\n",
    "quietly: tabout binaryattitude3 binaryattitude4 if subpop & regularmeds==1 using \"../tables/plottables/binaryattitude3-binaryattitude4-regmeds2.csv\", svy cells(cell) format(4) replace"
   ]
  },
  {
   "cell_type": "code",
   "execution_count": 34,
   "metadata": {},
   "outputs": [
    {
     "name": "stdout",
     "output_type": "stream",
     "text": [
      "<matplotlib_venn._common.VennDiagram object at 0x7fa417026ad0>\n"
     ]
    },
    {
     "data": {
      "text/html": [
       "<div>\n",
       "<style scoped>\n",
       "    .dataframe tbody tr th:only-of-type {\n",
       "        vertical-align: middle;\n",
       "    }\n",
       "\n",
       "    .dataframe tbody tr th {\n",
       "        vertical-align: top;\n",
       "    }\n",
       "\n",
       "    .dataframe thead th {\n",
       "        text-align: right;\n",
       "    }\n",
       "</style>\n",
       "<table border=\"1\" class=\"dataframe\">\n",
       "  <thead>\n",
       "    <tr style=\"text-align: right;\">\n",
       "      <th></th>\n",
       "      <th>binary, take more meds than needed</th>\n",
       "      <th>disagree</th>\n",
       "      <th>agree</th>\n",
       "      <th>Total</th>\n",
       "    </tr>\n",
       "  </thead>\n",
       "  <tbody>\n",
       "    <tr>\n",
       "      <th>1</th>\n",
       "      <td>disagree</td>\n",
       "      <td>0.0860</td>\n",
       "      <td>0.6151</td>\n",
       "      <td>0.7011</td>\n",
       "    </tr>\n",
       "    <tr>\n",
       "      <th>2</th>\n",
       "      <td>agree</td>\n",
       "      <td>0.0064</td>\n",
       "      <td>0.2924</td>\n",
       "      <td>0.2989</td>\n",
       "    </tr>\n",
       "    <tr>\n",
       "      <th>3</th>\n",
       "      <td>Total</td>\n",
       "      <td>0.0925</td>\n",
       "      <td>0.9075</td>\n",
       "      <td>1.0000</td>\n",
       "    </tr>\n",
       "  </tbody>\n",
       "</table>\n",
       "</div>"
      ],
      "text/plain": [
       "  binary, take more meds than needed disagree   agree   Total\n",
       "1                           disagree   0.0860  0.6151  0.7011\n",
       "2                              agree   0.0064  0.2924  0.2989\n",
       "3                              Total   0.0925  0.9075  1.0000"
      ]
     },
     "execution_count": 34,
     "metadata": {},
     "output_type": "execute_result"
    },
    {
     "data": {
      "image/png": "[encoded data removed]",
      "text/plain": [
       "<Figure size 432x288 with 1 Axes>"
      ]
     },
     "metadata": {},
     "output_type": "display_data"
    }
   ],
   "source": [
    "createVennDiagram('../tables/plottables/binaryattitude3-binaryattitude4-regmeds2.csv')"
   ]
  },
  {
   "cell_type": "markdown",
   "metadata": {},
   "source": [
    "### Taking More Medications Than Needed & Willingness to Stop? By Comfort with 5+ Pills"
   ]
  },
  {
   "cell_type": "code",
   "execution_count": 35,
   "metadata": {},
   "outputs": [],
   "source": [
    "%%stata\n",
    "quietly: tabout binaryattitude3 binaryattitude4 if subpop & pillsmax==0 using \"../tables/plottables/binaryattitude3-binaryattitude4-pillsmax0.csv\", svy cells(cell) format(4) replace"
   ]
  },
  {
   "cell_type": "code",
   "execution_count": 36,
   "metadata": {},
   "outputs": [
    {
     "name": "stdout",
     "output_type": "stream",
     "text": [
      "<matplotlib_venn._common.VennDiagram object at 0x7fa416ec43d0>\n"
     ]
    },
    {
     "data": {
      "text/html": [
       "<div>\n",
       "<style scoped>\n",
       "    .dataframe tbody tr th:only-of-type {\n",
       "        vertical-align: middle;\n",
       "    }\n",
       "\n",
       "    .dataframe tbody tr th {\n",
       "        vertical-align: top;\n",
       "    }\n",
       "\n",
       "    .dataframe thead th {\n",
       "        text-align: right;\n",
       "    }\n",
       "</style>\n",
       "<table border=\"1\" class=\"dataframe\">\n",
       "  <thead>\n",
       "    <tr style=\"text-align: right;\">\n",
       "      <th></th>\n",
       "      <th>binary, take more meds than needed</th>\n",
       "      <th>disagree</th>\n",
       "      <th>agree</th>\n",
       "      <th>Total</th>\n",
       "    </tr>\n",
       "  </thead>\n",
       "  <tbody>\n",
       "    <tr>\n",
       "      <th>1</th>\n",
       "      <td>disagree</td>\n",
       "      <td>0.1085</td>\n",
       "      <td>0.6618</td>\n",
       "      <td>0.7703</td>\n",
       "    </tr>\n",
       "    <tr>\n",
       "      <th>2</th>\n",
       "      <td>agree</td>\n",
       "      <td>0.0172</td>\n",
       "      <td>0.2125</td>\n",
       "      <td>0.2297</td>\n",
       "    </tr>\n",
       "    <tr>\n",
       "      <th>3</th>\n",
       "      <td>Total</td>\n",
       "      <td>0.1256</td>\n",
       "      <td>0.8744</td>\n",
       "      <td>1.0000</td>\n",
       "    </tr>\n",
       "  </tbody>\n",
       "</table>\n",
       "</div>"
      ],
      "text/plain": [
       "  binary, take more meds than needed disagree   agree   Total\n",
       "1                           disagree   0.1085  0.6618  0.7703\n",
       "2                              agree   0.0172  0.2125  0.2297\n",
       "3                              Total   0.1256  0.8744  1.0000"
      ]
     },
     "execution_count": 36,
     "metadata": {},
     "output_type": "execute_result"
    },
    {
     "data": {
      "image/png": "[encoded data removed]",
      "text/plain": [
       "<Figure size 432x288 with 1 Axes>"
      ]
     },
     "metadata": {},
     "output_type": "display_data"
    }
   ],
   "source": [
    "createVennDiagram('../tables/plottables/binaryattitude3-binaryattitude4-pillsmax0.csv')"
   ]
  },
  {
   "cell_type": "code",
   "execution_count": 37,
   "metadata": {},
   "outputs": [],
   "source": [
    "%%stata\n",
    "quietly: tabout binaryattitude3 binaryattitude4 if subpop & pillsmax==1 using \"../tables/plottables/binaryattitude3-binaryattitude4-pillsmax1.csv\", svy cells(cell) format(4) replace"
   ]
  },
  {
   "cell_type": "code",
   "execution_count": 38,
   "metadata": {},
   "outputs": [
    {
     "name": "stdout",
     "output_type": "stream",
     "text": [
      "<matplotlib_venn._common.VennDiagram object at 0x7fa416cd6c10>\n"
     ]
    },
    {
     "data": {
      "text/html": [
       "<div>\n",
       "<style scoped>\n",
       "    .dataframe tbody tr th:only-of-type {\n",
       "        vertical-align: middle;\n",
       "    }\n",
       "\n",
       "    .dataframe tbody tr th {\n",
       "        vertical-align: top;\n",
       "    }\n",
       "\n",
       "    .dataframe thead th {\n",
       "        text-align: right;\n",
       "    }\n",
       "</style>\n",
       "<table border=\"1\" class=\"dataframe\">\n",
       "  <thead>\n",
       "    <tr style=\"text-align: right;\">\n",
       "      <th></th>\n",
       "      <th>binary, take more meds than needed</th>\n",
       "      <th>disagree</th>\n",
       "      <th>agree</th>\n",
       "      <th>Total</th>\n",
       "    </tr>\n",
       "  </thead>\n",
       "  <tbody>\n",
       "    <tr>\n",
       "      <th>1</th>\n",
       "      <td>disagree</td>\n",
       "      <td>0.1096</td>\n",
       "      <td>0.6133</td>\n",
       "      <td>0.7229</td>\n",
       "    </tr>\n",
       "    <tr>\n",
       "      <th>2</th>\n",
       "      <td>agree</td>\n",
       "      <td>0.0110</td>\n",
       "      <td>0.2662</td>\n",
       "      <td>0.2771</td>\n",
       "    </tr>\n",
       "    <tr>\n",
       "      <th>3</th>\n",
       "      <td>Total</td>\n",
       "      <td>0.1206</td>\n",
       "      <td>0.8794</td>\n",
       "      <td>1.0000</td>\n",
       "    </tr>\n",
       "  </tbody>\n",
       "</table>\n",
       "</div>"
      ],
      "text/plain": [
       "  binary, take more meds than needed disagree   agree   Total\n",
       "1                           disagree   0.1096  0.6133  0.7229\n",
       "2                              agree   0.0110  0.2662  0.2771\n",
       "3                              Total   0.1206  0.8794  1.0000"
      ]
     },
     "execution_count": 38,
     "metadata": {},
     "output_type": "execute_result"
    },
    {
     "data": {
      "image/png": "[encoded data removed]",
      "text/plain": [
       "<Figure size 432x288 with 1 Axes>"
      ]
     },
     "metadata": {},
     "output_type": "display_data"
    }
   ],
   "source": [
    "createVennDiagram('../tables/plottables/binaryattitude3-binaryattitude4-pillsmax1.csv')"
   ]
  },
  {
   "cell_type": "markdown",
   "metadata": {},
   "source": [
    "### Taking More Medications Than Needed & Willingness to Stop? By Proxy\n",
    "Those with a proxy respondent were less willing to deprescribe (81.15%) than those who were responding for themselves (88.73%). The groups shared similar sentiments in regards to taking more pills than needed; most did not believe to be taking more medications than necessary."
   ]
  },
  {
   "cell_type": "code",
   "execution_count": 39,
   "metadata": {},
   "outputs": [],
   "source": [
    "%%stata\n",
    "quietly: tabout binaryattitude3 binaryattitude4 if subpop & proxy==0 using \"../tables/plottables/binaryattitude3-binaryattitude4-proxy0.csv\", svy cells(cell) format(4) replace"
   ]
  },
  {
   "cell_type": "code",
   "execution_count": 40,
   "metadata": {},
   "outputs": [
    {
     "name": "stdout",
     "output_type": "stream",
     "text": [
      "<matplotlib_venn._common.VennDiagram object at 0x7fa416f3b490>\n"
     ]
    },
    {
     "data": {
      "text/html": [
       "<div>\n",
       "<style scoped>\n",
       "    .dataframe tbody tr th:only-of-type {\n",
       "        vertical-align: middle;\n",
       "    }\n",
       "\n",
       "    .dataframe tbody tr th {\n",
       "        vertical-align: top;\n",
       "    }\n",
       "\n",
       "    .dataframe thead th {\n",
       "        text-align: right;\n",
       "    }\n",
       "</style>\n",
       "<table border=\"1\" class=\"dataframe\">\n",
       "  <thead>\n",
       "    <tr style=\"text-align: right;\">\n",
       "      <th></th>\n",
       "      <th>binary, take more meds than needed</th>\n",
       "      <th>disagree</th>\n",
       "      <th>agree</th>\n",
       "      <th>Total</th>\n",
       "    </tr>\n",
       "  </thead>\n",
       "  <tbody>\n",
       "    <tr>\n",
       "      <th>1</th>\n",
       "      <td>disagree</td>\n",
       "      <td>0.0984</td>\n",
       "      <td>0.6607</td>\n",
       "      <td>0.7591</td>\n",
       "    </tr>\n",
       "    <tr>\n",
       "      <th>2</th>\n",
       "      <td>agree</td>\n",
       "      <td>0.0142</td>\n",
       "      <td>0.2267</td>\n",
       "      <td>0.2409</td>\n",
       "    </tr>\n",
       "    <tr>\n",
       "      <th>3</th>\n",
       "      <td>Total</td>\n",
       "      <td>0.1127</td>\n",
       "      <td>0.8873</td>\n",
       "      <td>1.0000</td>\n",
       "    </tr>\n",
       "  </tbody>\n",
       "</table>\n",
       "</div>"
      ],
      "text/plain": [
       "  binary, take more meds than needed disagree   agree   Total\n",
       "1                           disagree   0.0984  0.6607  0.7591\n",
       "2                              agree   0.0142  0.2267  0.2409\n",
       "3                              Total   0.1127  0.8873  1.0000"
      ]
     },
     "execution_count": 40,
     "metadata": {},
     "output_type": "execute_result"
    },
    {
     "data": {
      "image/png": "[encoded data removed]",
      "text/plain": [
       "<Figure size 432x288 with 1 Axes>"
      ]
     },
     "metadata": {},
     "output_type": "display_data"
    }
   ],
   "source": [
    "createVennDiagram('../tables/plottables/binaryattitude3-binaryattitude4-proxy0.csv')"
   ]
  },
  {
   "cell_type": "code",
   "execution_count": 41,
   "metadata": {},
   "outputs": [],
   "source": [
    "%%stata\n",
    "quietly: tabout binaryattitude3 binaryattitude4 if subpop & proxy==1 using \"../tables/plottables/binaryattitude3-binaryattitude4-proxy1.csv\", svy cells(cell) format(4) replace"
   ]
  },
  {
   "cell_type": "code",
   "execution_count": 42,
   "metadata": {},
   "outputs": [
    {
     "name": "stdout",
     "output_type": "stream",
     "text": [
      "<matplotlib_venn._common.VennDiagram object at 0x7fa41920bc10>\n"
     ]
    },
    {
     "data": {
      "text/html": [
       "<div>\n",
       "<style scoped>\n",
       "    .dataframe tbody tr th:only-of-type {\n",
       "        vertical-align: middle;\n",
       "    }\n",
       "\n",
       "    .dataframe tbody tr th {\n",
       "        vertical-align: top;\n",
       "    }\n",
       "\n",
       "    .dataframe thead th {\n",
       "        text-align: right;\n",
       "    }\n",
       "</style>\n",
       "<table border=\"1\" class=\"dataframe\">\n",
       "  <thead>\n",
       "    <tr style=\"text-align: right;\">\n",
       "      <th></th>\n",
       "      <th>binary, take more meds than needed</th>\n",
       "      <th>disagree</th>\n",
       "      <th>agree</th>\n",
       "      <th>Total</th>\n",
       "    </tr>\n",
       "  </thead>\n",
       "  <tbody>\n",
       "    <tr>\n",
       "      <th>1</th>\n",
       "      <td>disagree</td>\n",
       "      <td>0.1740</td>\n",
       "      <td>0.5972</td>\n",
       "      <td>0.7712</td>\n",
       "    </tr>\n",
       "    <tr>\n",
       "      <th>2</th>\n",
       "      <td>agree</td>\n",
       "      <td>0.0132</td>\n",
       "      <td>0.2156</td>\n",
       "      <td>0.2288</td>\n",
       "    </tr>\n",
       "    <tr>\n",
       "      <th>3</th>\n",
       "      <td>Total</td>\n",
       "      <td>0.1872</td>\n",
       "      <td>0.8128</td>\n",
       "      <td>1.0000</td>\n",
       "    </tr>\n",
       "  </tbody>\n",
       "</table>\n",
       "</div>"
      ],
      "text/plain": [
       "  binary, take more meds than needed disagree   agree   Total\n",
       "1                           disagree   0.1740  0.5972  0.7712\n",
       "2                              agree   0.0132  0.2156  0.2288\n",
       "3                              Total   0.1872  0.8128  1.0000"
      ]
     },
     "execution_count": 42,
     "metadata": {},
     "output_type": "execute_result"
    },
    {
     "data": {
      "image/png": "[encoded data removed]",
      "text/plain": [
       "<Figure size 432x288 with 1 Axes>"
      ]
     },
     "metadata": {},
     "output_type": "display_data"
    }
   ],
   "source": [
    "createVennDiagram('../tables/plottables/binaryattitude3-binaryattitude4-proxy1.csv')"
   ]
  },
  {
   "cell_type": "markdown",
   "metadata": {},
   "source": [
    "### Taking More Medications Than Needed & Willingness to Stop? By Dementia\n",
    "Here is the breakdown again of those who have probable/possible dementia in our subpopulation."
   ]
  },
  {
   "cell_type": "code",
   "execution_count": 43,
   "metadata": {},
   "outputs": [
    {
     "name": "stdout",
     "output_type": "stream",
     "text": [
      "(running tabulate on estimation sample)\n",
      "\n",
      "Number of strata =  55                           Number of obs   =       2,091\n",
      "Number of PSUs   = 110                           Population size =  12,999,949\n",
      "                                                 Subpop. no. obs =         439\n",
      "                                                 Subpop. size    = 1,931,985.4\n",
      "                                                 Design df       =          55\n",
      "\n",
      "----------------------\n",
      "dementia  |\n",
      "status    | proportion\n",
      "----------+-----------\n",
      " possible |      .4239\n",
      " probable |      .5761\n",
      "          | \n",
      "    Total |          1\n",
      "----------------------\n",
      "Key: proportion = Cell proportion\n",
      "\n",
      "Note: 1 stratum omitted because it contains no subpopulation members.\n"
     ]
    }
   ],
   "source": [
    "%%stata\n",
    "svy, subpop(subpop): tab dementia"
   ]
  },
  {
   "cell_type": "markdown",
   "metadata": {},
   "source": [
    "**Of those who have possible dementia,** that is 42.46% of our sample, 26.01% believe they are taking too much medication and are willing to deprescribe if a doctor said so."
   ]
  },
  {
   "cell_type": "code",
   "execution_count": 44,
   "metadata": {},
   "outputs": [],
   "source": [
    "%%stata\n",
    "quietly: tabout binaryattitude3 binaryattitude4 if subpop & dementia==1 using \"../tables/plottables/binaryattitude3-binaryattitude4-dementia1.csv\", svy cells(cell) format(4) replace"
   ]
  },
  {
   "cell_type": "code",
   "execution_count": 45,
   "metadata": {},
   "outputs": [
    {
     "name": "stdout",
     "output_type": "stream",
     "text": [
      "<matplotlib_venn._common.VennDiagram object at 0x7fa4190e34d0>\n"
     ]
    },
    {
     "data": {
      "text/html": [
       "<div>\n",
       "<style scoped>\n",
       "    .dataframe tbody tr th:only-of-type {\n",
       "        vertical-align: middle;\n",
       "    }\n",
       "\n",
       "    .dataframe tbody tr th {\n",
       "        vertical-align: top;\n",
       "    }\n",
       "\n",
       "    .dataframe thead th {\n",
       "        text-align: right;\n",
       "    }\n",
       "</style>\n",
       "<table border=\"1\" class=\"dataframe\">\n",
       "  <thead>\n",
       "    <tr style=\"text-align: right;\">\n",
       "      <th></th>\n",
       "      <th>binary, take more meds than needed</th>\n",
       "      <th>disagree</th>\n",
       "      <th>agree</th>\n",
       "      <th>Total</th>\n",
       "    </tr>\n",
       "  </thead>\n",
       "  <tbody>\n",
       "    <tr>\n",
       "      <th>1</th>\n",
       "      <td>disagree</td>\n",
       "      <td>0.0951</td>\n",
       "      <td>0.6255</td>\n",
       "      <td>0.7207</td>\n",
       "    </tr>\n",
       "    <tr>\n",
       "      <th>2</th>\n",
       "      <td>agree</td>\n",
       "      <td>0.0193</td>\n",
       "      <td>0.2601</td>\n",
       "      <td>0.2793</td>\n",
       "    </tr>\n",
       "    <tr>\n",
       "      <th>3</th>\n",
       "      <td>Total</td>\n",
       "      <td>0.1144</td>\n",
       "      <td>0.8856</td>\n",
       "      <td>1.0000</td>\n",
       "    </tr>\n",
       "  </tbody>\n",
       "</table>\n",
       "</div>"
      ],
      "text/plain": [
       "  binary, take more meds than needed disagree   agree   Total\n",
       "1                           disagree   0.0951  0.6255  0.7207\n",
       "2                              agree   0.0193  0.2601  0.2793\n",
       "3                              Total   0.1144  0.8856  1.0000"
      ]
     },
     "execution_count": 45,
     "metadata": {},
     "output_type": "execute_result"
    },
    {
     "data": {
      "image/png": "[encoded data removed]",
      "text/plain": [
       "<Figure size 432x288 with 1 Axes>"
      ]
     },
     "metadata": {},
     "output_type": "display_data"
    }
   ],
   "source": [
    "createVennDiagram('../tables/plottables/binaryattitude3-binaryattitude4-dementia1.csv')"
   ]
  },
  {
   "cell_type": "markdown",
   "metadata": {},
   "source": [
    "**Of those who have probable dementia,** that is 57.54% of our sample, 19.39% believe they are taking too much medication and are willing to deprescribe if a doctor said so. **Those with possible dementia in our sample have a higher probability of having these two characteristics than do those with probable dementia.**"
   ]
  },
  {
   "cell_type": "code",
   "execution_count": 46,
   "metadata": {},
   "outputs": [],
   "source": [
    "%%stata\n",
    "quietly: tabout binaryattitude3 binaryattitude4 if subpop & dementia==2 using \"../tables/plottables/binaryattitude3-binaryattitude4-dementia2.csv\", svy cells(cell) format(4) replace"
   ]
  },
  {
   "cell_type": "code",
   "execution_count": 47,
   "metadata": {},
   "outputs": [
    {
     "name": "stdout",
     "output_type": "stream",
     "text": [
      "<matplotlib_venn._common.VennDiagram object at 0x7fa41d6afad0>\n"
     ]
    },
    {
     "data": {
      "text/html": [
       "<div>\n",
       "<style scoped>\n",
       "    .dataframe tbody tr th:only-of-type {\n",
       "        vertical-align: middle;\n",
       "    }\n",
       "\n",
       "    .dataframe tbody tr th {\n",
       "        vertical-align: top;\n",
       "    }\n",
       "\n",
       "    .dataframe thead th {\n",
       "        text-align: right;\n",
       "    }\n",
       "</style>\n",
       "<table border=\"1\" class=\"dataframe\">\n",
       "  <thead>\n",
       "    <tr style=\"text-align: right;\">\n",
       "      <th></th>\n",
       "      <th>binary, take more meds than needed</th>\n",
       "      <th>disagree</th>\n",
       "      <th>agree</th>\n",
       "      <th>Total</th>\n",
       "    </tr>\n",
       "  </thead>\n",
       "  <tbody>\n",
       "    <tr>\n",
       "      <th>1</th>\n",
       "      <td>disagree</td>\n",
       "      <td>0.1366</td>\n",
       "      <td>0.6568</td>\n",
       "      <td>0.7934</td>\n",
       "    </tr>\n",
       "    <tr>\n",
       "      <th>2</th>\n",
       "      <td>agree</td>\n",
       "      <td>0.0100</td>\n",
       "      <td>0.1966</td>\n",
       "      <td>0.2066</td>\n",
       "    </tr>\n",
       "    <tr>\n",
       "      <th>3</th>\n",
       "      <td>Total</td>\n",
       "      <td>0.1466</td>\n",
       "      <td>0.8534</td>\n",
       "      <td>1.0000</td>\n",
       "    </tr>\n",
       "  </tbody>\n",
       "</table>\n",
       "</div>"
      ],
      "text/plain": [
       "  binary, take more meds than needed disagree   agree   Total\n",
       "1                           disagree   0.1366  0.6568  0.7934\n",
       "2                              agree   0.0100  0.1966  0.2066\n",
       "3                              Total   0.1466  0.8534  1.0000"
      ]
     },
     "execution_count": 47,
     "metadata": {},
     "output_type": "execute_result"
    },
    {
     "data": {
      "image/png": "[encoded data removed]",
      "text/plain": [
       "<Figure size 432x288 with 1 Axes>"
      ]
     },
     "metadata": {},
     "output_type": "display_data"
    }
   ],
   "source": [
    "createVennDiagram('../tables/plottables/binaryattitude3-binaryattitude4-dementia2.csv')"
   ]
  },
  {
   "cell_type": "markdown",
   "metadata": {},
   "source": [
    "Instead of looking at the classifications provided by NHATS, we can use the NHATS question that discusses if the participant was previously diagnosed or not."
   ]
  },
  {
   "cell_type": "code",
   "execution_count": 48,
   "metadata": {},
   "outputs": [
    {
     "name": "stdout",
     "output_type": "stream",
     "text": [
      "(running tabulate on estimation sample)\n",
      "\n",
      "Number of strata =  55                           Number of obs   =       2,091\n",
      "Number of PSUs   = 110                           Population size =  12,999,949\n",
      "                                                 Subpop. no. obs =         439\n",
      "                                                 Subpop. size    = 1,931,985.4\n",
      "                                                 Design df       =          55\n",
      "\n",
      "----------------------\n",
      "diagnosed |\n",
      "with      |\n",
      "dementia  | proportion\n",
      "----------+-----------\n",
      " not diag |      .6501\n",
      " diagnose |      .3499\n",
      "          | \n",
      "    Total |          1\n",
      "----------------------\n",
      "Key: proportion = Cell proportion\n",
      "\n",
      "Note: 1 stratum omitted because it contains no subpopulation members.\n"
     ]
    }
   ],
   "source": [
    "%%stata\n",
    "svy, subpop(subpop): tab dementia_diagnosis"
   ]
  },
  {
   "cell_type": "markdown",
   "metadata": {},
   "source": [
    "**Of those who have NOT been diagnosed with dementia**, that is 64.96% of our sample, 24.52% believe they are taking too much medication and are willing to deprescribe if a doctor said so."
   ]
  },
  {
   "cell_type": "code",
   "execution_count": 49,
   "metadata": {},
   "outputs": [],
   "source": [
    "%%stata\n",
    "quietly: tabout binaryattitude3 binaryattitude4 if subpop & dementia_diagnosis==0 using \"../tables/plottables/binaryattitude3-binaryattitude4-dementiadiag0.csv\", svy cells(cell) format(4) replace"
   ]
  },
  {
   "cell_type": "code",
   "execution_count": 50,
   "metadata": {},
   "outputs": [
    {
     "name": "stdout",
     "output_type": "stream",
     "text": [
      "<matplotlib_venn._common.VennDiagram object at 0x7fa420457610>\n"
     ]
    },
    {
     "data": {
      "text/html": [
       "<div>\n",
       "<style scoped>\n",
       "    .dataframe tbody tr th:only-of-type {\n",
       "        vertical-align: middle;\n",
       "    }\n",
       "\n",
       "    .dataframe tbody tr th {\n",
       "        vertical-align: top;\n",
       "    }\n",
       "\n",
       "    .dataframe thead th {\n",
       "        text-align: right;\n",
       "    }\n",
       "</style>\n",
       "<table border=\"1\" class=\"dataframe\">\n",
       "  <thead>\n",
       "    <tr style=\"text-align: right;\">\n",
       "      <th></th>\n",
       "      <th>binary, take more meds than needed</th>\n",
       "      <th>disagree</th>\n",
       "      <th>agree</th>\n",
       "      <th>Total</th>\n",
       "    </tr>\n",
       "  </thead>\n",
       "  <tbody>\n",
       "    <tr>\n",
       "      <th>1</th>\n",
       "      <td>disagree</td>\n",
       "      <td>0.1019</td>\n",
       "      <td>0.6316</td>\n",
       "      <td>0.7335</td>\n",
       "    </tr>\n",
       "    <tr>\n",
       "      <th>2</th>\n",
       "      <td>agree</td>\n",
       "      <td>0.0191</td>\n",
       "      <td>0.2474</td>\n",
       "      <td>0.2665</td>\n",
       "    </tr>\n",
       "    <tr>\n",
       "      <th>3</th>\n",
       "      <td>Total</td>\n",
       "      <td>0.1209</td>\n",
       "      <td>0.8791</td>\n",
       "      <td>1.0000</td>\n",
       "    </tr>\n",
       "  </tbody>\n",
       "</table>\n",
       "</div>"
      ],
      "text/plain": [
       "  binary, take more meds than needed disagree   agree   Total\n",
       "1                           disagree   0.1019  0.6316  0.7335\n",
       "2                              agree   0.0191  0.2474  0.2665\n",
       "3                              Total   0.1209  0.8791  1.0000"
      ]
     },
     "execution_count": 50,
     "metadata": {},
     "output_type": "execute_result"
    },
    {
     "data": {
      "image/png": "[encoded data removed]",
      "text/plain": [
       "<Figure size 432x288 with 1 Axes>"
      ]
     },
     "metadata": {},
     "output_type": "display_data"
    }
   ],
   "source": [
    "createVennDiagram('../tables/plottables/binaryattitude3-binaryattitude4-dementiadiag0.csv')"
   ]
  },
  {
   "cell_type": "markdown",
   "metadata": {},
   "source": [
    "**Of those who HAVE been diagnosed with dementia**, that is 35.04% of our sample, 18% believe they are taking too much medication and are willing to deprescribe if a doctor said so. **Those who have NOT been diagnosed in our sample have a higher probability of having these two characteristics than those who HAVE been diagnosed.**"
   ]
  },
  {
   "cell_type": "code",
   "execution_count": 51,
   "metadata": {},
   "outputs": [],
   "source": [
    "%%stata\n",
    "quietly: tabout binaryattitude3 binaryattitude4 if subpop & dementia_diagnosis==1 using \"../tables/plottables/binaryattitude3-binaryattitude4-dementiadiag1.csv\", svy cells(cell) format(4) replace"
   ]
  },
  {
   "cell_type": "code",
   "execution_count": 52,
   "metadata": {},
   "outputs": [
    {
     "name": "stdout",
     "output_type": "stream",
     "text": [
      "<matplotlib_venn._common.VennDiagram object at 0x7fa42034bb10>\n"
     ]
    },
    {
     "data": {
      "text/html": [
       "<div>\n",
       "<style scoped>\n",
       "    .dataframe tbody tr th:only-of-type {\n",
       "        vertical-align: middle;\n",
       "    }\n",
       "\n",
       "    .dataframe tbody tr th {\n",
       "        vertical-align: top;\n",
       "    }\n",
       "\n",
       "    .dataframe thead th {\n",
       "        text-align: right;\n",
       "    }\n",
       "</style>\n",
       "<table border=\"1\" class=\"dataframe\">\n",
       "  <thead>\n",
       "    <tr style=\"text-align: right;\">\n",
       "      <th></th>\n",
       "      <th>binary, take more meds than needed</th>\n",
       "      <th>disagree</th>\n",
       "      <th>agree</th>\n",
       "      <th>Total</th>\n",
       "    </tr>\n",
       "  </thead>\n",
       "  <tbody>\n",
       "    <tr>\n",
       "      <th>1</th>\n",
       "      <td>disagree</td>\n",
       "      <td>0.1502</td>\n",
       "      <td>0.6652</td>\n",
       "      <td>0.8155</td>\n",
       "    </tr>\n",
       "    <tr>\n",
       "      <th>2</th>\n",
       "      <td>agree</td>\n",
       "      <td>0.0046</td>\n",
       "      <td>0.1800</td>\n",
       "      <td>0.1845</td>\n",
       "    </tr>\n",
       "    <tr>\n",
       "      <th>3</th>\n",
       "      <td>Total</td>\n",
       "      <td>0.1548</td>\n",
       "      <td>0.8452</td>\n",
       "      <td>1.0000</td>\n",
       "    </tr>\n",
       "  </tbody>\n",
       "</table>\n",
       "</div>"
      ],
      "text/plain": [
       "  binary, take more meds than needed disagree   agree   Total\n",
       "1                           disagree   0.1502  0.6652  0.8155\n",
       "2                              agree   0.0046  0.1800  0.1845\n",
       "3                              Total   0.1548  0.8452  1.0000"
      ]
     },
     "execution_count": 52,
     "metadata": {},
     "output_type": "execute_result"
    },
    {
     "data": {
      "image/png": "[encoded data removed]",
      "text/plain": [
       "<Figure size 432x288 with 1 Axes>"
      ]
     },
     "metadata": {},
     "output_type": "display_data"
    }
   ],
   "source": [
    "createVennDiagram('../tables/plottables/binaryattitude3-binaryattitude4-dementiadiag1.csv')"
   ]
  },
  {
   "cell_type": "markdown",
   "metadata": {},
   "source": [
    "### All Outcomes\n",
    "First, I'll try to make the Venn diagram without survey weights, just based on counts.\n",
    "\n",
    "```\n",
    "* 1 0 0\n",
    "total binaryattitude3 if binaryattitude4==0 & pillsmax==0\n",
    "\n",
    "* 1 1 0\n",
    "total binaryattitude3 if binaryattitude4==1 & pillsmax==0\n",
    "\n",
    "* 1 1 1\n",
    "total binaryattitude3 if binaryattitude4==1 & pillsmax==1\n",
    "\n",
    "* 0 1 0\n",
    "total binaryattitude4 if binaryattitude3==0 & pillsmax==0\n",
    "\n",
    "* 0 1 1\n",
    "total binaryattitude4 if binaryattitude3==0 & pillsmax==1\n",
    "\n",
    "* 0 0 1\n",
    "total pillsmax if binaryattitude4==0 & binaryattitude3==0\n",
    "\n",
    "* 1 0 1\n",
    "total binaryattitude3 if binaryattitude4==0 & pillsmax==1\n",
    "```"
   ]
  },
  {
   "cell_type": "code",
   "execution_count": 53,
   "metadata": {},
   "outputs": [
    {
     "name": "stdout",
     "output_type": "stream",
     "text": [
      "\n",
      ". collect clear\n",
      "\n",
      ". quietly: collect: total binaryattitude3 if binaryattitude4==0 & pillsmax==0 &\n",
      ">  subpop\n",
      "\n",
      ". quietly: collect: total binaryattitude3 if binaryattitude4==1 & pillsmax==0 &\n",
      ">  subpop\n",
      "\n",
      ". quietly: collect: total binaryattitude3 if binaryattitude4==1 & pillsmax==1 &\n",
      ">  subpop\n",
      "\n",
      ". quietly: collect: total binaryattitude4 if binaryattitude3==0 & pillsmax==0 &\n",
      ">  subpop\n",
      "\n",
      ". quietly: collect: total binaryattitude4 if binaryattitude3==0 & pillsmax==1 &\n",
      ">  subpop\n",
      "\n",
      ". quietly: collect: total pillsmax if binaryattitude4==0 & binaryattitude3==0 &\n",
      ">  subpop\n",
      "\n",
      ". quietly: collect: total pillsmax if binaryattitude4==0 & binaryattitude3==1 &\n",
      ">  subpop\n",
      "\n",
      ". quietly: collect layout (result[_r_b]) (cmdset)\n",
      "\n",
      ". quietly: collect export \"../tables/plottables/unweighted-counts.xlsx\", replac\n",
      "> e\n",
      "\n",
      ". \n"
     ]
    }
   ],
   "source": [
    "%%stata -eret test1\n",
    "collect clear\n",
    "quietly: collect: total binaryattitude3 if binaryattitude4==0 & pillsmax==0 & subpop\n",
    "quietly: collect: total binaryattitude3 if binaryattitude4==1 & pillsmax==0 & subpop\n",
    "quietly: collect: total binaryattitude3 if binaryattitude4==1 & pillsmax==1 & subpop\n",
    "quietly: collect: total binaryattitude4 if binaryattitude3==0 & pillsmax==0 & subpop\n",
    "quietly: collect: total binaryattitude4 if binaryattitude3==0 & pillsmax==1 & subpop\n",
    "quietly: collect: total pillsmax if binaryattitude4==0 & binaryattitude3==0 & subpop\n",
    "quietly: collect: total pillsmax if binaryattitude4==0 & binaryattitude3==1 & subpop\n",
    "quietly: collect layout (result[_r_b]) (cmdset)\n",
    "quietly: collect export \"../tables/plottables/unweighted-counts.xlsx\", replace"
   ]
  },
  {
   "cell_type": "code",
   "execution_count": 54,
   "metadata": {},
   "outputs": [
    {
     "data": {
      "text/html": [
       "<div>\n",
       "<style scoped>\n",
       "    .dataframe tbody tr th:only-of-type {\n",
       "        vertical-align: middle;\n",
       "    }\n",
       "\n",
       "    .dataframe tbody tr th {\n",
       "        vertical-align: top;\n",
       "    }\n",
       "\n",
       "    .dataframe thead th {\n",
       "        text-align: right;\n",
       "    }\n",
       "</style>\n",
       "<table border=\"1\" class=\"dataframe\">\n",
       "  <thead>\n",
       "    <tr style=\"text-align: right;\">\n",
       "      <th></th>\n",
       "      <th>binaryattitude3</th>\n",
       "      <th>binaryattitude4</th>\n",
       "      <th>pillsmax</th>\n",
       "      <th>counts</th>\n",
       "    </tr>\n",
       "  </thead>\n",
       "  <tbody>\n",
       "    <tr>\n",
       "      <th>0</th>\n",
       "      <td>1</td>\n",
       "      <td>0</td>\n",
       "      <td>0</td>\n",
       "      <td>2</td>\n",
       "    </tr>\n",
       "    <tr>\n",
       "      <th>1</th>\n",
       "      <td>1</td>\n",
       "      <td>1</td>\n",
       "      <td>0</td>\n",
       "      <td>33</td>\n",
       "    </tr>\n",
       "    <tr>\n",
       "      <th>2</th>\n",
       "      <td>1</td>\n",
       "      <td>1</td>\n",
       "      <td>1</td>\n",
       "      <td>44</td>\n",
       "    </tr>\n",
       "    <tr>\n",
       "      <th>3</th>\n",
       "      <td>0</td>\n",
       "      <td>1</td>\n",
       "      <td>0</td>\n",
       "      <td>123</td>\n",
       "    </tr>\n",
       "    <tr>\n",
       "      <th>4</th>\n",
       "      <td>0</td>\n",
       "      <td>1</td>\n",
       "      <td>1</td>\n",
       "      <td>109</td>\n",
       "    </tr>\n",
       "    <tr>\n",
       "      <th>5</th>\n",
       "      <td>0</td>\n",
       "      <td>0</td>\n",
       "      <td>1</td>\n",
       "      <td>25</td>\n",
       "    </tr>\n",
       "    <tr>\n",
       "      <th>6</th>\n",
       "      <td>1</td>\n",
       "      <td>0</td>\n",
       "      <td>1</td>\n",
       "      <td>3</td>\n",
       "    </tr>\n",
       "  </tbody>\n",
       "</table>\n",
       "</div>"
      ],
      "text/plain": [
       "   binaryattitude3  binaryattitude4  pillsmax counts\n",
       "0                1                0         0      2\n",
       "1                1                1         0     33\n",
       "2                1                1         1     44\n",
       "3                0                1         0    123\n",
       "4                0                1         1    109\n",
       "5                0                0         1     25\n",
       "6                1                0         1      3"
      ]
     },
     "execution_count": 54,
     "metadata": {},
     "output_type": "execute_result"
    }
   ],
   "source": [
    "var_patterns = pd.DataFrame([[1,0,0], [1,1,0], [1,1,1], [0,1,0], [0,1,1], [0,0,1], [1,0,1]],\n",
    "                            columns=['binaryattitude3', 'binaryattitude4', 'pillsmax'])\n",
    "counts = pd.read_excel('../tables/plottables/unweighted-counts.xlsx')\n",
    "var_patterns['counts'] = np.array(counts.iloc[0,1:8])\n",
    "var_patterns"
   ]
  },
  {
   "cell_type": "code",
   "execution_count": 55,
   "metadata": {},
   "outputs": [
    {
     "data": {
      "image/png": "[encoded data removed]",
      "text/plain": [
       "<Figure size 1080x504 with 1 Axes>"
      ]
     },
     "metadata": {},
     "output_type": "display_data"
    }
   ],
   "source": [
    "plt.rcParams['figure.figsize'] = [15, 7]\n",
    "our_venn3_subsets = [var_patterns['counts'][0],\n",
    "                    var_patterns['counts'][3],\n",
    "                    var_patterns['counts'][1],\n",
    "                    var_patterns['counts'][5],\n",
    "                    var_patterns['counts'][6],\n",
    "                    var_patterns['counts'][4],\n",
    "                    var_patterns['counts'][2]]\n",
    "\n",
    "count_venn = venn3(subsets = our_venn3_subsets,\n",
    "      set_labels = ('Believe At Least One\\nMedication No Longer Needed', 'Willing To Deprescribe\\nIf Doctor Said Possible', 'Uncomfortable Taking 5 Or More Pills'),\n",
    "      set_colors =('#E47833', '#BDA0CB', 'gold'),\n",
    "      alpha = 0.5);\n",
    "\n",
    "plt.savefig('../plots/venn-3way-count.png', bbox_inches='tight')\n",
    "plt.show()"
   ]
  },
  {
   "cell_type": "markdown",
   "metadata": {},
   "source": [
    "The above graph considers a **sample of 338** who answered all three outcomes.\n",
    "\n",
    "In order to produce this table, I used the marginal survey-weighted probabilities of the `pillsmax` variable."
   ]
  },
  {
   "cell_type": "code",
   "execution_count": 56,
   "metadata": {},
   "outputs": [],
   "source": [
    "not_uncomfortable = float(pillsmax.iloc[1,0])"
   ]
  },
  {
   "cell_type": "code",
   "execution_count": 57,
   "metadata": {},
   "outputs": [],
   "source": [
    "all3_pm0 = createVennDiagram('../tables/plottables/binaryattitude3-binaryattitude4-pillsmax0.csv', False)\n",
    "all3_pm0['disagree'] = pd.to_numeric(all3_pm0['disagree'])\n",
    "all3_pm0['agree'] = pd.to_numeric(all3_pm0['agree'])\n",
    "all3_pm0['Total'] = pd.to_numeric(all3_pm0['Total'])"
   ]
  },
  {
   "cell_type": "code",
   "execution_count": 58,
   "metadata": {},
   "outputs": [
    {
     "data": {
      "text/html": [
       "<div>\n",
       "<style scoped>\n",
       "    .dataframe tbody tr th:only-of-type {\n",
       "        vertical-align: middle;\n",
       "    }\n",
       "\n",
       "    .dataframe tbody tr th {\n",
       "        vertical-align: top;\n",
       "    }\n",
       "\n",
       "    .dataframe thead th {\n",
       "        text-align: right;\n",
       "    }\n",
       "</style>\n",
       "<table border=\"1\" class=\"dataframe\">\n",
       "  <thead>\n",
       "    <tr style=\"text-align: right;\">\n",
       "      <th></th>\n",
       "      <th>binary, take more meds than needed</th>\n",
       "      <th>disagree</th>\n",
       "      <th>agree</th>\n",
       "      <th>Total</th>\n",
       "    </tr>\n",
       "  </thead>\n",
       "  <tbody>\n",
       "    <tr>\n",
       "      <th>1</th>\n",
       "      <td>disagree</td>\n",
       "      <td>5.4</td>\n",
       "      <td>32.8</td>\n",
       "      <td>38.2</td>\n",
       "    </tr>\n",
       "    <tr>\n",
       "      <th>2</th>\n",
       "      <td>agree</td>\n",
       "      <td>0.9</td>\n",
       "      <td>10.5</td>\n",
       "      <td>11.4</td>\n",
       "    </tr>\n",
       "    <tr>\n",
       "      <th>3</th>\n",
       "      <td>Total</td>\n",
       "      <td>6.2</td>\n",
       "      <td>43.3</td>\n",
       "      <td>49.6</td>\n",
       "    </tr>\n",
       "  </tbody>\n",
       "</table>\n",
       "</div>"
      ],
      "text/plain": [
       "  binary, take more meds than needed  disagree  agree  Total\n",
       "1                           disagree       5.4   32.8   38.2\n",
       "2                              agree       0.9   10.5   11.4\n",
       "3                              Total       6.2   43.3   49.6"
      ]
     },
     "execution_count": 58,
     "metadata": {},
     "output_type": "execute_result"
    }
   ],
   "source": [
    "all3_pm0.iloc[0:3, 1:4] = round(all3_pm0.iloc[0:3, 1:4] * 100 * not_uncomfortable, 1)\n",
    "all3_pm0"
   ]
  },
  {
   "cell_type": "code",
   "execution_count": 59,
   "metadata": {},
   "outputs": [],
   "source": [
    "uncomfortable = float(pillsmax.iloc[1,1])"
   ]
  },
  {
   "cell_type": "code",
   "execution_count": 60,
   "metadata": {},
   "outputs": [],
   "source": [
    "all3_pm1 = createVennDiagram('../tables/plottables/binaryattitude3-binaryattitude4-pillsmax1.csv', False)\n",
    "all3_pm1['disagree'] = pd.to_numeric(all3_pm1['disagree'])\n",
    "all3_pm1['agree'] = pd.to_numeric(all3_pm1['agree'])\n",
    "all3_pm1['Total'] = pd.to_numeric(all3_pm1['Total'])"
   ]
  },
  {
   "cell_type": "code",
   "execution_count": 61,
   "metadata": {},
   "outputs": [
    {
     "data": {
      "text/html": [
       "<div>\n",
       "<style scoped>\n",
       "    .dataframe tbody tr th:only-of-type {\n",
       "        vertical-align: middle;\n",
       "    }\n",
       "\n",
       "    .dataframe tbody tr th {\n",
       "        vertical-align: top;\n",
       "    }\n",
       "\n",
       "    .dataframe thead th {\n",
       "        text-align: right;\n",
       "    }\n",
       "</style>\n",
       "<table border=\"1\" class=\"dataframe\">\n",
       "  <thead>\n",
       "    <tr style=\"text-align: right;\">\n",
       "      <th></th>\n",
       "      <th>binary, take more meds than needed</th>\n",
       "      <th>disagree</th>\n",
       "      <th>agree</th>\n",
       "      <th>Total</th>\n",
       "    </tr>\n",
       "  </thead>\n",
       "  <tbody>\n",
       "    <tr>\n",
       "      <th>1</th>\n",
       "      <td>disagree</td>\n",
       "      <td>5.5</td>\n",
       "      <td>30.9</td>\n",
       "      <td>36.5</td>\n",
       "    </tr>\n",
       "    <tr>\n",
       "      <th>2</th>\n",
       "      <td>agree</td>\n",
       "      <td>0.6</td>\n",
       "      <td>13.4</td>\n",
       "      <td>14.0</td>\n",
       "    </tr>\n",
       "    <tr>\n",
       "      <th>3</th>\n",
       "      <td>Total</td>\n",
       "      <td>6.1</td>\n",
       "      <td>44.3</td>\n",
       "      <td>50.4</td>\n",
       "    </tr>\n",
       "  </tbody>\n",
       "</table>\n",
       "</div>"
      ],
      "text/plain": [
       "  binary, take more meds than needed  disagree  agree  Total\n",
       "1                           disagree       5.5   30.9   36.5\n",
       "2                              agree       0.6   13.4   14.0\n",
       "3                              Total       6.1   44.3   50.4"
      ]
     },
     "execution_count": 61,
     "metadata": {},
     "output_type": "execute_result"
    }
   ],
   "source": [
    "all3_pm1.iloc[0:3, 1:4] = round(all3_pm1.iloc[0:3, 1:4] * 100 * uncomfortable, 1)\n",
    "all3_pm1"
   ]
  },
  {
   "cell_type": "code",
   "execution_count": 62,
   "metadata": {},
   "outputs": [],
   "source": [
    "# Believe in Taking Excess Meds, but NOT willing to deprescribe or NOT uncomfortable with 5+ pills\n",
    "# all3_pm0['disagree'][1] = 0.9\n",
    "\n",
    "# Willing to deprescribe, but NOT believe to take excess meds or NOT uncomfortable with 5+pills\n",
    "# all3_pm0['agree'][0] = 32.9\n",
    "\n",
    "# Willing to deprescribe AND believes to be taking excess meds, but NOT uncomfortable with 5+ pills\n",
    "# all3_pm0['agree'][1] = 10.6\n",
    "\n",
    "# Uncomfortable with 5+ pills\n",
    "# all3_pm1['Total'][2] -  all3_pm1['agree'][1] = 50.3 - 31 = 19.3\n",
    "\n",
    "# Uncomfortable with 5+ pills AND believes to be taking excess, but NOT willing to deprescribe\n",
    "# all3_pm1['disagree'][1] = 0.6\n",
    "\n",
    "# Uncomfortable with 5+ pills AND willing to deprescribe, but NOT believe to be taking excess\n",
    "# all3_pm1['agree'][0]= 31\n",
    "\n",
    "# Uncomfortable with 5+ pills AND believes to be taking excess AND  willing to deprescribe\n",
    "# all3_pm1['agree'][1] = 13.2\n",
    "\n",
    "#our_venn3_subsets = [(13.8+11.4)-(10.6+13.2), (44.2+43.4)-(10.6+13.2), 10.6+13.2, 50.3-13.8, 13.8, 13.2, 6.1]\n",
    "\n",
    "our_venn3_subsets = [all3_pm0['disagree'][2],\n",
    "                    all3_pm0['agree'][1],\n",
    "                    all3_pm0['agree'][2],\n",
    "                    all3_pm1['disagree'][1],\n",
    "                    all3_pm1['disagree'][2],\n",
    "                    all3_pm1['agree'][1],\n",
    "                    all3_pm1['agree'][2]]\n",
    "our_venn3_subsets = [round(x, 0) for x in our_venn3_subsets]"
   ]
  },
  {
   "cell_type": "code",
   "execution_count": 63,
   "metadata": {},
   "outputs": [
    {
     "data": {
      "text/plain": [
       "[1.0, 33.0, 10.0, 6.0, 1.0, 31.0, 13.0]"
      ]
     },
     "execution_count": 63,
     "metadata": {},
     "output_type": "execute_result"
    }
   ],
   "source": [
    "our_venn3_subsets"
   ]
  },
  {
   "cell_type": "code",
   "execution_count": 64,
   "metadata": {},
   "outputs": [
    {
     "data": {
      "text/plain": [
       "[1, 33, 10, 6, 1, 31, 13]"
      ]
     },
     "execution_count": 64,
     "metadata": {},
     "output_type": "execute_result"
    }
   ],
   "source": [
    "our_venn3_subsets2 = [int(round(k, 0)) for k in our_venn3_subsets]\n",
    "our_venn3_subsets2"
   ]
  },
  {
   "cell_type": "markdown",
   "metadata": {},
   "source": [
    "```\n",
    "[1, '100'],\n",
    "[33, '010'],\n",
    "[10, '110'],\n",
    "[6, '001'],\n",
    "[1, '101'],\n",
    "[31, '011'],\n",
    "[13, '111']\n",
    "``` "
   ]
  },
  {
   "cell_type": "code",
   "execution_count": 65,
   "metadata": {},
   "outputs": [
    {
     "data": {
      "image/png": "[encoded data removed]",
      "text/plain": [
       "<Figure size 1080x504 with 1 Axes>"
      ]
     },
     "metadata": {},
     "output_type": "display_data"
    }
   ],
   "source": [
    "our_values = [1, 33, 10, 6, 1, 31, 13]\n",
    "v = venn3(subsets = [1, 33, 10, 6, 1, 31, 13],\n",
    "      set_labels = ('Believe At Least One\\nMedication No Longer Needed', 'Willing To Deprescribe\\nIf Doctor Said Possible', 'Uncomfortable Taking 5 Or More Pills'),\n",
    "      set_colors =('#E47833', '#BDA0CB', 'gold'),\n",
    "      alpha = 0.5)\n",
    "\n",
    "our_values2 = [1, 33, 10, 6, 31, 13]\n",
    "labels = ['100', '010', '110', '001', '011', '111']\n",
    "\n",
    "for k in range(0, len(labels)):\n",
    "    this_label = labels[k]\n",
    "    this_percent = str(our_values2[k]) + '%' \n",
    "    \n",
    "    v.get_label_by_id(this_label).set_text(this_percent)\n",
    "\n",
    "plt.savefig('../plots/venn-3way-svy.png', bbox_inches='tight')\n",
    "plt.show()"
   ]
  },
  {
   "cell_type": "code",
   "execution_count": 66,
   "metadata": {},
   "outputs": [
    {
     "data": {
      "image/png": "[encoded data removed]",
      "text/plain": [
       "<Figure size 1080x504 with 1 Axes>"
      ]
     },
     "metadata": {},
     "output_type": "display_data"
    }
   ],
   "source": [
    "our_values = [1, 33, 10, 6, 1, 31, 13]\n",
    "v = venn3(subsets = [1, 33, 10, 6, 1, 31, 13],\n",
    "      set_labels = ('Believe At Least One\\nMedication No Longer Needed\\n(Overall, 21%)',\n",
    "                    'Willing To Deprescribe\\nIf Doctor Said Possible\\n(Overall, 85%)',\n",
    "                    'Uncomfortable Taking 5 Or More Pills\\n(Overall, 50%)'),\n",
    "      set_colors =('#E47833', '#BDA0CB', 'gold'),\n",
    "      alpha = 0.5)\n",
    "\n",
    "our_values2 = [1, 33, 10, 6, 31, 13]\n",
    "labels = ['100', '010', '110', '001', '011', '111']\n",
    "\n",
    "for k in range(0, len(labels)):\n",
    "    this_label = labels[k]\n",
    "    this_percent = str(our_values2[k]) + '%' \n",
    "    \n",
    "    v.get_label_by_id(this_label).set_text(this_percent)\n",
    "\n",
    "plt.savefig('../plots/venn-3way-svy.png', bbox_inches='tight')\n",
    "plt.show()"
   ]
  },
  {
   "cell_type": "markdown",
   "metadata": {},
   "source": [
    "There are very few people here who are \"discordant\" in their belief."
   ]
  },
  {
   "cell_type": "code",
   "execution_count": 67,
   "metadata": {},
   "outputs": [
    {
     "data": {
      "text/plain": [
       "5.300000000000011"
      ]
     },
     "execution_count": 67,
     "metadata": {},
     "output_type": "execute_result"
    }
   ],
   "source": [
    "# Amount leftover is the percent that fall under all_pm0['disagree'][1].\n",
    "100-(0.9+0.6+10.6+13.2+32.9+31+5.5)"
   ]
  },
  {
   "cell_type": "markdown",
   "metadata": {},
   "source": [
    "## Resources\n",
    "1. <a href='https://www.stata.com/new-in-stata/jupyter-notebooks/'>STATA's Intro to Jupyter Notebook</a> for use in STATA 17\n",
    "2. <a href='https://stackoverflow.com/questions/36367986/how-to-make-inline-plots-in-jupyter-notebook-larger'>Making Plots Larger</a>, forgot how"
   ]
  }
 ],
 "metadata": {
  "kernelspec": {
   "display_name": "Python 3",
   "language": "python",
   "name": "python3"
  },
  "language_info": {
   "codemirror_mode": {
    "name": "ipython",
    "version": 3
   },
   "file_extension": ".py",
   "mimetype": "text/x-python",
   "name": "python",
   "nbconvert_exporter": "python",
   "pygments_lexer": "ipython3",
   "version": "3.7.4"
  }
 },
 "nbformat": 4,
 "nbformat_minor": 2
}

{
 "cells": [
  {
   "cell_type": "markdown",
   "metadata": {},
   "source": [
    "# Dementia and Pills Plots"
   ]
  },
  {
   "cell_type": "code",
   "execution_count": 1,
   "metadata": {},
   "outputs": [],
   "source": [
    "import pandas as pd\n",
    "import numpy as np\n",
    "\n",
    "from matplotlib_venn import venn2, venn2_circles, venn2_unweighted\n",
    "from matplotlib_venn import venn3, venn3_circles\n",
    "from matplotlib import pyplot as plt\n",
    "%matplotlib inline\n",
    "plt.rcParams['figure.figsize'] = [15, 7]"
   ]
  },
  {
   "cell_type": "code",
   "execution_count": 2,
   "metadata": {},
   "outputs": [
    {
     "name": "stdout",
     "output_type": "stream",
     "text": [
      "\n",
      "  ___  ____  ____  ____  ____ ©\n",
      " /__    /   ____/   /   ____/      17.0\n",
      "___/   /   /___/   /   /___/       MP—Parallel Edition\n",
      "\n",
      " Statistics and Data Science       Copyright 1985-2021 StataCorp LLC\n",
      "                                   StataCorp\n",
      "                                   4905 Lakeway Drive\n",
      "                                   College Station, Texas 77845 USA\n",
      "                                   800-STATA-PC        https://www.stata.com\n",
      "                                   979-696-4600        stata@stata.com\n",
      "\n",
      "Stata license: Single-user 4-core , expiring 20 Jan 2022\n",
      "Serial number: 501709220007\n",
      "  Licensed to: Edie Espejo\n",
      "               \n",
      "\n",
      "Notes:\n",
      "      1. Unicode is supported; see help unicode_advice.\n",
      "      2. More than 2 billion observations are allowed; see help obs_advice.\n",
      "      3. Maximum number of variables is set to 5,000; see help set_maxvar.\n"
     ]
    }
   ],
   "source": [
    "import stata_setup\n",
    "\n",
    "stata_setup.config(\"/Applications/Stata\", \"mp\")"
   ]
  },
  {
   "cell_type": "code",
   "execution_count": 3,
   "metadata": {},
   "outputs": [],
   "source": [
    "%%stata\n",
    "clear"
   ]
  },
  {
   "cell_type": "code",
   "execution_count": 4,
   "metadata": {},
   "outputs": [
    {
     "name": "stdout",
     "output_type": "stream",
     "text": [
      "\n",
      ". use \"../data/step-2/cleaned-data.dta\"\n",
      "(Written by R)\n",
      "\n",
      ". \n",
      ". svyset w6varunit [pweight=w6anfinwgt0], strata(w6varstrat)\n",
      "\n",
      "Sampling weights: w6anfinwgt0\n",
      "             VCE: linearized\n",
      "     Single unit: missing\n",
      "        Strata 1: w6varstrat\n",
      " Sampling unit 1: w6varunit\n",
      "           FPC 1: <zero>\n",
      "\n",
      ". \n",
      ". recode is6prxyrelat (6/30 32/92 =6), gen (prxyrelat_new)\n",
      "(18 differences between is6prxyrelat and prxyrelat_new)\n",
      "\n",
      ". label variable prxyrelat_new \"proxy-relationship\"\n",
      "\n",
      ". label define prxyrelat 2 \"spouse/partner\" 3 \"daughter\" 4 \"son\" 5 \"daughter-in\n",
      "> -law\" 31 \"paid aide/employee\" 6 \"other\"\n",
      "\n",
      ". label values prxyrelat_new prxyrelat\n",
      "\n",
      ". \n",
      ". label variable is6famrrutin \"how familiar with routine\"\n",
      "\n",
      ". label define is6famrrutin 1 \"very familiar\" 2 \"somewhat familiar\" 3 \"a little\n",
      ">  familiar\" 4 \"not at all/refused/don't know\"\n",
      "\n",
      ". label values is6famrrutin is6famrrutin\n",
      "\n",
      ". \n"
     ]
    }
   ],
   "source": [
    "%%stata\n",
    "use \"../data/step-2/cleaned-data.dta\"\n",
    "replace subpop=0 if binaryattitude3==. & binaryattitude4==. & pillsmax==.\n",
    "\n",
    "svyset w6varunit [pweight=w6anfinwgt0], strata(w6varstrat)\n",
    "\n",
    "recode is6prxyrelat (6/30 32/92 =6), gen (prxyrelat_new)\n",
    "label variable prxyrelat_new \"proxy-relationship\"\n",
    "label define prxyrelat 2 \"spouse/partner\" 3 \"daughter\" 4 \"son\" 5 \"daughter-in-law\" 31 \"paid aide/employee\" 6 \"other\"\n",
    "label values prxyrelat_new prxyrelat\n",
    "\n",
    "label variable is6famrrutin \"how familiar with routine\"\n",
    "label define is6famrrutin 1 \"very familiar\" 2 \"somewhat familiar\" 3 \"a little familiar\" 4 \"not at all/refused/don't know\"\n",
    "label values is6famrrutin is6famrrutin"
   ]
  },
  {
   "cell_type": "code",
   "execution_count": 5,
   "metadata": {},
   "outputs": [
    {
     "name": "stdout",
     "output_type": "stream",
     "text": [
      "\n",
      ". \n",
      ". gen dementia_diagnosis=.\n",
      "(2,096 missing values generated)\n",
      "\n",
      ". replace dementia_diagnosis=0 if hc6disescn9==0\n",
      "(1,935 real changes made)\n",
      "\n",
      ". replace dementia_diagnosis=1 if hc6disescn9==7\n",
      "(0 real changes made)\n",
      "\n",
      ". replace dementia_diagnosis=1 if hc6disescn9==1\n",
      "(161 real changes made)\n",
      "\n",
      ". \n",
      ". label variable dementia_diagnosis \"diagnosed with dementia\"\n",
      "\n",
      ". label define dementia_diagnosis_lab 0 \"not diagnosed\" 1 \"diagnosed\"\n",
      "\n",
      ". label values dementia_diagnosis dementia_diagnosis_lab\n",
      "\n",
      ". \n"
     ]
    }
   ],
   "source": [
    "%%stata\n",
    "\n",
    "gen dementia_diagnosis=.\n",
    "replace dementia_diagnosis=0 if hc6disescn9==0\n",
    "replace dementia_diagnosis=1 if hc6disescn9==7\n",
    "replace dementia_diagnosis=1 if hc6disescn9==1\n",
    "\n",
    "label variable dementia_diagnosis \"diagnosed with dementia\"\n",
    "label define dementia_diagnosis_lab 0 \"not diagnosed\" 1 \"diagnosed\"\n",
    "label values dementia_diagnosis dementia_diagnosis_lab"
   ]
  },
  {
   "cell_type": "code",
   "execution_count": 6,
   "metadata": {},
   "outputs": [
    {
     "name": "stdout",
     "output_type": "stream",
     "text": [
      "\n",
      ". gen pillsmax_clean = .\n",
      "(2,096 missing values generated)\n",
      "\n",
      ". replace pillsmax_clean=ma6pillsmax if ma6pillsmax>0\n",
      "(1,982 real changes made)\n",
      "\n",
      ". \n",
      ". quietly: tabout pillsmax_clean if subpop using \"../tables/plottables/pillsmax\n",
      "> .csv\", svy cells(cells) format(2) replace\n",
      "\n",
      ".     \n",
      ". quietly: tabout dementia_diagnosis pillsmax_clean if subpop using \"../tables/\n",
      "> plottables/diagnosis-pills.csv\", svy cells(row) format(2) replace\n",
      "\n",
      ". quietly: tabout dementia_diagnosis pillsmax_clean if subpop using \"../tables/\n",
      "> plottables/diagnosis-pills-2.csv\", svy cells(cells) format(2) replace\n",
      "\n",
      ". \n"
     ]
    }
   ],
   "source": [
    "%%stata\n",
    "gen pillsmax_clean = .\n",
    "replace pillsmax_clean=ma6pillsmax if ma6pillsmax>0\n",
    "\n",
    "quietly: tabout pillsmax_clean if subpop using \"../tables/plottables/pillsmax.csv\", svy cells(cells) format(2) replace\n",
    "    \n",
    "quietly: tabout dementia_diagnosis pillsmax_clean if subpop using \"../tables/plottables/diagnosis-pills.csv\", svy cells(row) format(2) replace\n",
    "quietly: tabout dementia_diagnosis pillsmax_clean if subpop using \"../tables/plottables/diagnosis-pills-2.csv\", svy cells(cells) format(2) replace"
   ]
  },
  {
   "cell_type": "code",
   "execution_count": 7,
   "metadata": {},
   "outputs": [
    {
     "data": {
      "text/html": [
       "<div>\n",
       "<style scoped>\n",
       "    .dataframe tbody tr th:only-of-type {\n",
       "        vertical-align: middle;\n",
       "    }\n",
       "\n",
       "    .dataframe tbody tr th {\n",
       "        vertical-align: top;\n",
       "    }\n",
       "\n",
       "    .dataframe thead th {\n",
       "        text-align: right;\n",
       "    }\n",
       "</style>\n",
       "<table border=\"1\" class=\"dataframe\">\n",
       "  <thead>\n",
       "    <tr style=\"text-align: right;\">\n",
       "      <th></th>\n",
       "      <th>pillsmax_clean</th>\n",
       "      <th>Prop.</th>\n",
       "    </tr>\n",
       "  </thead>\n",
       "  <tbody>\n",
       "    <tr>\n",
       "      <th>0</th>\n",
       "      <td>1</td>\n",
       "      <td>0.50</td>\n",
       "    </tr>\n",
       "    <tr>\n",
       "      <th>1</th>\n",
       "      <td>2</td>\n",
       "      <td>0.21</td>\n",
       "    </tr>\n",
       "    <tr>\n",
       "      <th>2</th>\n",
       "      <td>3</td>\n",
       "      <td>0.15</td>\n",
       "    </tr>\n",
       "    <tr>\n",
       "      <th>3</th>\n",
       "      <td>4</td>\n",
       "      <td>0.09</td>\n",
       "    </tr>\n",
       "    <tr>\n",
       "      <th>4</th>\n",
       "      <td>5</td>\n",
       "      <td>0.03</td>\n",
       "    </tr>\n",
       "    <tr>\n",
       "      <th>5</th>\n",
       "      <td>6</td>\n",
       "      <td>0.02</td>\n",
       "    </tr>\n",
       "    <tr>\n",
       "      <th>6</th>\n",
       "      <td>Total</td>\n",
       "      <td>1.00</td>\n",
       "    </tr>\n",
       "  </tbody>\n",
       "</table>\n",
       "</div>"
      ],
      "text/plain": [
       "  pillsmax_clean  Prop.\n",
       "0              1   0.50\n",
       "1              2   0.21\n",
       "2              3   0.15\n",
       "3              4   0.09\n",
       "4              5   0.03\n",
       "5              6   0.02\n",
       "6          Total   1.00"
      ]
     },
     "execution_count": 7,
     "metadata": {},
     "output_type": "execute_result"
    }
   ],
   "source": [
    "pills = pd.read_table('../tables/plottables/pillsmax.csv')\n",
    "pills"
   ]
  },
  {
   "cell_type": "code",
   "execution_count": 8,
   "metadata": {},
   "outputs": [
    {
     "data": {
      "text/html": [
       "<div>\n",
       "<style scoped>\n",
       "    .dataframe tbody tr th:only-of-type {\n",
       "        vertical-align: middle;\n",
       "    }\n",
       "\n",
       "    .dataframe tbody tr th {\n",
       "        vertical-align: top;\n",
       "    }\n",
       "\n",
       "    .dataframe thead th {\n",
       "        text-align: right;\n",
       "    }\n",
       "</style>\n",
       "<table border=\"1\" class=\"dataframe\">\n",
       "  <thead>\n",
       "    <tr style=\"text-align: right;\">\n",
       "      <th></th>\n",
       "      <th>diagnosed with dementia</th>\n",
       "      <th>1</th>\n",
       "      <th>2</th>\n",
       "      <th>3</th>\n",
       "      <th>4</th>\n",
       "      <th>5</th>\n",
       "      <th>6</th>\n",
       "      <th>Total</th>\n",
       "    </tr>\n",
       "  </thead>\n",
       "  <tbody>\n",
       "    <tr>\n",
       "      <th>1</th>\n",
       "      <td>not diagnosed</td>\n",
       "      <td>0.52</td>\n",
       "      <td>0.21</td>\n",
       "      <td>0.15</td>\n",
       "      <td>0.07</td>\n",
       "      <td>0.02</td>\n",
       "      <td>0.03</td>\n",
       "      <td>1.00</td>\n",
       "    </tr>\n",
       "    <tr>\n",
       "      <th>2</th>\n",
       "      <td>diagnosed</td>\n",
       "      <td>0.48</td>\n",
       "      <td>0.20</td>\n",
       "      <td>0.15</td>\n",
       "      <td>0.12</td>\n",
       "      <td>0.04</td>\n",
       "      <td>0.01</td>\n",
       "      <td>1.00</td>\n",
       "    </tr>\n",
       "    <tr>\n",
       "      <th>3</th>\n",
       "      <td>Total</td>\n",
       "      <td>0.50</td>\n",
       "      <td>0.21</td>\n",
       "      <td>0.15</td>\n",
       "      <td>0.09</td>\n",
       "      <td>0.03</td>\n",
       "      <td>0.02</td>\n",
       "      <td>1.00</td>\n",
       "    </tr>\n",
       "  </tbody>\n",
       "</table>\n",
       "</div>"
      ],
      "text/plain": [
       "  diagnosed with dementia     1     2     3     4     5     6 Total\n",
       "1           not diagnosed  0.52  0.21  0.15  0.07  0.02  0.03  1.00\n",
       "2               diagnosed  0.48  0.20  0.15  0.12  0.04  0.01  1.00\n",
       "3                   Total  0.50  0.21  0.15  0.09  0.03  0.02  1.00"
      ]
     },
     "execution_count": 8,
     "metadata": {},
     "output_type": "execute_result"
    }
   ],
   "source": [
    "diagnosis_pills_row = pd.read_table('../tables/plottables/diagnosis-pills.csv', skiprows=1)\n",
    "diagnosis_pills_row = diagnosis_pills_row.drop([0])\n",
    "diagnosis_pills_row"
   ]
  },
  {
   "cell_type": "code",
   "execution_count": 9,
   "metadata": {},
   "outputs": [
    {
     "data": {
      "text/html": [
       "<div>\n",
       "<style scoped>\n",
       "    .dataframe tbody tr th:only-of-type {\n",
       "        vertical-align: middle;\n",
       "    }\n",
       "\n",
       "    .dataframe tbody tr th {\n",
       "        vertical-align: top;\n",
       "    }\n",
       "\n",
       "    .dataframe thead th {\n",
       "        text-align: right;\n",
       "    }\n",
       "</style>\n",
       "<table border=\"1\" class=\"dataframe\">\n",
       "  <thead>\n",
       "    <tr style=\"text-align: right;\">\n",
       "      <th></th>\n",
       "      <th>diagnosed with dementia</th>\n",
       "      <th>1</th>\n",
       "      <th>2</th>\n",
       "      <th>3</th>\n",
       "      <th>4</th>\n",
       "      <th>5</th>\n",
       "      <th>6</th>\n",
       "      <th>Total</th>\n",
       "    </tr>\n",
       "  </thead>\n",
       "  <tbody>\n",
       "    <tr>\n",
       "      <th>1</th>\n",
       "      <td>not diagnosed</td>\n",
       "      <td>0.34</td>\n",
       "      <td>0.14</td>\n",
       "      <td>0.10</td>\n",
       "      <td>0.05</td>\n",
       "      <td>0.01</td>\n",
       "      <td>0.02</td>\n",
       "      <td>0.66</td>\n",
       "    </tr>\n",
       "    <tr>\n",
       "      <th>2</th>\n",
       "      <td>diagnosed</td>\n",
       "      <td>0.16</td>\n",
       "      <td>0.07</td>\n",
       "      <td>0.05</td>\n",
       "      <td>0.04</td>\n",
       "      <td>0.01</td>\n",
       "      <td>0.00</td>\n",
       "      <td>0.34</td>\n",
       "    </tr>\n",
       "    <tr>\n",
       "      <th>3</th>\n",
       "      <td>Total</td>\n",
       "      <td>0.50</td>\n",
       "      <td>0.21</td>\n",
       "      <td>0.15</td>\n",
       "      <td>0.09</td>\n",
       "      <td>0.03</td>\n",
       "      <td>0.02</td>\n",
       "      <td>1.00</td>\n",
       "    </tr>\n",
       "  </tbody>\n",
       "</table>\n",
       "</div>"
      ],
      "text/plain": [
       "  diagnosed with dementia     1     2     3     4     5     6 Total\n",
       "1           not diagnosed  0.34  0.14  0.10  0.05  0.01  0.02  0.66\n",
       "2               diagnosed  0.16  0.07  0.05  0.04  0.01  0.00  0.34\n",
       "3                   Total  0.50  0.21  0.15  0.09  0.03  0.02  1.00"
      ]
     },
     "execution_count": 9,
     "metadata": {},
     "output_type": "execute_result"
    }
   ],
   "source": [
    "diagnosis_pills_cell = pd.read_table('../tables/plottables/diagnosis-pills-2.csv', skiprows=1)\n",
    "diagnosis_pills_cell = diagnosis_pills_cell.drop([0])\n",
    "diagnosis_pills_cell"
   ]
  },
  {
   "cell_type": "code",
   "execution_count": 10,
   "metadata": {},
   "outputs": [
    {
     "name": "stdout",
     "output_type": "stream",
     "text": [
      "\n",
      ". quietly: tabout dementia pillsmax_clean if subpop using \"../tables/plottables\n",
      "> /dementia-pills.csv\", svy cells(row) format(2) replace\n",
      "\n",
      ". quietly: tabout dementia pillsmax_clean if subpop using \"../tables/plottables\n",
      "> /dementia-pills-2.csv\", svy cells(cells) format(2) replace\n",
      "\n",
      ". \n"
     ]
    }
   ],
   "source": [
    "%%stata\n",
    "quietly: tabout dementia pillsmax_clean if subpop using \"../tables/plottables/dementia-pills.csv\", svy cells(row) format(2) replace\n",
    "quietly: tabout dementia pillsmax_clean if subpop using \"../tables/plottables/dementia-pills-2.csv\", svy cells(cells) format(2) replace"
   ]
  },
  {
   "cell_type": "code",
   "execution_count": 11,
   "metadata": {},
   "outputs": [
    {
     "data": {
      "text/html": [
       "<div>\n",
       "<style scoped>\n",
       "    .dataframe tbody tr th:only-of-type {\n",
       "        vertical-align: middle;\n",
       "    }\n",
       "\n",
       "    .dataframe tbody tr th {\n",
       "        vertical-align: top;\n",
       "    }\n",
       "\n",
       "    .dataframe thead th {\n",
       "        text-align: right;\n",
       "    }\n",
       "</style>\n",
       "<table border=\"1\" class=\"dataframe\">\n",
       "  <thead>\n",
       "    <tr style=\"text-align: right;\">\n",
       "      <th></th>\n",
       "      <th>dementia status</th>\n",
       "      <th>1</th>\n",
       "      <th>2</th>\n",
       "      <th>3</th>\n",
       "      <th>4</th>\n",
       "      <th>5</th>\n",
       "      <th>6</th>\n",
       "      <th>Total</th>\n",
       "    </tr>\n",
       "  </thead>\n",
       "  <tbody>\n",
       "    <tr>\n",
       "      <th>1</th>\n",
       "      <td>possible dementia</td>\n",
       "      <td>0.50</td>\n",
       "      <td>0.22</td>\n",
       "      <td>0.17</td>\n",
       "      <td>0.08</td>\n",
       "      <td>0.02</td>\n",
       "      <td>0.01</td>\n",
       "      <td>1.00</td>\n",
       "    </tr>\n",
       "    <tr>\n",
       "      <th>2</th>\n",
       "      <td>probable dementia</td>\n",
       "      <td>0.50</td>\n",
       "      <td>0.20</td>\n",
       "      <td>0.13</td>\n",
       "      <td>0.10</td>\n",
       "      <td>0.03</td>\n",
       "      <td>0.03</td>\n",
       "      <td>1.00</td>\n",
       "    </tr>\n",
       "    <tr>\n",
       "      <th>3</th>\n",
       "      <td>Total</td>\n",
       "      <td>0.50</td>\n",
       "      <td>0.21</td>\n",
       "      <td>0.15</td>\n",
       "      <td>0.09</td>\n",
       "      <td>0.03</td>\n",
       "      <td>0.02</td>\n",
       "      <td>1.00</td>\n",
       "    </tr>\n",
       "  </tbody>\n",
       "</table>\n",
       "</div>"
      ],
      "text/plain": [
       "     dementia status     1     2     3     4     5     6 Total\n",
       "1  possible dementia  0.50  0.22  0.17  0.08  0.02  0.01  1.00\n",
       "2  probable dementia  0.50  0.20  0.13  0.10  0.03  0.03  1.00\n",
       "3              Total  0.50  0.21  0.15  0.09  0.03  0.02  1.00"
      ]
     },
     "execution_count": 11,
     "metadata": {},
     "output_type": "execute_result"
    }
   ],
   "source": [
    "dementia_pills_row = pd.read_table('../tables/plottables/dementia-pills.csv', skiprows=1)\n",
    "dementia_pills_row = dementia_pills_row.drop([0])\n",
    "dementia_pills_row"
   ]
  },
  {
   "cell_type": "code",
   "execution_count": 12,
   "metadata": {},
   "outputs": [
    {
     "data": {
      "text/html": [
       "<div>\n",
       "<style scoped>\n",
       "    .dataframe tbody tr th:only-of-type {\n",
       "        vertical-align: middle;\n",
       "    }\n",
       "\n",
       "    .dataframe tbody tr th {\n",
       "        vertical-align: top;\n",
       "    }\n",
       "\n",
       "    .dataframe thead th {\n",
       "        text-align: right;\n",
       "    }\n",
       "</style>\n",
       "<table border=\"1\" class=\"dataframe\">\n",
       "  <thead>\n",
       "    <tr style=\"text-align: right;\">\n",
       "      <th></th>\n",
       "      <th>dementia status</th>\n",
       "      <th>1</th>\n",
       "      <th>2</th>\n",
       "      <th>3</th>\n",
       "      <th>4</th>\n",
       "      <th>5</th>\n",
       "      <th>6</th>\n",
       "      <th>Total</th>\n",
       "    </tr>\n",
       "  </thead>\n",
       "  <tbody>\n",
       "    <tr>\n",
       "      <th>1</th>\n",
       "      <td>possible dementia</td>\n",
       "      <td>0.23</td>\n",
       "      <td>0.10</td>\n",
       "      <td>0.08</td>\n",
       "      <td>0.04</td>\n",
       "      <td>0.01</td>\n",
       "      <td>0.01</td>\n",
       "      <td>0.45</td>\n",
       "    </tr>\n",
       "    <tr>\n",
       "      <th>2</th>\n",
       "      <td>probable dementia</td>\n",
       "      <td>0.28</td>\n",
       "      <td>0.11</td>\n",
       "      <td>0.07</td>\n",
       "      <td>0.06</td>\n",
       "      <td>0.02</td>\n",
       "      <td>0.02</td>\n",
       "      <td>0.55</td>\n",
       "    </tr>\n",
       "    <tr>\n",
       "      <th>3</th>\n",
       "      <td>Total</td>\n",
       "      <td>0.50</td>\n",
       "      <td>0.21</td>\n",
       "      <td>0.15</td>\n",
       "      <td>0.09</td>\n",
       "      <td>0.03</td>\n",
       "      <td>0.02</td>\n",
       "      <td>1.00</td>\n",
       "    </tr>\n",
       "  </tbody>\n",
       "</table>\n",
       "</div>"
      ],
      "text/plain": [
       "     dementia status     1     2     3     4     5     6 Total\n",
       "1  possible dementia  0.23  0.10  0.08  0.04  0.01  0.01  0.45\n",
       "2  probable dementia  0.28  0.11  0.07  0.06  0.02  0.02  0.55\n",
       "3              Total  0.50  0.21  0.15  0.09  0.03  0.02  1.00"
      ]
     },
     "execution_count": 12,
     "metadata": {},
     "output_type": "execute_result"
    }
   ],
   "source": [
    "dementia_pills_cell = pd.read_table('../tables/plottables/dementia-pills-2.csv', skiprows=1)\n",
    "dementia_pills_cell = dementia_pills_cell.drop([0])\n",
    "dementia_pills_cell"
   ]
  },
  {
   "cell_type": "code",
   "execution_count": 13,
   "metadata": {},
   "outputs": [],
   "source": [
    "pills.to_csv('../tables/clean-csv/pills.csv')\n",
    "\n",
    "diagnosis_pills_row.to_csv('../tables/clean-csv/diagnosis-pills-row.csv')\n",
    "diagnosis_pills_cell.to_csv('../tables/clean-csv/diagnosis-pills-cell.csv')\n",
    "dementia_pills_row.to_csv('../tables/clean-csv/dementia-pills-row.csv')\n",
    "dementia_pills_cell.to_csv('../tables/clean-csv/dementia-pills-cell.csv')"
   ]
  }
 ],
 "metadata": {
  "kernelspec": {
   "display_name": "Python 3",
   "language": "python",
   "name": "python3"
  },
  "language_info": {
   "codemirror_mode": {
    "name": "ipython",
    "version": 3
   },
   "file_extension": ".py",
   "mimetype": "text/x-python",
   "name": "python",
   "nbconvert_exporter": "python",
   "pygments_lexer": "ipython3",
   "version": "3.7.4"
  }
 },
 "nbformat": 4,
 "nbformat_minor": 2
}

{
 "cells": [
  {
   "cell_type": "markdown",
   "metadata": {},
   "source": [
    "# Analysis\n",
    "This notebook will serve the purpose of analyzing general characteristics of the dataset outside of the regression modeling. The dataset here are the same cleaned data used for the modeling step."
   ]
  },
  {
   "cell_type": "code",
   "execution_count": 1,
   "metadata": {},
   "outputs": [],
   "source": [
    "import pandas as pd\n",
    "import numpy as np\n",
    "\n",
    "from matplotlib_venn import venn2, venn2_circles, venn2_unweighted\n",
    "from matplotlib_venn import venn3, venn3_circles\n",
    "from matplotlib import pyplot as plt\n",
    "%matplotlib inline\n",
    "plt.rcParams['figure.figsize'] = [15, 7]"
   ]
  },
  {
   "cell_type": "code",
   "execution_count": 2,
   "metadata": {},
   "outputs": [
    {
     "name": "stdout",
     "output_type": "stream",
     "text": [
      "\n",
      "  ___  ____  ____  ____  ____ ©\n",
      " /__    /   ____/   /   ____/      17.0\n",
      "___/   /   /___/   /   /___/       MP—Parallel Edition\n",
      "\n",
      " Statistics and Data Science       Copyright 1985-2021 StataCorp LLC\n",
      "                                   StataCorp\n",
      "                                   4905 Lakeway Drive\n",
      "                                   College Station, Texas 77845 USA\n",
      "                                   800-STATA-PC        https://www.stata.com\n",
      "                                   979-696-4600        stata@stata.com\n",
      "\n",
      "Stata license: Single-user 4-core , expiring 20 Jan 2022\n",
      "Serial number: 501709220007\n",
      "  Licensed to: Edie Espejo\n",
      "               \n",
      "\n",
      "Notes:\n",
      "      1. Unicode is supported; see help unicode_advice.\n",
      "      2. More than 2 billion observations are allowed; see help obs_advice.\n",
      "      3. Maximum number of variables is set to 5,000; see help set_maxvar.\n"
     ]
    }
   ],
   "source": [
    "import stata_setup\n",
    "\n",
    "stata_setup.config(\"/Applications/Stata\", \"mp\")"
   ]
  },
  {
   "cell_type": "markdown",
   "metadata": {},
   "source": [
    "## Loading and Cleaning Data\n",
    "The <a href='https://www.nhats.org/sites/default/files/2020-06/01_IS_Round6.pdf'>Interview Setup</a> questions provide information about a proxy respondent if there is one."
   ]
  },
  {
   "cell_type": "code",
   "execution_count": 3,
   "metadata": {},
   "outputs": [],
   "source": [
    "%%stata\n",
    "clear"
   ]
  },
  {
   "cell_type": "code",
   "execution_count": 4,
   "metadata": {},
   "outputs": [
    {
     "data": {
      "text/plain": [
       "'/Users/ee/GitHub/rp3-aim3-medication-attitudes/sensitivity-analysis/scripts'"
      ]
     },
     "execution_count": 4,
     "metadata": {},
     "output_type": "execute_result"
    }
   ],
   "source": [
    "import os\n",
    "os.getcwd()"
   ]
  },
  {
   "cell_type": "code",
   "execution_count": 5,
   "metadata": {},
   "outputs": [
    {
     "name": "stdout",
     "output_type": "stream",
     "text": [
      "\n",
      ". use \"../data/step-1-self/cleaned-data.dta\"\n",
      "(Written by R)\n",
      "\n",
      ". \n",
      ". svyset w6varunit [pweight=w6anfinwgt0], strata(w6varstrat)\n",
      "\n",
      "Sampling weights: w6anfinwgt0\n",
      "             VCE: linearized\n",
      "     Single unit: missing\n",
      "        Strata 1: w6varstrat\n",
      " Sampling unit 1: w6varunit\n",
      "           FPC 1: <zero>\n",
      "\n",
      ". \n",
      ". recode is6prxyrelat (6/30 32/92 =6), gen (prxyrelat_new)\n",
      "(18 differences between is6prxyrelat and prxyrelat_new)\n",
      "\n",
      ". label variable prxyrelat_new \"proxy-relationship\"\n",
      "\n",
      ". label define prxyrelat 2 \"spouse/partner\" 3 \"daughter\" 4 \"son\" 5 \"daughter-in\n",
      "> -law\" 31 \"paid aide/employee\" 6 \"other\"\n",
      "\n",
      ". label values prxyrelat_new prxyrelat\n",
      "\n",
      ". \n",
      ". label variable is6famrrutin \"how familiar with routine\"\n",
      "\n",
      ". label define is6famrrutin 1 \"very familiar\" 2 \"somewhat familiar\" 3 \"a little\n",
      ">  familiar\" 4 \"not at all/refused/don't know\"\n",
      "\n",
      ". label values is6famrrutin is6famrrutin\n",
      "\n",
      ". \n"
     ]
    }
   ],
   "source": [
    "%%stata\n",
    "use \"../data/step-1-self/cleaned-data.dta\"\n",
    "\n",
    "svyset w6varunit [pweight=w6anfinwgt0], strata(w6varstrat)\n",
    "\n",
    "recode is6prxyrelat (6/30 32/92 =6), gen (prxyrelat_new)\n",
    "label variable prxyrelat_new \"proxy-relationship\"\n",
    "label define prxyrelat 2 \"spouse/partner\" 3 \"daughter\" 4 \"son\" 5 \"daughter-in-law\" 31 \"paid aide/employee\" 6 \"other\"\n",
    "label values prxyrelat_new prxyrelat\n",
    "\n",
    "label variable is6famrrutin \"how familiar with routine\"\n",
    "label define is6famrrutin 1 \"very familiar\" 2 \"somewhat familiar\" 3 \"a little familiar\" 4 \"not at all/refused/don't know\"\n",
    "label values is6famrrutin is6famrrutin"
   ]
  },
  {
   "cell_type": "code",
   "execution_count": 6,
   "metadata": {},
   "outputs": [
    {
     "name": "stdout",
     "output_type": "stream",
     "text": [
      "\n",
      "    proxy status |      Freq.     Percent        Cum.\n",
      "-----------------+-----------------------------------\n",
      "   sample person |        320      100.00      100.00\n",
      "-----------------+-----------------------------------\n",
      "           Total |        320      100.00\n"
     ]
    }
   ],
   "source": [
    "%%stata\n",
    "tab proxy if subpop"
   ]
  },
  {
   "cell_type": "code",
   "execution_count": 7,
   "metadata": {},
   "outputs": [
    {
     "name": "stdout",
     "output_type": "stream",
     "text": [
      "\n",
      ". \n",
      ". gen dementia_diagnosis=.\n",
      "(2,096 missing values generated)\n",
      "\n",
      ". replace dementia_diagnosis=0 if hc6disescn9==0\n",
      "(1,935 real changes made)\n",
      "\n",
      ". replace dementia_diagnosis=1 if hc6disescn9==7\n",
      "(0 real changes made)\n",
      "\n",
      ". replace dementia_diagnosis=1 if hc6disescn9==1\n",
      "(161 real changes made)\n",
      "\n",
      ". \n",
      ". label variable dementia_diagnosis \"diagnosed with dementia\"\n",
      "\n",
      ". label define dementia_diagnosis_lab 0 \"not diagnosed\" 1 \"diagnosed\"\n",
      "\n",
      ". label values dementia_diagnosis dementia_diagnosis_lab\n",
      "\n",
      ". \n"
     ]
    }
   ],
   "source": [
    "%%stata\n",
    "\n",
    "gen dementia_diagnosis=.\n",
    "replace dementia_diagnosis=0 if hc6disescn9==0\n",
    "replace dementia_diagnosis=1 if hc6disescn9==7\n",
    "replace dementia_diagnosis=1 if hc6disescn9==1\n",
    "\n",
    "label variable dementia_diagnosis \"diagnosed with dementia\"\n",
    "label define dementia_diagnosis_lab 0 \"not diagnosed\" 1 \"diagnosed\"\n",
    "label values dementia_diagnosis dementia_diagnosis_lab"
   ]
  },
  {
   "cell_type": "markdown",
   "metadata": {},
   "source": [
    "## Who is aware of their dementia diagnosis?\n",
    "**Results for the full module:** For those who had \"no dementia\", 100% were not diagnosed with dementia (previously). Similarly, those with \"possible dementia\" were not diagnosed with dementia. For the group that had \"probable\" dementia, 61% were diagnosed and 39% were not."
   ]
  },
  {
   "cell_type": "code",
   "execution_count": 8,
   "metadata": {},
   "outputs": [
    {
     "name": "stdout",
     "output_type": "stream",
     "text": [
      "(running tabulate on estimation sample)\n",
      "\n",
      "Number of strata =  56                            Number of obs   =      2,096\n",
      "Number of PSUs   = 112                            Population size = 13,039,732\n",
      "                                                  Design df       =         56\n",
      "\n",
      "--------------------------------------\n",
      "diagnosed |\n",
      "with      |         r6demclas         \n",
      "dementia  |     1      2      3  Total\n",
      "----------+---------------------------\n",
      " not diag | .3927      1      1  .9482\n",
      "          |   100    178   1657   1935\n",
      "          | \n",
      " diagnose | .6073      0      0  .0518\n",
      "          |   161      0      0    161\n",
      "          | \n",
      "    Total |     1      1      1      1\n",
      "          |   261    178   1657   2096\n",
      "--------------------------------------\n",
      "Key: Column proportion\n",
      "     Number of observations\n",
      "\n",
      "  Pearson:\n",
      "    Uncorrected   chi2(2)         = 1227.8636\n",
      "    Design-based  F(1.88, 105.53) =  612.0137     P = 0.0000\n"
     ]
    }
   ],
   "source": [
    "%%stata\n",
    "svy: tab dementia_diagnosis r6demclas, obs col"
   ]
  },
  {
   "cell_type": "markdown",
   "metadata": {},
   "source": [
    "**Results for our subpopulation:** According to the below table, of those who had \"possible\" dementia, all of them were not previously diagnosed with dementia. Of those who had \"probable\" dementia, approximately 61% reported a previous diagnosis."
   ]
  },
  {
   "cell_type": "code",
   "execution_count": 9,
   "metadata": {},
   "outputs": [
    {
     "name": "stdout",
     "output_type": "stream",
     "text": [
      "(running tabulate on estimation sample)\n",
      "\n",
      "Number of strata =  55                           Number of obs   =       2,091\n",
      "Number of PSUs   = 110                           Population size =  12,999,949\n",
      "                                                 Subpop. no. obs =         320\n",
      "                                                 Subpop. size    = 1,416,366.5\n",
      "                                                 Design df       =          55\n",
      "\n",
      "----------------------------------------\n",
      "diagnosed |\n",
      "with      |       dementia status       \n",
      "dementia  | possible  probable     Total\n",
      "----------+-----------------------------\n",
      " not diag |        1     .4739      .772\n",
      "          |      174        69       243\n",
      "          | \n",
      " diagnose |        0     .5261      .228\n",
      "          |        0        77        77\n",
      "          | \n",
      "    Total |        1         1         1\n",
      "          |      174       146       320\n",
      "----------------------------------------\n",
      "Key: Column proportion\n",
      "     Number of observations\n",
      "\n",
      "  Pearson:\n",
      "    Uncorrected   chi2(1)         =  807.5199\n",
      "    Design-based  F(1, 55)        =  109.6268     P = 0.0000\n",
      "\n",
      "Note: 1 stratum omitted because it contains no subpopulation members.\n"
     ]
    }
   ],
   "source": [
    "%%stata\n",
    "svy, subpop(subpop): tab dementia_diagnosis dementia, obs col"
   ]
  },
  {
   "cell_type": "markdown",
   "metadata": {},
   "source": [
    "## Who is the proxy respondent?\n",
    "Proxy respondents for our subsample are typically daughters (37.2%) and spouses (31.5%)."
   ]
  },
  {
   "cell_type": "code",
   "execution_count": 10,
   "metadata": {},
   "outputs": [
    {
     "name": "stdout",
     "output_type": "stream",
     "text": [
      "\n",
      ". quietly: svy, subpop(proxy): tab prxyrelat_new if prxyrelat_new != -1\n",
      "\n",
      ". quietly: ereturn list\n",
      "\n",
      ". \n"
     ]
    }
   ],
   "source": [
    "%%stata -eret myeret0\n",
    "quietly: svy, subpop(proxy): tab prxyrelat_new if prxyrelat_new != -1\n",
    "quietly: ereturn list"
   ]
  },
  {
   "cell_type": "code",
   "execution_count": 11,
   "metadata": {},
   "outputs": [
    {
     "data": {
      "text/html": [
       "<div>\n",
       "<style scoped>\n",
       "    .dataframe tbody tr th:only-of-type {\n",
       "        vertical-align: middle;\n",
       "    }\n",
       "\n",
       "    .dataframe tbody tr th {\n",
       "        vertical-align: top;\n",
       "    }\n",
       "\n",
       "    .dataframe thead th {\n",
       "        text-align: right;\n",
       "    }\n",
       "</style>\n",
       "<table border=\"1\" class=\"dataframe\">\n",
       "  <thead>\n",
       "    <tr style=\"text-align: right;\">\n",
       "      <th></th>\n",
       "      <th>Observed</th>\n",
       "      <th>Proportion</th>\n",
       "      <th>Proxy Relationship</th>\n",
       "    </tr>\n",
       "  </thead>\n",
       "  <tbody>\n",
       "    <tr>\n",
       "      <th>1</th>\n",
       "      <td>52.0</td>\n",
       "      <td>0.370</td>\n",
       "      <td>daughter</td>\n",
       "    </tr>\n",
       "    <tr>\n",
       "      <th>0</th>\n",
       "      <td>30.0</td>\n",
       "      <td>0.313</td>\n",
       "      <td>spouse/partner</td>\n",
       "    </tr>\n",
       "    <tr>\n",
       "      <th>2</th>\n",
       "      <td>19.0</td>\n",
       "      <td>0.132</td>\n",
       "      <td>son</td>\n",
       "    </tr>\n",
       "    <tr>\n",
       "      <th>4</th>\n",
       "      <td>18.0</td>\n",
       "      <td>0.114</td>\n",
       "      <td>other</td>\n",
       "    </tr>\n",
       "    <tr>\n",
       "      <th>5</th>\n",
       "      <td>7.0</td>\n",
       "      <td>0.045</td>\n",
       "      <td>paid aid</td>\n",
       "    </tr>\n",
       "    <tr>\n",
       "      <th>3</th>\n",
       "      <td>3.0</td>\n",
       "      <td>0.026</td>\n",
       "      <td>daughter-in-law</td>\n",
       "    </tr>\n",
       "  </tbody>\n",
       "</table>\n",
       "</div>"
      ],
      "text/plain": [
       "   Observed  Proportion Proxy Relationship\n",
       "1      52.0       0.370           daughter\n",
       "0      30.0       0.313     spouse/partner\n",
       "2      19.0       0.132                son\n",
       "4      18.0       0.114              other\n",
       "5       7.0       0.045           paid aid\n",
       "3       3.0       0.026    daughter-in-law"
      ]
     },
     "execution_count": 11,
     "metadata": {},
     "output_type": "execute_result"
    }
   ],
   "source": [
    "# label define prxyrelat 2 \"spouse/partner\" 3 \"daughter\" 4 \"son\" 5 \"daughter-in-law\" 31 \"paid aide/employee\" 6 \"other\"\n",
    "\n",
    "is6prxyrelat_dict = {'Observed': myeret0['e(Obs)'].flatten(), 'Proportion': myeret0['e(b)'].flatten()}\n",
    "is6prxyrelat_df = pd.DataFrame(is6prxyrelat_dict)\n",
    "is6prxyrelat_df['Proxy Relationship'] = ['spouse/partner', 'daughter', 'son', 'daughter-in-law', 'other', 'paid aid']\n",
    "is6prxyrelat_df = is6prxyrelat_df.round({'Observed': 0, 'Proportion': 3})\n",
    "is6prxyrelat_df.sort_values('Proportion', ascending=False)"
   ]
  },
  {
   "cell_type": "markdown",
   "metadata": {},
   "source": [
    "## How familiar with routine?\n",
    "The majority of proxies (88.6%) report they are very familiar with their respondent's routine."
   ]
  },
  {
   "cell_type": "code",
   "execution_count": 12,
   "metadata": {},
   "outputs": [
    {
     "name": "stdout",
     "output_type": "stream",
     "text": [
      "\n",
      ". quietly: svy, subpop(proxy): tab is6famrrutin if is6famrrutin != -1\n",
      "\n",
      ". quietly: ereturn list\n",
      "\n",
      ". \n"
     ]
    }
   ],
   "source": [
    "%%stata -eret myeret\n",
    "quietly: svy, subpop(proxy): tab is6famrrutin if is6famrrutin != -1\n",
    "quietly: ereturn list"
   ]
  },
  {
   "cell_type": "code",
   "execution_count": 13,
   "metadata": {},
   "outputs": [
    {
     "data": {
      "text/html": [
       "<div>\n",
       "<style scoped>\n",
       "    .dataframe tbody tr th:only-of-type {\n",
       "        vertical-align: middle;\n",
       "    }\n",
       "\n",
       "    .dataframe tbody tr th {\n",
       "        vertical-align: top;\n",
       "    }\n",
       "\n",
       "    .dataframe thead th {\n",
       "        text-align: right;\n",
       "    }\n",
       "</style>\n",
       "<table border=\"1\" class=\"dataframe\">\n",
       "  <thead>\n",
       "    <tr style=\"text-align: right;\">\n",
       "      <th></th>\n",
       "      <th>Familiarity with Routine</th>\n",
       "      <th>Observed</th>\n",
       "      <th>Proportion</th>\n",
       "    </tr>\n",
       "  </thead>\n",
       "  <tbody>\n",
       "    <tr>\n",
       "      <th>0</th>\n",
       "      <td>Very familiar</td>\n",
       "      <td>116.0</td>\n",
       "      <td>0.886</td>\n",
       "    </tr>\n",
       "    <tr>\n",
       "      <th>1</th>\n",
       "      <td>Somewhat familiar</td>\n",
       "      <td>12.0</td>\n",
       "      <td>0.105</td>\n",
       "    </tr>\n",
       "    <tr>\n",
       "      <th>2</th>\n",
       "      <td>A little familiar</td>\n",
       "      <td>1.0</td>\n",
       "      <td>0.008</td>\n",
       "    </tr>\n",
       "  </tbody>\n",
       "</table>\n",
       "</div>"
      ],
      "text/plain": [
       "  Familiarity with Routine  Observed  Proportion\n",
       "0            Very familiar     116.0       0.886\n",
       "1        Somewhat familiar      12.0       0.105\n",
       "2        A little familiar       1.0       0.008"
      ]
     },
     "execution_count": 13,
     "metadata": {},
     "output_type": "execute_result"
    }
   ],
   "source": [
    "# label define is6famrrutin 1 \"very familiar\" 2 \"somewhat familiar\" 3 \"a little familiar\" 4 \"not at all/refused/don't know\"\n",
    "\n",
    "is6famrrutin_dict = {'Familiarity with Routine': np.array(['Very familiar', 'Somewhat familiar', 'A little familiar']),\n",
    "                     'Observed': myeret['e(Obs)'].flatten(),\n",
    "                     'Proportion': myeret['e(b)'].flatten()}\n",
    "is6famrrutin_df = pd.DataFrame(is6famrrutin_dict)\n",
    "is6famrrutin_df = is6famrrutin_df.round({'Observed': 0, 'Proportion': 3})\n",
    "is6famrrutin_df"
   ]
  },
  {
   "cell_type": "markdown",
   "metadata": {},
   "source": [
    "## Regular Medications and Belief in \"Taking Too Much\"\n",
    "Within our subet, 44.59% are taking less than 6 regular medications and the remaining 55.41% are taking 6 or more. Of those who believe to be consuming too much medication, 73.56% of them are taking 6 or more regular medications."
   ]
  },
  {
   "cell_type": "code",
   "execution_count": 14,
   "metadata": {},
   "outputs": [
    {
     "name": "stdout",
     "output_type": "stream",
     "text": [
      "\n",
      ". quietly: collect: svy, subpop(subpop): tab regularmeds\n",
      "\n",
      ". quietly: ereturn list\n",
      "\n",
      ". \n"
     ]
    }
   ],
   "source": [
    "%%stata -eret regmeds_a\n",
    "quietly: collect: svy, subpop(subpop): tab regularmeds\n",
    "quietly: ereturn list"
   ]
  },
  {
   "cell_type": "code",
   "execution_count": 15,
   "metadata": {},
   "outputs": [
    {
     "name": "stdout",
     "output_type": "stream",
     "text": [
      "\n",
      ". quietly: collect: svy, subpop(subpop): tab regularmeds if binaryattitude3==1\n",
      "\n",
      ". quietly: ereturn list \n",
      "\n",
      ". \n"
     ]
    }
   ],
   "source": [
    "%%stata -eret regmeds_b\n",
    "quietly: collect: svy, subpop(subpop): tab regularmeds if binaryattitude3==1\n",
    "quietly: ereturn list "
   ]
  },
  {
   "cell_type": "code",
   "execution_count": 16,
   "metadata": {},
   "outputs": [],
   "source": [
    "regmeds_dict = {'Regular Medications': np.array(['Less Than 6', '6 or more']),\n",
    "                'Overall': regmeds_a['e(b)'].flatten(),\n",
    "                'Believes Taking Excess': regmeds_b['e(b)'].flatten()}"
   ]
  },
  {
   "cell_type": "code",
   "execution_count": 17,
   "metadata": {},
   "outputs": [
    {
     "data": {
      "text/html": [
       "<div>\n",
       "<style scoped>\n",
       "    .dataframe tbody tr th:only-of-type {\n",
       "        vertical-align: middle;\n",
       "    }\n",
       "\n",
       "    .dataframe tbody tr th {\n",
       "        vertical-align: top;\n",
       "    }\n",
       "\n",
       "    .dataframe thead th {\n",
       "        text-align: right;\n",
       "    }\n",
       "</style>\n",
       "<table border=\"1\" class=\"dataframe\">\n",
       "  <thead>\n",
       "    <tr style=\"text-align: right;\">\n",
       "      <th></th>\n",
       "      <th>Regular Medications</th>\n",
       "      <th>Overall</th>\n",
       "      <th>Believes Taking Excess</th>\n",
       "    </tr>\n",
       "  </thead>\n",
       "  <tbody>\n",
       "    <tr>\n",
       "      <th>0</th>\n",
       "      <td>Less Than 6</td>\n",
       "      <td>0.480205</td>\n",
       "      <td>0.276671</td>\n",
       "    </tr>\n",
       "    <tr>\n",
       "      <th>1</th>\n",
       "      <td>6 or more</td>\n",
       "      <td>0.519795</td>\n",
       "      <td>0.723329</td>\n",
       "    </tr>\n",
       "  </tbody>\n",
       "</table>\n",
       "</div>"
      ],
      "text/plain": [
       "  Regular Medications   Overall  Believes Taking Excess\n",
       "0         Less Than 6  0.480205                0.276671\n",
       "1           6 or more  0.519795                0.723329"
      ]
     },
     "execution_count": 17,
     "metadata": {},
     "output_type": "execute_result"
    }
   ],
   "source": [
    "pd.DataFrame(regmeds_dict)"
   ]
  },
  {
   "cell_type": "markdown",
   "metadata": {},
   "source": [
    "## Pills Maximum\n",
    "Those in our subset are nearly split into equal halves when it comes to maximum pills they would take on a regular basis. 49.66% said they were uncomfortable taking more than 5 pills. The remaining 50.34% would be willing to take 5 or more pills regularly according to a photo display of answer choices."
   ]
  },
  {
   "cell_type": "code",
   "execution_count": 18,
   "metadata": {},
   "outputs": [],
   "source": [
    "import os\n",
    "plotting_dir = '../tables/plottables'\n",
    "if not os.path.exists(plotting_dir):\n",
    "    os.makedirs(plotting_dir)"
   ]
  },
  {
   "cell_type": "code",
   "execution_count": 19,
   "metadata": {},
   "outputs": [],
   "source": [
    "%%stata\n",
    "quietly: tabout pillsmax if subpop using \"../tables/plottables/pillsmax.csv\", svy cells(cell) format(4) replace"
   ]
  },
  {
   "cell_type": "code",
   "execution_count": 20,
   "metadata": {},
   "outputs": [
    {
     "data": {
      "text/html": [
       "<div>\n",
       "<style scoped>\n",
       "    .dataframe tbody tr th:only-of-type {\n",
       "        vertical-align: middle;\n",
       "    }\n",
       "\n",
       "    .dataframe tbody tr th {\n",
       "        vertical-align: top;\n",
       "    }\n",
       "\n",
       "    .dataframe thead th {\n",
       "        text-align: right;\n",
       "    }\n",
       "</style>\n",
       "<table border=\"1\" class=\"dataframe\">\n",
       "  <thead>\n",
       "    <tr style=\"text-align: right;\">\n",
       "      <th></th>\n",
       "      <th>Disagree</th>\n",
       "      <th>Agree</th>\n",
       "      <th>Total</th>\n",
       "    </tr>\n",
       "  </thead>\n",
       "  <tbody>\n",
       "    <tr>\n",
       "      <th>uncomfortable taking 5 or more pills</th>\n",
       "      <td>disagree</td>\n",
       "      <td>agree</td>\n",
       "      <td>Total</td>\n",
       "    </tr>\n",
       "    <tr>\n",
       "      <th>Prop.</th>\n",
       "      <td>0.466</td>\n",
       "      <td>0.534</td>\n",
       "      <td>1</td>\n",
       "    </tr>\n",
       "  </tbody>\n",
       "</table>\n",
       "</div>"
      ],
      "text/plain": [
       "                                      Disagree  Agree  Total\n",
       "uncomfortable taking 5 or more pills  disagree  agree  Total\n",
       "Prop.                                    0.466  0.534      1"
      ]
     },
     "execution_count": 20,
     "metadata": {},
     "output_type": "execute_result"
    }
   ],
   "source": [
    "pillsmax = pd.read_table('../tables/plottables/pillsmax.csv').T\n",
    "pillsmax.columns = ['Disagree', 'Agree', 'Total']\n",
    "pillsmax"
   ]
  },
  {
   "cell_type": "markdown",
   "metadata": {},
   "source": [
    "## Pills Maximum and Regular Medications\n",
    "As we expect, when we look at the percentages of who is comfortable with 5 or more pills and those who are not, we see that those who currently take 6+ pills are comfortable (40%) with taking 5 or more pills. Those who take less than 6 pills currently would agree that they are more comfortable taking less than 6 pills regularly."
   ]
  },
  {
   "cell_type": "code",
   "execution_count": 21,
   "metadata": {},
   "outputs": [],
   "source": [
    "%%stata\n",
    "quietly: tabout regularmeds pillsmax if subpop using \"../tables/plottables/regularmeds-pillsmax.csv\", svy cells(cell) format(2) replace"
   ]
  },
  {
   "cell_type": "code",
   "execution_count": 22,
   "metadata": {},
   "outputs": [
    {
     "data": {
      "text/html": [
       "<div>\n",
       "<style scoped>\n",
       "    .dataframe tbody tr th:only-of-type {\n",
       "        vertical-align: middle;\n",
       "    }\n",
       "\n",
       "    .dataframe tbody tr th {\n",
       "        vertical-align: top;\n",
       "    }\n",
       "\n",
       "    .dataframe thead th {\n",
       "        text-align: right;\n",
       "    }\n",
       "</style>\n",
       "<table border=\"1\" class=\"dataframe\">\n",
       "  <thead>\n",
       "    <tr style=\"text-align: right;\">\n",
       "      <th></th>\n",
       "      <th>number of regular medications</th>\n",
       "      <th>disagree</th>\n",
       "      <th>agree</th>\n",
       "      <th>Total</th>\n",
       "    </tr>\n",
       "  </thead>\n",
       "  <tbody>\n",
       "    <tr>\n",
       "      <th>1</th>\n",
       "      <td>less than 6</td>\n",
       "      <td>0.09</td>\n",
       "      <td>0.40</td>\n",
       "      <td>0.49</td>\n",
       "    </tr>\n",
       "    <tr>\n",
       "      <th>2</th>\n",
       "      <td>6 or more</td>\n",
       "      <td>0.37</td>\n",
       "      <td>0.15</td>\n",
       "      <td>0.51</td>\n",
       "    </tr>\n",
       "    <tr>\n",
       "      <th>3</th>\n",
       "      <td>Total</td>\n",
       "      <td>0.46</td>\n",
       "      <td>0.54</td>\n",
       "      <td>1.00</td>\n",
       "    </tr>\n",
       "  </tbody>\n",
       "</table>\n",
       "</div>"
      ],
      "text/plain": [
       "  number of regular medications disagree agree Total\n",
       "1                   less than 6     0.09  0.40  0.49\n",
       "2                     6 or more     0.37  0.15  0.51\n",
       "3                         Total     0.46  0.54  1.00"
      ]
     },
     "execution_count": 22,
     "metadata": {},
     "output_type": "execute_result"
    }
   ],
   "source": [
    "regmeds_pillsmax = pd.read_table('../tables/plottables/regularmeds-pillsmax.csv', skiprows=1)\n",
    "regmeds_pillsmax = regmeds_pillsmax.drop([0])\n",
    "regmeds_pillsmax"
   ]
  },
  {
   "cell_type": "markdown",
   "metadata": {},
   "source": [
    "## Pills Maximum and Belief Taking Excess\n",
    "We also can look at the two-way table of subjects' maximum pills comfortable with and the belief that they may be taking excess medications. When we consider those who do and do not believe they are taking more medications than necessary, the comfortability level with 5 or more pills is nearly evenly distributed. For those who think they are taking too much, 53% are uncomfortable taking 5 or more pills regularly (compared to 49% of those who do not think this)."
   ]
  },
  {
   "cell_type": "code",
   "execution_count": 23,
   "metadata": {},
   "outputs": [],
   "source": [
    "%%stata\n",
    "quietly: tabout binaryattitude3 pillsmax if subpop using \"../tables/plottables/binaryattitude3-pillsmax.csv\", svy cells(row) format(3) replace"
   ]
  },
  {
   "cell_type": "code",
   "execution_count": 24,
   "metadata": {},
   "outputs": [
    {
     "data": {
      "text/html": [
       "<div>\n",
       "<style scoped>\n",
       "    .dataframe tbody tr th:only-of-type {\n",
       "        vertical-align: middle;\n",
       "    }\n",
       "\n",
       "    .dataframe tbody tr th {\n",
       "        vertical-align: top;\n",
       "    }\n",
       "\n",
       "    .dataframe thead th {\n",
       "        text-align: right;\n",
       "    }\n",
       "</style>\n",
       "<table border=\"1\" class=\"dataframe\">\n",
       "  <thead>\n",
       "    <tr style=\"text-align: right;\">\n",
       "      <th></th>\n",
       "      <th>binary, take more meds than needed</th>\n",
       "      <th>disagree</th>\n",
       "      <th>agree</th>\n",
       "      <th>Total</th>\n",
       "    </tr>\n",
       "  </thead>\n",
       "  <tbody>\n",
       "    <tr>\n",
       "      <th>1</th>\n",
       "      <td>disagree</td>\n",
       "      <td>0.458</td>\n",
       "      <td>0.542</td>\n",
       "      <td>1.000</td>\n",
       "    </tr>\n",
       "    <tr>\n",
       "      <th>2</th>\n",
       "      <td>agree</td>\n",
       "      <td>0.465</td>\n",
       "      <td>0.535</td>\n",
       "      <td>1.000</td>\n",
       "    </tr>\n",
       "    <tr>\n",
       "      <th>3</th>\n",
       "      <td>Total</td>\n",
       "      <td>0.460</td>\n",
       "      <td>0.540</td>\n",
       "      <td>1.000</td>\n",
       "    </tr>\n",
       "  </tbody>\n",
       "</table>\n",
       "</div>"
      ],
      "text/plain": [
       "  binary, take more meds than needed disagree  agree  Total\n",
       "1                           disagree    0.458  0.542  1.000\n",
       "2                              agree    0.465  0.535  1.000\n",
       "3                              Total    0.460  0.540  1.000"
      ]
     },
     "execution_count": 24,
     "metadata": {},
     "output_type": "execute_result"
    }
   ],
   "source": [
    "ba3_pillsmax = pd.read_table('../tables/plottables/binaryattitude3-pillsmax.csv', skiprows=1)\n",
    "ba3_pillsmax = ba3_pillsmax.drop([0])\n",
    "ba3_pillsmax"
   ]
  },
  {
   "cell_type": "markdown",
   "metadata": {},
   "source": [
    "## Pills Maximum and Willingness to Deprescribe\n",
    "Regardless of whether someone was willing to deprescribe, the distribution of comfortability with taking 5+ pills was the same."
   ]
  },
  {
   "cell_type": "code",
   "execution_count": 25,
   "metadata": {},
   "outputs": [],
   "source": [
    "%%stata\n",
    "quietly: tabout binaryattitude4 pillsmax if subpop using \"../tables/plottables/binaryattitude4-pillsmax.csv\", svy cells(row) format(2) replace"
   ]
  },
  {
   "cell_type": "code",
   "execution_count": 26,
   "metadata": {},
   "outputs": [
    {
     "data": {
      "text/html": [
       "<div>\n",
       "<style scoped>\n",
       "    .dataframe tbody tr th:only-of-type {\n",
       "        vertical-align: middle;\n",
       "    }\n",
       "\n",
       "    .dataframe tbody tr th {\n",
       "        vertical-align: top;\n",
       "    }\n",
       "\n",
       "    .dataframe thead th {\n",
       "        text-align: right;\n",
       "    }\n",
       "</style>\n",
       "<table border=\"1\" class=\"dataframe\">\n",
       "  <thead>\n",
       "    <tr style=\"text-align: right;\">\n",
       "      <th></th>\n",
       "      <th>binary, willing to stop take meds</th>\n",
       "      <th>disagree</th>\n",
       "      <th>agree</th>\n",
       "      <th>Total</th>\n",
       "    </tr>\n",
       "  </thead>\n",
       "  <tbody>\n",
       "    <tr>\n",
       "      <th>1</th>\n",
       "      <td>disagree</td>\n",
       "      <td>0.47</td>\n",
       "      <td>0.53</td>\n",
       "      <td>1.00</td>\n",
       "    </tr>\n",
       "    <tr>\n",
       "      <th>2</th>\n",
       "      <td>agree</td>\n",
       "      <td>0.49</td>\n",
       "      <td>0.51</td>\n",
       "      <td>1.00</td>\n",
       "    </tr>\n",
       "    <tr>\n",
       "      <th>3</th>\n",
       "      <td>Total</td>\n",
       "      <td>0.49</td>\n",
       "      <td>0.51</td>\n",
       "      <td>1.00</td>\n",
       "    </tr>\n",
       "  </tbody>\n",
       "</table>\n",
       "</div>"
      ],
      "text/plain": [
       "  binary, willing to stop take meds disagree agree Total\n",
       "1                          disagree     0.47  0.53  1.00\n",
       "2                             agree     0.49  0.51  1.00\n",
       "3                             Total     0.49  0.51  1.00"
      ]
     },
     "execution_count": 26,
     "metadata": {},
     "output_type": "execute_result"
    }
   ],
   "source": [
    "ba4_pillsmax = pd.read_table('../tables/plottables/binaryattitude4-pillsmax.csv', skiprows=1)\n",
    "ba4_pillsmax = ba4_pillsmax.drop([0])\n",
    "ba4_pillsmax"
   ]
  },
  {
   "cell_type": "markdown",
   "metadata": {},
   "source": [
    "## Venn Diagrams\n",
    "I am using <a href='https://towardsdatascience.com/how-to-create-and-customize-venn-diagrams-in-python-263555527305'>Matplotlib to create Venn diagrams</a>. Here is my function to do it based off of STATA output."
   ]
  },
  {
   "cell_type": "code",
   "execution_count": 27,
   "metadata": {},
   "outputs": [],
   "source": [
    "def createVennDiagram(file_path, printVenn=True):\n",
    "    this_table = pd.read_table(file_path, skiprows=1)\n",
    "    this_table = this_table.drop([0])\n",
    "    \n",
    "    AbaBAB = [round(100*float(x), 1) for x in [this_table.iloc[1,1], this_table.iloc[0,2], this_table.iloc[1,2]]]\n",
    "    \n",
    "    if printVenn:\n",
    "        print(venn2(subsets = AbaBAB,\n",
    "          set_labels = ('Believe Taking Excess Medication', 'Willing to Deprescribe If Doctor Said So'),\n",
    "          set_colors =('#E47833', '#BDA0CB'), alpha = 0.5))\n",
    "    \n",
    "    return(this_table)"
   ]
  },
  {
   "cell_type": "markdown",
   "metadata": {},
   "source": [
    "### Taking More Medications Than Needed & Willingness to Stop?\n",
    "There was about 1.4% of our survey who thought that they were taking more medications than needed who were unwilling to stop taking their medications."
   ]
  },
  {
   "cell_type": "code",
   "execution_count": 28,
   "metadata": {},
   "outputs": [],
   "source": [
    "%%stata\n",
    "quietly: tabout binaryattitude3 binaryattitude4 if subpop using \"../tables/plottables/binaryattitude3-binaryattitude4.csv\", svy cells(cell) format(4) replace"
   ]
  },
  {
   "cell_type": "code",
   "execution_count": 29,
   "metadata": {},
   "outputs": [
    {
     "name": "stdout",
     "output_type": "stream",
     "text": [
      "<matplotlib_venn._common.VennDiagram object at 0x7ffc89183b50>\n"
     ]
    },
    {
     "data": {
      "text/html": [
       "<div>\n",
       "<style scoped>\n",
       "    .dataframe tbody tr th:only-of-type {\n",
       "        vertical-align: middle;\n",
       "    }\n",
       "\n",
       "    .dataframe tbody tr th {\n",
       "        vertical-align: top;\n",
       "    }\n",
       "\n",
       "    .dataframe thead th {\n",
       "        text-align: right;\n",
       "    }\n",
       "</style>\n",
       "<table border=\"1\" class=\"dataframe\">\n",
       "  <thead>\n",
       "    <tr style=\"text-align: right;\">\n",
       "      <th></th>\n",
       "      <th>binary, take more meds than needed</th>\n",
       "      <th>disagree</th>\n",
       "      <th>agree</th>\n",
       "      <th>Total</th>\n",
       "    </tr>\n",
       "  </thead>\n",
       "  <tbody>\n",
       "    <tr>\n",
       "      <th>1</th>\n",
       "      <td>disagree</td>\n",
       "      <td>0.0984</td>\n",
       "      <td>0.6607</td>\n",
       "      <td>0.7591</td>\n",
       "    </tr>\n",
       "    <tr>\n",
       "      <th>2</th>\n",
       "      <td>agree</td>\n",
       "      <td>0.0142</td>\n",
       "      <td>0.2267</td>\n",
       "      <td>0.2409</td>\n",
       "    </tr>\n",
       "    <tr>\n",
       "      <th>3</th>\n",
       "      <td>Total</td>\n",
       "      <td>0.1127</td>\n",
       "      <td>0.8873</td>\n",
       "      <td>1.0000</td>\n",
       "    </tr>\n",
       "  </tbody>\n",
       "</table>\n",
       "</div>"
      ],
      "text/plain": [
       "  binary, take more meds than needed disagree   agree   Total\n",
       "1                           disagree   0.0984  0.6607  0.7591\n",
       "2                              agree   0.0142  0.2267  0.2409\n",
       "3                              Total   0.1127  0.8873  1.0000"
      ]
     },
     "execution_count": 29,
     "metadata": {},
     "output_type": "execute_result"
    },
    {
     "data": {
      "image/png": "[encoded data removed]",
      "text/plain": [
       "<Figure size 432x288 with 1 Axes>"
      ]
     },
     "metadata": {},
     "output_type": "display_data"
    }
   ],
   "source": [
    "createVennDiagram('../tables/plottables/binaryattitude3-binaryattitude4.csv')"
   ]
  },
  {
   "cell_type": "markdown",
   "metadata": {},
   "source": [
    "### Taking More Medications Than Needed & Willingness to Stop? By Regular Medications\n",
    "Those who take less than 6 regular medications per day are less probable to believe they are are taking excess medication. This accounts for the size of the \"pink\" bubbles."
   ]
  },
  {
   "cell_type": "code",
   "execution_count": 30,
   "metadata": {},
   "outputs": [],
   "source": [
    "%%stata\n",
    "quietly: tabout binaryattitude3 binaryattitude4 if subpop & regularmeds==0 using \"../tables/plottables/binaryattitude3-binaryattitude4-regmeds1.csv\", svy cells(cell) format(4) replace"
   ]
  },
  {
   "cell_type": "code",
   "execution_count": 31,
   "metadata": {},
   "outputs": [
    {
     "name": "stdout",
     "output_type": "stream",
     "text": [
      "<matplotlib_venn._common.VennDiagram object at 0x7ffc89380e10>\n"
     ]
    },
    {
     "data": {
      "text/html": [
       "<div>\n",
       "<style scoped>\n",
       "    .dataframe tbody tr th:only-of-type {\n",
       "        vertical-align: middle;\n",
       "    }\n",
       "\n",
       "    .dataframe tbody tr th {\n",
       "        vertical-align: top;\n",
       "    }\n",
       "\n",
       "    .dataframe thead th {\n",
       "        text-align: right;\n",
       "    }\n",
       "</style>\n",
       "<table border=\"1\" class=\"dataframe\">\n",
       "  <thead>\n",
       "    <tr style=\"text-align: right;\">\n",
       "      <th></th>\n",
       "      <th>binary, take more meds than needed</th>\n",
       "      <th>disagree</th>\n",
       "      <th>agree</th>\n",
       "      <th>Total</th>\n",
       "    </tr>\n",
       "  </thead>\n",
       "  <tbody>\n",
       "    <tr>\n",
       "      <th>1</th>\n",
       "      <td>disagree</td>\n",
       "      <td>0.1601</td>\n",
       "      <td>0.6881</td>\n",
       "      <td>0.8483</td>\n",
       "    </tr>\n",
       "    <tr>\n",
       "      <th>2</th>\n",
       "      <td>agree</td>\n",
       "      <td>0.0269</td>\n",
       "      <td>0.1248</td>\n",
       "      <td>0.1517</td>\n",
       "    </tr>\n",
       "    <tr>\n",
       "      <th>3</th>\n",
       "      <td>Total</td>\n",
       "      <td>0.1870</td>\n",
       "      <td>0.8130</td>\n",
       "      <td>1.0000</td>\n",
       "    </tr>\n",
       "  </tbody>\n",
       "</table>\n",
       "</div>"
      ],
      "text/plain": [
       "  binary, take more meds than needed disagree   agree   Total\n",
       "1                           disagree   0.1601  0.6881  0.8483\n",
       "2                              agree   0.0269  0.1248  0.1517\n",
       "3                              Total   0.1870  0.8130  1.0000"
      ]
     },
     "execution_count": 31,
     "metadata": {},
     "output_type": "execute_result"
    },
    {
     "data": {
      "image/png": "[encoded data removed]",
      "text/plain": [
       "<Figure size 432x288 with 1 Axes>"
      ]
     },
     "metadata": {},
     "output_type": "display_data"
    }
   ],
   "source": [
    "createVennDiagram('../tables/plottables/binaryattitude3-binaryattitude4-regmeds1.csv')"
   ]
  },
  {
   "cell_type": "code",
   "execution_count": 32,
   "metadata": {},
   "outputs": [],
   "source": [
    "%%stata\n",
    "quietly: tabout binaryattitude3 binaryattitude4 if subpop & regularmeds==1 using \"../tables/plottables/binaryattitude3-binaryattitude4-regmeds2.csv\", svy cells(cell) format(4) replace"
   ]
  },
  {
   "cell_type": "code",
   "execution_count": 33,
   "metadata": {},
   "outputs": [
    {
     "name": "stdout",
     "output_type": "stream",
     "text": [
      "<matplotlib_venn._common.VennDiagram object at 0x7ffc894dbc90>\n"
     ]
    },
    {
     "data": {
      "text/html": [
       "<div>\n",
       "<style scoped>\n",
       "    .dataframe tbody tr th:only-of-type {\n",
       "        vertical-align: middle;\n",
       "    }\n",
       "\n",
       "    .dataframe tbody tr th {\n",
       "        vertical-align: top;\n",
       "    }\n",
       "\n",
       "    .dataframe thead th {\n",
       "        text-align: right;\n",
       "    }\n",
       "</style>\n",
       "<table border=\"1\" class=\"dataframe\">\n",
       "  <thead>\n",
       "    <tr style=\"text-align: right;\">\n",
       "      <th></th>\n",
       "      <th>binary, take more meds than needed</th>\n",
       "      <th>disagree</th>\n",
       "      <th>agree</th>\n",
       "      <th>Total</th>\n",
       "    </tr>\n",
       "  </thead>\n",
       "  <tbody>\n",
       "    <tr>\n",
       "      <th>1</th>\n",
       "      <td>disagree</td>\n",
       "      <td>0.0514</td>\n",
       "      <td>0.6293</td>\n",
       "      <td>0.6808</td>\n",
       "    </tr>\n",
       "    <tr>\n",
       "      <th>2</th>\n",
       "      <td>agree</td>\n",
       "      <td>0.0044</td>\n",
       "      <td>0.3148</td>\n",
       "      <td>0.3192</td>\n",
       "    </tr>\n",
       "    <tr>\n",
       "      <th>3</th>\n",
       "      <td>Total</td>\n",
       "      <td>0.0559</td>\n",
       "      <td>0.9441</td>\n",
       "      <td>1.0000</td>\n",
       "    </tr>\n",
       "  </tbody>\n",
       "</table>\n",
       "</div>"
      ],
      "text/plain": [
       "  binary, take more meds than needed disagree   agree   Total\n",
       "1                           disagree   0.0514  0.6293  0.6808\n",
       "2                              agree   0.0044  0.3148  0.3192\n",
       "3                              Total   0.0559  0.9441  1.0000"
      ]
     },
     "execution_count": 33,
     "metadata": {},
     "output_type": "execute_result"
    },
    {
     "data": {
      "image/png": "[encoded data removed]",
      "text/plain": [
       "<Figure size 432x288 with 1 Axes>"
      ]
     },
     "metadata": {},
     "output_type": "display_data"
    }
   ],
   "source": [
    "createVennDiagram('../tables/plottables/binaryattitude3-binaryattitude4-regmeds2.csv')"
   ]
  },
  {
   "cell_type": "markdown",
   "metadata": {},
   "source": [
    "### Taking More Medications Than Needed & Willingness to Stop? By Comfort with 5+ Pills"
   ]
  },
  {
   "cell_type": "code",
   "execution_count": 34,
   "metadata": {},
   "outputs": [],
   "source": [
    "%%stata\n",
    "quietly: tabout binaryattitude3 binaryattitude4 if subpop & pillsmax==0 using \"../tables/plottables/binaryattitude3-binaryattitude4-pillsmax0.csv\", svy cells(cell) format(4) replace"
   ]
  },
  {
   "cell_type": "code",
   "execution_count": 35,
   "metadata": {},
   "outputs": [
    {
     "name": "stdout",
     "output_type": "stream",
     "text": [
      "<matplotlib_venn._common.VennDiagram object at 0x7ffc893c0050>\n"
     ]
    },
    {
     "data": {
      "text/html": [
       "<div>\n",
       "<style scoped>\n",
       "    .dataframe tbody tr th:only-of-type {\n",
       "        vertical-align: middle;\n",
       "    }\n",
       "\n",
       "    .dataframe tbody tr th {\n",
       "        vertical-align: top;\n",
       "    }\n",
       "\n",
       "    .dataframe thead th {\n",
       "        text-align: right;\n",
       "    }\n",
       "</style>\n",
       "<table border=\"1\" class=\"dataframe\">\n",
       "  <thead>\n",
       "    <tr style=\"text-align: right;\">\n",
       "      <th></th>\n",
       "      <th>binary, take more meds than needed</th>\n",
       "      <th>disagree</th>\n",
       "      <th>agree</th>\n",
       "      <th>Total</th>\n",
       "    </tr>\n",
       "  </thead>\n",
       "  <tbody>\n",
       "    <tr>\n",
       "      <th>1</th>\n",
       "      <td>disagree</td>\n",
       "      <td>0.0703</td>\n",
       "      <td>0.6765</td>\n",
       "      <td>0.7468</td>\n",
       "    </tr>\n",
       "    <tr>\n",
       "      <th>2</th>\n",
       "      <td>agree</td>\n",
       "      <td>0.0257</td>\n",
       "      <td>0.2275</td>\n",
       "      <td>0.2532</td>\n",
       "    </tr>\n",
       "    <tr>\n",
       "      <th>3</th>\n",
       "      <td>Total</td>\n",
       "      <td>0.0960</td>\n",
       "      <td>0.9040</td>\n",
       "      <td>1.0000</td>\n",
       "    </tr>\n",
       "  </tbody>\n",
       "</table>\n",
       "</div>"
      ],
      "text/plain": [
       "  binary, take more meds than needed disagree   agree   Total\n",
       "1                           disagree   0.0703  0.6765  0.7468\n",
       "2                              agree   0.0257  0.2275  0.2532\n",
       "3                              Total   0.0960  0.9040  1.0000"
      ]
     },
     "execution_count": 35,
     "metadata": {},
     "output_type": "execute_result"
    },
    {
     "data": {
      "image/png": "[encoded data removed]",
      "text/plain": [
       "<Figure size 432x288 with 1 Axes>"
      ]
     },
     "metadata": {},
     "output_type": "display_data"
    }
   ],
   "source": [
    "createVennDiagram('../tables/plottables/binaryattitude3-binaryattitude4-pillsmax0.csv')"
   ]
  },
  {
   "cell_type": "code",
   "execution_count": 36,
   "metadata": {},
   "outputs": [],
   "source": [
    "%%stata\n",
    "quietly: tabout binaryattitude3 binaryattitude4 if subpop & pillsmax==1 using \"../tables/plottables/binaryattitude3-binaryattitude4-pillsmax1.csv\", svy cells(cell) format(4) replace"
   ]
  },
  {
   "cell_type": "code",
   "execution_count": 37,
   "metadata": {},
   "outputs": [
    {
     "name": "stdout",
     "output_type": "stream",
     "text": [
      "<matplotlib_venn._common.VennDiagram object at 0x7ffc8c006510>\n"
     ]
    },
    {
     "data": {
      "text/html": [
       "<div>\n",
       "<style scoped>\n",
       "    .dataframe tbody tr th:only-of-type {\n",
       "        vertical-align: middle;\n",
       "    }\n",
       "\n",
       "    .dataframe tbody tr th {\n",
       "        vertical-align: top;\n",
       "    }\n",
       "\n",
       "    .dataframe thead th {\n",
       "        text-align: right;\n",
       "    }\n",
       "</style>\n",
       "<table border=\"1\" class=\"dataframe\">\n",
       "  <thead>\n",
       "    <tr style=\"text-align: right;\">\n",
       "      <th></th>\n",
       "      <th>binary, take more meds than needed</th>\n",
       "      <th>disagree</th>\n",
       "      <th>agree</th>\n",
       "      <th>Total</th>\n",
       "    </tr>\n",
       "  </thead>\n",
       "  <tbody>\n",
       "    <tr>\n",
       "      <th>1</th>\n",
       "      <td>disagree</td>\n",
       "      <td>0.0937</td>\n",
       "      <td>0.6423</td>\n",
       "      <td>0.7360</td>\n",
       "    </tr>\n",
       "    <tr>\n",
       "      <th>2</th>\n",
       "      <td>agree</td>\n",
       "      <td>0.0040</td>\n",
       "      <td>0.2600</td>\n",
       "      <td>0.2640</td>\n",
       "    </tr>\n",
       "    <tr>\n",
       "      <th>3</th>\n",
       "      <td>Total</td>\n",
       "      <td>0.0977</td>\n",
       "      <td>0.9023</td>\n",
       "      <td>1.0000</td>\n",
       "    </tr>\n",
       "  </tbody>\n",
       "</table>\n",
       "</div>"
      ],
      "text/plain": [
       "  binary, take more meds than needed disagree   agree   Total\n",
       "1                           disagree   0.0937  0.6423  0.7360\n",
       "2                              agree   0.0040  0.2600  0.2640\n",
       "3                              Total   0.0977  0.9023  1.0000"
      ]
     },
     "execution_count": 37,
     "metadata": {},
     "output_type": "execute_result"
    },
    {
     "data": {
      "image/png": "[encoded data removed]",
      "text/plain": [
       "<Figure size 432x288 with 1 Axes>"
      ]
     },
     "metadata": {},
     "output_type": "display_data"
    }
   ],
   "source": [
    "createVennDiagram('../tables/plottables/binaryattitude3-binaryattitude4-pillsmax1.csv')"
   ]
  },
  {
   "cell_type": "markdown",
   "metadata": {},
   "source": [
    "### Taking More Medications Than Needed & Willingness to Stop? By Dementia\n",
    "Here is the breakdown again of those who have probable/possible dementia in our subpopulation."
   ]
  },
  {
   "cell_type": "code",
   "execution_count": 38,
   "metadata": {},
   "outputs": [
    {
     "name": "stdout",
     "output_type": "stream",
     "text": [
      "(running tabulate on estimation sample)\n",
      "\n",
      "Number of strata =  55                           Number of obs   =       2,091\n",
      "Number of PSUs   = 110                           Population size =  12,999,949\n",
      "                                                 Subpop. no. obs =         320\n",
      "                                                 Subpop. size    = 1,416,366.5\n",
      "                                                 Design df       =          55\n",
      "\n",
      "----------------------\n",
      "dementia  |\n",
      "status    | proportion\n",
      "----------+-----------\n",
      " possible |      .5667\n",
      " probable |      .4333\n",
      "          | \n",
      "    Total |          1\n",
      "----------------------\n",
      "Key: proportion = Cell proportion\n",
      "\n",
      "Note: 1 stratum omitted because it contains no subpopulation members.\n"
     ]
    }
   ],
   "source": [
    "%%stata\n",
    "svy, subpop(subpop): tab dementia"
   ]
  },
  {
   "cell_type": "markdown",
   "metadata": {},
   "source": [
    "**Of those who have possible dementia,** that is 42.46% of our sample, 26.01% believe they are taking too much medication and are willing to deprescribe if a doctor said so."
   ]
  },
  {
   "cell_type": "code",
   "execution_count": 39,
   "metadata": {},
   "outputs": [],
   "source": [
    "%%stata\n",
    "quietly: tabout binaryattitude3 binaryattitude4 if subpop & dementia==1 using \"../tables/plottables/binaryattitude3-binaryattitude4-dementia1.csv\", svy cells(cell) format(4) replace"
   ]
  },
  {
   "cell_type": "code",
   "execution_count": 40,
   "metadata": {},
   "outputs": [
    {
     "name": "stdout",
     "output_type": "stream",
     "text": [
      "<matplotlib_venn._common.VennDiagram object at 0x7ffc895b21d0>\n"
     ]
    },
    {
     "data": {
      "text/html": [
       "<div>\n",
       "<style scoped>\n",
       "    .dataframe tbody tr th:only-of-type {\n",
       "        vertical-align: middle;\n",
       "    }\n",
       "\n",
       "    .dataframe tbody tr th {\n",
       "        vertical-align: top;\n",
       "    }\n",
       "\n",
       "    .dataframe thead th {\n",
       "        text-align: right;\n",
       "    }\n",
       "</style>\n",
       "<table border=\"1\" class=\"dataframe\">\n",
       "  <thead>\n",
       "    <tr style=\"text-align: right;\">\n",
       "      <th></th>\n",
       "      <th>binary, take more meds than needed</th>\n",
       "      <th>disagree</th>\n",
       "      <th>agree</th>\n",
       "      <th>Total</th>\n",
       "    </tr>\n",
       "  </thead>\n",
       "  <tbody>\n",
       "    <tr>\n",
       "      <th>1</th>\n",
       "      <td>disagree</td>\n",
       "      <td>0.0911</td>\n",
       "      <td>0.6321</td>\n",
       "      <td>0.7232</td>\n",
       "    </tr>\n",
       "    <tr>\n",
       "      <th>2</th>\n",
       "      <td>agree</td>\n",
       "      <td>0.0197</td>\n",
       "      <td>0.2571</td>\n",
       "      <td>0.2768</td>\n",
       "    </tr>\n",
       "    <tr>\n",
       "      <th>3</th>\n",
       "      <td>Total</td>\n",
       "      <td>0.1108</td>\n",
       "      <td>0.8892</td>\n",
       "      <td>1.0000</td>\n",
       "    </tr>\n",
       "  </tbody>\n",
       "</table>\n",
       "</div>"
      ],
      "text/plain": [
       "  binary, take more meds than needed disagree   agree   Total\n",
       "1                           disagree   0.0911  0.6321  0.7232\n",
       "2                              agree   0.0197  0.2571  0.2768\n",
       "3                              Total   0.1108  0.8892  1.0000"
      ]
     },
     "execution_count": 40,
     "metadata": {},
     "output_type": "execute_result"
    },
    {
     "data": {
      "image/png": "[encoded data removed]",
      "text/plain": [
       "<Figure size 432x288 with 1 Axes>"
      ]
     },
     "metadata": {},
     "output_type": "display_data"
    }
   ],
   "source": [
    "createVennDiagram('../tables/plottables/binaryattitude3-binaryattitude4-dementia1.csv')"
   ]
  },
  {
   "cell_type": "markdown",
   "metadata": {},
   "source": [
    "**Of those who have probable dementia,** that is 57.54% of our sample, 19.39% believe they are taking too much medication and are willing to deprescribe if a doctor said so. **Those with possible dementia in our sample have a higher probability of having these two characteristics than do those with probable dementia.**"
   ]
  },
  {
   "cell_type": "code",
   "execution_count": 41,
   "metadata": {},
   "outputs": [],
   "source": [
    "%%stata\n",
    "quietly: tabout binaryattitude3 binaryattitude4 if subpop & dementia==2 using \"../tables/plottables/binaryattitude3-binaryattitude4-dementia2.csv\", svy cells(cell) format(4) replace"
   ]
  },
  {
   "cell_type": "code",
   "execution_count": 42,
   "metadata": {},
   "outputs": [
    {
     "name": "stdout",
     "output_type": "stream",
     "text": [
      "<matplotlib_venn._common.VennDiagram object at 0x7ffc89407810>\n"
     ]
    },
    {
     "data": {
      "text/html": [
       "<div>\n",
       "<style scoped>\n",
       "    .dataframe tbody tr th:only-of-type {\n",
       "        vertical-align: middle;\n",
       "    }\n",
       "\n",
       "    .dataframe tbody tr th {\n",
       "        vertical-align: top;\n",
       "    }\n",
       "\n",
       "    .dataframe thead th {\n",
       "        text-align: right;\n",
       "    }\n",
       "</style>\n",
       "<table border=\"1\" class=\"dataframe\">\n",
       "  <thead>\n",
       "    <tr style=\"text-align: right;\">\n",
       "      <th></th>\n",
       "      <th>binary, take more meds than needed</th>\n",
       "      <th>disagree</th>\n",
       "      <th>agree</th>\n",
       "      <th>Total</th>\n",
       "    </tr>\n",
       "  </thead>\n",
       "  <tbody>\n",
       "    <tr>\n",
       "      <th>1</th>\n",
       "      <td>disagree</td>\n",
       "      <td>0.1082</td>\n",
       "      <td>0.6988</td>\n",
       "      <td>0.8070</td>\n",
       "    </tr>\n",
       "    <tr>\n",
       "      <th>2</th>\n",
       "      <td>agree</td>\n",
       "      <td>0.0069</td>\n",
       "      <td>0.1861</td>\n",
       "      <td>0.1930</td>\n",
       "    </tr>\n",
       "    <tr>\n",
       "      <th>3</th>\n",
       "      <td>Total</td>\n",
       "      <td>0.1151</td>\n",
       "      <td>0.8849</td>\n",
       "      <td>1.0000</td>\n",
       "    </tr>\n",
       "  </tbody>\n",
       "</table>\n",
       "</div>"
      ],
      "text/plain": [
       "  binary, take more meds than needed disagree   agree   Total\n",
       "1                           disagree   0.1082  0.6988  0.8070\n",
       "2                              agree   0.0069  0.1861  0.1930\n",
       "3                              Total   0.1151  0.8849  1.0000"
      ]
     },
     "execution_count": 42,
     "metadata": {},
     "output_type": "execute_result"
    },
    {
     "data": {
      "image/png": "[encoded data removed]",
      "text/plain": [
       "<Figure size 432x288 with 1 Axes>"
      ]
     },
     "metadata": {},
     "output_type": "display_data"
    }
   ],
   "source": [
    "createVennDiagram('../tables/plottables/binaryattitude3-binaryattitude4-dementia2.csv')"
   ]
  },
  {
   "cell_type": "markdown",
   "metadata": {},
   "source": [
    "Instead of looking at the classifications provided by NHATS, we can use the NHATS question that discusses if the participant was previously diagnosed or not."
   ]
  },
  {
   "cell_type": "code",
   "execution_count": 43,
   "metadata": {},
   "outputs": [
    {
     "name": "stdout",
     "output_type": "stream",
     "text": [
      "(running tabulate on estimation sample)\n",
      "\n",
      "Number of strata =  55                           Number of obs   =       2,091\n",
      "Number of PSUs   = 110                           Population size =  12,999,949\n",
      "                                                 Subpop. no. obs =         320\n",
      "                                                 Subpop. size    = 1,416,366.5\n",
      "                                                 Design df       =          55\n",
      "\n",
      "----------------------\n",
      "diagnosed |\n",
      "with      |\n",
      "dementia  | proportion\n",
      "----------+-----------\n",
      " not diag |       .772\n",
      " diagnose |       .228\n",
      "          | \n",
      "    Total |          1\n",
      "----------------------\n",
      "Key: proportion = Cell proportion\n",
      "\n",
      "Note: 1 stratum omitted because it contains no subpopulation members.\n"
     ]
    }
   ],
   "source": [
    "%%stata\n",
    "svy, subpop(subpop): tab dementia_diagnosis"
   ]
  },
  {
   "cell_type": "markdown",
   "metadata": {},
   "source": [
    "**Of those who have NOT been diagnosed with dementia**, that is 64.96% of our sample, 24.52% believe they are taking too much medication and are willing to deprescribe if a doctor said so."
   ]
  },
  {
   "cell_type": "code",
   "execution_count": 44,
   "metadata": {},
   "outputs": [],
   "source": [
    "%%stata\n",
    "quietly: tabout binaryattitude3 binaryattitude4 if subpop & dementia_diagnosis==0 using \"../tables/plottables/binaryattitude3-binaryattitude4-dementiadiag0.csv\", svy cells(cell) format(4) replace"
   ]
  },
  {
   "cell_type": "code",
   "execution_count": 45,
   "metadata": {},
   "outputs": [
    {
     "name": "stdout",
     "output_type": "stream",
     "text": [
      "<matplotlib_venn._common.VennDiagram object at 0x7ffc8919b410>\n"
     ]
    },
    {
     "data": {
      "text/html": [
       "<div>\n",
       "<style scoped>\n",
       "    .dataframe tbody tr th:only-of-type {\n",
       "        vertical-align: middle;\n",
       "    }\n",
       "\n",
       "    .dataframe tbody tr th {\n",
       "        vertical-align: top;\n",
       "    }\n",
       "\n",
       "    .dataframe thead th {\n",
       "        text-align: right;\n",
       "    }\n",
       "</style>\n",
       "<table border=\"1\" class=\"dataframe\">\n",
       "  <thead>\n",
       "    <tr style=\"text-align: right;\">\n",
       "      <th></th>\n",
       "      <th>binary, take more meds than needed</th>\n",
       "      <th>disagree</th>\n",
       "      <th>agree</th>\n",
       "      <th>Total</th>\n",
       "    </tr>\n",
       "  </thead>\n",
       "  <tbody>\n",
       "    <tr>\n",
       "      <th>1</th>\n",
       "      <td>disagree</td>\n",
       "      <td>0.1054</td>\n",
       "      <td>0.6498</td>\n",
       "      <td>0.7551</td>\n",
       "    </tr>\n",
       "    <tr>\n",
       "      <th>2</th>\n",
       "      <td>agree</td>\n",
       "      <td>0.0185</td>\n",
       "      <td>0.2264</td>\n",
       "      <td>0.2449</td>\n",
       "    </tr>\n",
       "    <tr>\n",
       "      <th>3</th>\n",
       "      <td>Total</td>\n",
       "      <td>0.1238</td>\n",
       "      <td>0.8762</td>\n",
       "      <td>1.0000</td>\n",
       "    </tr>\n",
       "  </tbody>\n",
       "</table>\n",
       "</div>"
      ],
      "text/plain": [
       "  binary, take more meds than needed disagree   agree   Total\n",
       "1                           disagree   0.1054  0.6498  0.7551\n",
       "2                              agree   0.0185  0.2264  0.2449\n",
       "3                              Total   0.1238  0.8762  1.0000"
      ]
     },
     "execution_count": 45,
     "metadata": {},
     "output_type": "execute_result"
    },
    {
     "data": {
      "image/png": "[encoded data removed]",
      "text/plain": [
       "<Figure size 432x288 with 1 Axes>"
      ]
     },
     "metadata": {},
     "output_type": "display_data"
    }
   ],
   "source": [
    "createVennDiagram('../tables/plottables/binaryattitude3-binaryattitude4-dementiadiag0.csv')"
   ]
  },
  {
   "cell_type": "markdown",
   "metadata": {},
   "source": [
    "**Of those who HAVE been diagnosed with dementia**, that is 35.04% of our sample, 18% believe they are taking too much medication and are willing to deprescribe if a doctor said so. **Those who have NOT been diagnosed in our sample have a higher probability of having these two characteristics than those who HAVE been diagnosed.**"
   ]
  },
  {
   "cell_type": "code",
   "execution_count": 46,
   "metadata": {},
   "outputs": [],
   "source": [
    "%%stata\n",
    "quietly: tabout binaryattitude3 binaryattitude4 if subpop & dementia_diagnosis==1 using \"../tables/plottables/binaryattitude3-binaryattitude4-dementiadiag1.csv\", svy cells(cell) format(4) replace"
   ]
  },
  {
   "cell_type": "code",
   "execution_count": 47,
   "metadata": {},
   "outputs": [
    {
     "name": "stdout",
     "output_type": "stream",
     "text": [
      "<matplotlib_venn._common.VennDiagram object at 0x7ffc90494950>\n"
     ]
    },
    {
     "data": {
      "text/html": [
       "<div>\n",
       "<style scoped>\n",
       "    .dataframe tbody tr th:only-of-type {\n",
       "        vertical-align: middle;\n",
       "    }\n",
       "\n",
       "    .dataframe tbody tr th {\n",
       "        vertical-align: top;\n",
       "    }\n",
       "\n",
       "    .dataframe thead th {\n",
       "        text-align: right;\n",
       "    }\n",
       "</style>\n",
       "<table border=\"1\" class=\"dataframe\">\n",
       "  <thead>\n",
       "    <tr style=\"text-align: right;\">\n",
       "      <th></th>\n",
       "      <th>binary, take more meds than needed</th>\n",
       "      <th>disagree</th>\n",
       "      <th>agree</th>\n",
       "      <th>Total</th>\n",
       "    </tr>\n",
       "  </thead>\n",
       "  <tbody>\n",
       "    <tr>\n",
       "      <th>1</th>\n",
       "      <td>disagree</td>\n",
       "      <td>0.0751</td>\n",
       "      <td>0.6974</td>\n",
       "      <td>0.7725</td>\n",
       "    </tr>\n",
       "    <tr>\n",
       "      <th>2</th>\n",
       "      <td>agree</td>\n",
       "      <td>0.0000</td>\n",
       "      <td>0.2275</td>\n",
       "      <td>0.2275</td>\n",
       "    </tr>\n",
       "    <tr>\n",
       "      <th>3</th>\n",
       "      <td>Total</td>\n",
       "      <td>0.0751</td>\n",
       "      <td>0.9249</td>\n",
       "      <td>1.0000</td>\n",
       "    </tr>\n",
       "  </tbody>\n",
       "</table>\n",
       "</div>"
      ],
      "text/plain": [
       "  binary, take more meds than needed disagree   agree   Total\n",
       "1                           disagree   0.0751  0.6974  0.7725\n",
       "2                              agree   0.0000  0.2275  0.2275\n",
       "3                              Total   0.0751  0.9249  1.0000"
      ]
     },
     "execution_count": 47,
     "metadata": {},
     "output_type": "execute_result"
    },
    {
     "data": {
      "image/png": "[encoded data removed]",
      "text/plain": [
       "<Figure size 432x288 with 1 Axes>"
      ]
     },
     "metadata": {},
     "output_type": "display_data"
    }
   ],
   "source": [
    "createVennDiagram('../tables/plottables/binaryattitude3-binaryattitude4-dementiadiag1.csv')"
   ]
  },
  {
   "cell_type": "markdown",
   "metadata": {},
   "source": [
    "### All Outcomes\n",
    "First, I'll try to make the Venn diagram without survey weights, just based on counts.\n",
    "\n",
    "```\n",
    "* 1 0 0\n",
    "total binaryattitude3 if binaryattitude4==0 & pillsmax==0\n",
    "\n",
    "* 1 1 0\n",
    "total binaryattitude3 if binaryattitude4==1 & pillsmax==0\n",
    "\n",
    "* 1 1 1\n",
    "total binaryattitude3 if binaryattitude4==1 & pillsmax==1\n",
    "\n",
    "* 0 1 0\n",
    "total binaryattitude4 if binaryattitude3==0 & pillsmax==0\n",
    "\n",
    "* 0 1 1\n",
    "total binaryattitude4 if binaryattitude3==0 & pillsmax==1\n",
    "\n",
    "* 0 0 1\n",
    "total pillsmax if binaryattitude4==0 & binaryattitude3==0\n",
    "\n",
    "* 1 0 1\n",
    "total binaryattitude3 if binaryattitude4==0 & pillsmax==1\n",
    "```"
   ]
  },
  {
   "cell_type": "code",
   "execution_count": 48,
   "metadata": {},
   "outputs": [
    {
     "name": "stdout",
     "output_type": "stream",
     "text": [
      "\n",
      ". collect clear\n",
      "\n",
      ". quietly: collect: total binaryattitude3 if binaryattitude4==0 & pillsmax==0 &\n",
      ">  subpop\n",
      "\n",
      ". quietly: collect: total binaryattitude3 if binaryattitude4==1 & pillsmax==0 &\n",
      ">  subpop\n",
      "\n",
      ". quietly: collect: total binaryattitude3 if binaryattitude4==1 & pillsmax==1 &\n",
      ">  subpop\n",
      "\n",
      ". quietly: collect: total binaryattitude4 if binaryattitude3==0 & pillsmax==0 &\n",
      ">  subpop\n",
      "\n",
      ". quietly: collect: total binaryattitude4 if binaryattitude3==0 & pillsmax==1 &\n",
      ">  subpop\n",
      "\n",
      ". quietly: collect: total pillsmax if binaryattitude4==0 & binaryattitude3==0 &\n",
      ">  subpop\n",
      "\n",
      ". quietly: collect: total pillsmax if binaryattitude4==0 & binaryattitude3==1 &\n",
      ">  subpop\n",
      "\n",
      ". quietly: collect layout (result[_r_b]) (cmdset)\n",
      "\n",
      ". quietly: collect export \"../tables/plottables/unweighted-counts.xlsx\", replac\n",
      "> e\n",
      "\n",
      ". \n"
     ]
    }
   ],
   "source": [
    "%%stata -eret test1\n",
    "collect clear\n",
    "quietly: collect: total binaryattitude3 if binaryattitude4==0 & pillsmax==0 & subpop\n",
    "quietly: collect: total binaryattitude3 if binaryattitude4==1 & pillsmax==0 & subpop\n",
    "quietly: collect: total binaryattitude3 if binaryattitude4==1 & pillsmax==1 & subpop\n",
    "quietly: collect: total binaryattitude4 if binaryattitude3==0 & pillsmax==0 & subpop\n",
    "quietly: collect: total binaryattitude4 if binaryattitude3==0 & pillsmax==1 & subpop\n",
    "quietly: collect: total pillsmax if binaryattitude4==0 & binaryattitude3==0 & subpop\n",
    "quietly: collect: total pillsmax if binaryattitude4==0 & binaryattitude3==1 & subpop\n",
    "quietly: collect layout (result[_r_b]) (cmdset)\n",
    "quietly: collect export \"../tables/plottables/unweighted-counts.xlsx\", replace"
   ]
  },
  {
   "cell_type": "code",
   "execution_count": 49,
   "metadata": {},
   "outputs": [
    {
     "data": {
      "text/html": [
       "<div>\n",
       "<style scoped>\n",
       "    .dataframe tbody tr th:only-of-type {\n",
       "        vertical-align: middle;\n",
       "    }\n",
       "\n",
       "    .dataframe tbody tr th {\n",
       "        vertical-align: top;\n",
       "    }\n",
       "\n",
       "    .dataframe thead th {\n",
       "        text-align: right;\n",
       "    }\n",
       "</style>\n",
       "<table border=\"1\" class=\"dataframe\">\n",
       "  <thead>\n",
       "    <tr style=\"text-align: right;\">\n",
       "      <th></th>\n",
       "      <th>binaryattitude3</th>\n",
       "      <th>binaryattitude4</th>\n",
       "      <th>pillsmax</th>\n",
       "      <th>counts</th>\n",
       "    </tr>\n",
       "  </thead>\n",
       "  <tbody>\n",
       "    <tr>\n",
       "      <th>0</th>\n",
       "      <td>1</td>\n",
       "      <td>0</td>\n",
       "      <td>0</td>\n",
       "      <td>2</td>\n",
       "    </tr>\n",
       "    <tr>\n",
       "      <th>1</th>\n",
       "      <td>1</td>\n",
       "      <td>1</td>\n",
       "      <td>0</td>\n",
       "      <td>24</td>\n",
       "    </tr>\n",
       "    <tr>\n",
       "      <th>2</th>\n",
       "      <td>1</td>\n",
       "      <td>1</td>\n",
       "      <td>1</td>\n",
       "      <td>34</td>\n",
       "    </tr>\n",
       "    <tr>\n",
       "      <th>3</th>\n",
       "      <td>0</td>\n",
       "      <td>1</td>\n",
       "      <td>0</td>\n",
       "      <td>87</td>\n",
       "    </tr>\n",
       "    <tr>\n",
       "      <th>4</th>\n",
       "      <td>0</td>\n",
       "      <td>1</td>\n",
       "      <td>1</td>\n",
       "      <td>83</td>\n",
       "    </tr>\n",
       "    <tr>\n",
       "      <th>5</th>\n",
       "      <td>0</td>\n",
       "      <td>0</td>\n",
       "      <td>1</td>\n",
       "      <td>18</td>\n",
       "    </tr>\n",
       "    <tr>\n",
       "      <th>6</th>\n",
       "      <td>1</td>\n",
       "      <td>0</td>\n",
       "      <td>1</td>\n",
       "      <td>1</td>\n",
       "    </tr>\n",
       "  </tbody>\n",
       "</table>\n",
       "</div>"
      ],
      "text/plain": [
       "   binaryattitude3  binaryattitude4  pillsmax counts\n",
       "0                1                0         0      2\n",
       "1                1                1         0     24\n",
       "2                1                1         1     34\n",
       "3                0                1         0     87\n",
       "4                0                1         1     83\n",
       "5                0                0         1     18\n",
       "6                1                0         1      1"
      ]
     },
     "execution_count": 49,
     "metadata": {},
     "output_type": "execute_result"
    }
   ],
   "source": [
    "var_patterns = pd.DataFrame([[1,0,0], [1,1,0], [1,1,1], [0,1,0], [0,1,1], [0,0,1], [1,0,1]],\n",
    "                            columns=['binaryattitude3', 'binaryattitude4', 'pillsmax'])\n",
    "counts = pd.read_excel('../tables/plottables/unweighted-counts.xlsx')\n",
    "var_patterns['counts'] = np.array(counts.iloc[0,1:8])\n",
    "var_patterns"
   ]
  },
  {
   "cell_type": "code",
   "execution_count": 50,
   "metadata": {},
   "outputs": [
    {
     "data": {
      "image/png": "[encoded data removed]",
      "text/plain": [
       "<Figure size 1080x504 with 1 Axes>"
      ]
     },
     "metadata": {},
     "output_type": "display_data"
    }
   ],
   "source": [
    "plt.rcParams['figure.figsize'] = [15, 7]\n",
    "our_venn3_subsets = [var_patterns['counts'][0],\n",
    "                    var_patterns['counts'][3],\n",
    "                    var_patterns['counts'][1],\n",
    "                    var_patterns['counts'][5],\n",
    "                    var_patterns['counts'][6],\n",
    "                    var_patterns['counts'][4],\n",
    "                    var_patterns['counts'][2]]\n",
    "\n",
    "count_venn = venn3(subsets = our_venn3_subsets,\n",
    "      set_labels = ('Believe At Least One\\nMedication No Longer Needed', 'Willing To Deprescribe\\nIf Doctor Said Possible', 'Uncomfortable Taking 5 Or More Pills'),\n",
    "      set_colors =('#E47833', '#BDA0CB', 'gold'),\n",
    "      alpha = 0.5);\n",
    "\n",
    "plt.savefig('../plots/venn-3way-count.png', bbox_inches='tight')\n",
    "plt.show()"
   ]
  },
  {
   "cell_type": "markdown",
   "metadata": {},
   "source": [
    "The above graph considers a **sample of 338** who answered all three outcomes.\n",
    "\n",
    "In order to produce this table, I used the marginal survey-weighted probabilities of the `pillsmax` variable."
   ]
  },
  {
   "cell_type": "code",
   "execution_count": 51,
   "metadata": {},
   "outputs": [],
   "source": [
    "not_uncomfortable = float(pillsmax.iloc[1,0])"
   ]
  },
  {
   "cell_type": "code",
   "execution_count": 52,
   "metadata": {},
   "outputs": [],
   "source": [
    "all3_pm0 = createVennDiagram('../tables/plottables/binaryattitude3-binaryattitude4-pillsmax0.csv', False)\n",
    "all3_pm0['disagree'] = pd.to_numeric(all3_pm0['disagree'])\n",
    "all3_pm0['agree'] = pd.to_numeric(all3_pm0['agree'])\n",
    "all3_pm0['Total'] = pd.to_numeric(all3_pm0['Total'])"
   ]
  },
  {
   "cell_type": "code",
   "execution_count": 53,
   "metadata": {},
   "outputs": [
    {
     "data": {
      "text/html": [
       "<div>\n",
       "<style scoped>\n",
       "    .dataframe tbody tr th:only-of-type {\n",
       "        vertical-align: middle;\n",
       "    }\n",
       "\n",
       "    .dataframe tbody tr th {\n",
       "        vertical-align: top;\n",
       "    }\n",
       "\n",
       "    .dataframe thead th {\n",
       "        text-align: right;\n",
       "    }\n",
       "</style>\n",
       "<table border=\"1\" class=\"dataframe\">\n",
       "  <thead>\n",
       "    <tr style=\"text-align: right;\">\n",
       "      <th></th>\n",
       "      <th>binary, take more meds than needed</th>\n",
       "      <th>disagree</th>\n",
       "      <th>agree</th>\n",
       "      <th>Total</th>\n",
       "    </tr>\n",
       "  </thead>\n",
       "  <tbody>\n",
       "    <tr>\n",
       "      <th>1</th>\n",
       "      <td>disagree</td>\n",
       "      <td>3.3</td>\n",
       "      <td>31.5</td>\n",
       "      <td>34.8</td>\n",
       "    </tr>\n",
       "    <tr>\n",
       "      <th>2</th>\n",
       "      <td>agree</td>\n",
       "      <td>1.2</td>\n",
       "      <td>10.6</td>\n",
       "      <td>11.8</td>\n",
       "    </tr>\n",
       "    <tr>\n",
       "      <th>3</th>\n",
       "      <td>Total</td>\n",
       "      <td>4.5</td>\n",
       "      <td>42.1</td>\n",
       "      <td>46.6</td>\n",
       "    </tr>\n",
       "  </tbody>\n",
       "</table>\n",
       "</div>"
      ],
      "text/plain": [
       "  binary, take more meds than needed  disagree  agree  Total\n",
       "1                           disagree       3.3   31.5   34.8\n",
       "2                              agree       1.2   10.6   11.8\n",
       "3                              Total       4.5   42.1   46.6"
      ]
     },
     "execution_count": 53,
     "metadata": {},
     "output_type": "execute_result"
    }
   ],
   "source": [
    "all3_pm0.iloc[0:3, 1:4] = round(all3_pm0.iloc[0:3, 1:4] * 100 * not_uncomfortable, 1)\n",
    "all3_pm0"
   ]
  },
  {
   "cell_type": "code",
   "execution_count": 54,
   "metadata": {},
   "outputs": [],
   "source": [
    "uncomfortable = float(pillsmax.iloc[1,1])"
   ]
  },
  {
   "cell_type": "code",
   "execution_count": 55,
   "metadata": {},
   "outputs": [],
   "source": [
    "all3_pm1 = createVennDiagram('../tables/plottables/binaryattitude3-binaryattitude4-pillsmax1.csv', False)\n",
    "all3_pm1['disagree'] = pd.to_numeric(all3_pm1['disagree'])\n",
    "all3_pm1['agree'] = pd.to_numeric(all3_pm1['agree'])\n",
    "all3_pm1['Total'] = pd.to_numeric(all3_pm1['Total'])"
   ]
  },
  {
   "cell_type": "code",
   "execution_count": 56,
   "metadata": {},
   "outputs": [
    {
     "data": {
      "text/html": [
       "<div>\n",
       "<style scoped>\n",
       "    .dataframe tbody tr th:only-of-type {\n",
       "        vertical-align: middle;\n",
       "    }\n",
       "\n",
       "    .dataframe tbody tr th {\n",
       "        vertical-align: top;\n",
       "    }\n",
       "\n",
       "    .dataframe thead th {\n",
       "        text-align: right;\n",
       "    }\n",
       "</style>\n",
       "<table border=\"1\" class=\"dataframe\">\n",
       "  <thead>\n",
       "    <tr style=\"text-align: right;\">\n",
       "      <th></th>\n",
       "      <th>binary, take more meds than needed</th>\n",
       "      <th>disagree</th>\n",
       "      <th>agree</th>\n",
       "      <th>Total</th>\n",
       "    </tr>\n",
       "  </thead>\n",
       "  <tbody>\n",
       "    <tr>\n",
       "      <th>1</th>\n",
       "      <td>disagree</td>\n",
       "      <td>5.0</td>\n",
       "      <td>34.3</td>\n",
       "      <td>39.3</td>\n",
       "    </tr>\n",
       "    <tr>\n",
       "      <th>2</th>\n",
       "      <td>agree</td>\n",
       "      <td>0.2</td>\n",
       "      <td>13.9</td>\n",
       "      <td>14.1</td>\n",
       "    </tr>\n",
       "    <tr>\n",
       "      <th>3</th>\n",
       "      <td>Total</td>\n",
       "      <td>5.2</td>\n",
       "      <td>48.2</td>\n",
       "      <td>53.4</td>\n",
       "    </tr>\n",
       "  </tbody>\n",
       "</table>\n",
       "</div>"
      ],
      "text/plain": [
       "  binary, take more meds than needed  disagree  agree  Total\n",
       "1                           disagree       5.0   34.3   39.3\n",
       "2                              agree       0.2   13.9   14.1\n",
       "3                              Total       5.2   48.2   53.4"
      ]
     },
     "execution_count": 56,
     "metadata": {},
     "output_type": "execute_result"
    }
   ],
   "source": [
    "all3_pm1.iloc[0:3, 1:4] = round(all3_pm1.iloc[0:3, 1:4] * 100 * uncomfortable, 1)\n",
    "all3_pm1"
   ]
  },
  {
   "cell_type": "code",
   "execution_count": 57,
   "metadata": {},
   "outputs": [],
   "source": [
    "# Believe in Taking Excess Meds, but NOT willing to deprescribe or NOT uncomfortable with 5+ pills\n",
    "# all3_pm0['disagree'][1] = 0.9\n",
    "\n",
    "# Willing to deprescribe, but NOT believe to take excess meds or NOT uncomfortable with 5+pills\n",
    "# all3_pm0['agree'][0] = 32.9\n",
    "\n",
    "# Willing to deprescribe AND believes to be taking excess meds, but NOT uncomfortable with 5+ pills\n",
    "# all3_pm0['agree'][1] = 10.6\n",
    "\n",
    "# Uncomfortable with 5+ pills\n",
    "# all3_pm1['Total'][2] -  all3_pm1['agree'][1] = 50.3 - 31 = 19.3\n",
    "\n",
    "# Uncomfortable with 5+ pills AND believes to be taking excess, but NOT willing to deprescribe\n",
    "# all3_pm1['disagree'][1] = 0.6\n",
    "\n",
    "# Uncomfortable with 5+ pills AND willing to deprescribe, but NOT believe to be taking excess\n",
    "# all3_pm1['agree'][0]= 31\n",
    "\n",
    "# Uncomfortable with 5+ pills AND believes to be taking excess AND  willing to deprescribe\n",
    "# all3_pm1['agree'][1] = 13.2\n",
    "\n",
    "#our_venn3_subsets = [(13.8+11.4)-(10.6+13.2), (44.2+43.4)-(10.6+13.2), 10.6+13.2, 50.3-13.8, 13.8, 13.2, 6.1]\n",
    "\n",
    "our_venn3_subsets = [all3_pm0['disagree'][2],\n",
    "                    all3_pm0['agree'][1],\n",
    "                    all3_pm0['agree'][2],\n",
    "                    all3_pm1['disagree'][1],\n",
    "                    all3_pm1['disagree'][2],\n",
    "                    all3_pm1['agree'][1],\n",
    "                    all3_pm1['agree'][2]]\n",
    "our_venn3_subsets = [round(x, 0) for x in our_venn3_subsets]"
   ]
  },
  {
   "cell_type": "code",
   "execution_count": 58,
   "metadata": {},
   "outputs": [
    {
     "data": {
      "text/plain": [
       "[1.0, 32.0, 11.0, 5.0, 0.0, 34.0, 14.0]"
      ]
     },
     "execution_count": 58,
     "metadata": {},
     "output_type": "execute_result"
    }
   ],
   "source": [
    "our_venn3_subsets"
   ]
  },
  {
   "cell_type": "code",
   "execution_count": 59,
   "metadata": {},
   "outputs": [
    {
     "data": {
      "text/plain": [
       "[1, 32, 11, 5, 0, 34, 14]"
      ]
     },
     "execution_count": 59,
     "metadata": {},
     "output_type": "execute_result"
    }
   ],
   "source": [
    "our_venn3_subsets2 = [int(round(k, 0)) for k in our_venn3_subsets]\n",
    "our_venn3_subsets2"
   ]
  },
  {
   "cell_type": "code",
   "execution_count": 60,
   "metadata": {},
   "outputs": [
    {
     "data": {
      "image/png": "[encoded data removed]",
      "text/plain": [
       "<Figure size 1080x504 with 1 Axes>"
      ]
     },
     "metadata": {},
     "output_type": "display_data"
    }
   ],
   "source": [
    "our_values = [1, 32, 11, 5, 0, 34, 14]\n",
    "v = venn3(subsets = [1, 33, 10, 6, 1, 31, 13],\n",
    "      set_labels = ('Believe At Least One\\nMedication No Longer Needed', 'Willing To Deprescribe\\nIf Doctor Said Possible', 'Uncomfortable Taking 5 Or More Pills'),\n",
    "      set_colors =('#E47833', '#BDA0CB', 'gold'),\n",
    "      alpha = 0.5)\n",
    "\n",
    "our_values2 = [1, 32, 11, 5, 34, 14]\n",
    "labels = ['100', '010', '110', '001', '011', '111']\n",
    "\n",
    "for k in range(0, len(labels)):\n",
    "    this_label = labels[k]\n",
    "    this_percent = str(our_values2[k]) + '%' \n",
    "    \n",
    "    v.get_label_by_id(this_label).set_text(this_percent)\n",
    "\n",
    "plt.savefig('../plots/venn-3way-svy.png', bbox_inches='tight')\n",
    "plt.show()"
   ]
  },
  {
   "cell_type": "markdown",
   "metadata": {},
   "source": [
    "There are very few people here who are \"discordant\" in their belief."
   ]
  },
  {
   "cell_type": "markdown",
   "metadata": {},
   "source": [
    "## Resources\n",
    "1. <a href='https://www.stata.com/new-in-stata/jupyter-notebooks/'>STATA's Intro to Jupyter Notebook</a> for use in STATA 17\n",
    "2. <a href='https://stackoverflow.com/questions/36367986/how-to-make-inline-plots-in-jupyter-notebook-larger'>Making Plots Larger</a>, forgot how"
   ]
  }
 ],
 "metadata": {
  "kernelspec": {
   "display_name": "Python 3",
   "language": "python",
   "name": "python3"
  },
  "language_info": {
   "codemirror_mode": {
    "name": "ipython",
    "version": 3
   },
   "file_extension": ".py",
   "mimetype": "text/x-python",
   "name": "python",
   "nbconvert_exporter": "python",
   "pygments_lexer": "ipython3",
   "version": "3.7.4"
  }
 },
 "nbformat": 4,
 "nbformat_minor": 2
}
